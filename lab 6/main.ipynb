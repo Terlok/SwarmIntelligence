{
 "cells": [
  {
   "cell_type": "code",
   "execution_count": 3,
   "metadata": {},
   "outputs": [],
   "source": [
    "import openpyxl\n",
    "import numpy as np\n",
    "from functions import *\n",
    "from DE import DifferentialEvolution\n",
    "from PSO import ParticleSwarmOptimization\n",
    "from visualizer import create_folders, Visualizer\n",
    "\n",
    "create_folders()"
   ]
  },
  {
   "cell_type": "code",
   "execution_count": 13,
   "metadata": {},
   "outputs": [
    {
     "name": "stdout",
     "output_type": "stream",
     "text": [
      "Var01 [[77.6, 114.9, 141.1, 190.8, 239.9, 289, 332.8, 378.4, 434.8, 477.3, 536.8, 593.1, 689.1, 760], [10.07, 14.73, 17.94, 23.93, 29.61, 35.18, 40.02, 44.82, 50.76, 55.05, 61.01, 66.4, 75.47, 81.78]]\n",
      "Var11 [[77.6, 114.9, 141.1, 190.8, 239.9, 289, 332.8, 378.4, 434.8, 477.3, 536.8, 593.1, 689.1, 760], [10.07, 14.73, 17.94, 23.93, 29.61, 35.18, 40.02, 44.82, 50.76, 55.05, 61.01, 66.4, 75.47, 81.78]]\n",
      "Var16 [[400, 405, 410, 415, 420, 425, 430, 435, 436.5, 438, 439.5, 441, 442.5, 444, 445.5, 447, 448.5, 450, 451.5, 453, 454.5, 456, 457.5, 459, 460.5, 462, 463.5, 465, 470, 475, 480, 485, 490, 495, 500], [0.0001575, 0.0001699, 0.000235, 0.0003102, 0.0004917, 0.000871, 0.0017418, 0.00464, 0.0065895, 0.0097302, 0.0149002, 0.023731, 0.0401683, 0.0712559, 0.1264458, 0.2073413, 0.2902366, 0.3445623, 0.3698049, 0.3668534, 0.3106727, 0.2078154, 0.1164354, 0.0616764, 0.03372, 0.0194023, 0.0117831, 0.0074357, 0.0022732, 0.00088, 0.0004579, 0.0002345, 0.0001586, 0.0001143, 7.1e-05]]\n"
     ]
    }
   ],
   "source": [
    "workbook = openpyxl.load_workbook('DataRegression.xlsx')\n",
    "values = {'Var01': [[], []], 'Var11': [[], []], 'Var16': [[], []]}\n",
    "\n",
    "for sheet_name in values.keys():\n",
    "    sheet = workbook[sheet_name]\n",
    "\n",
    "    for row in sheet.iter_rows(values_only=True):\n",
    "        y, x = row\n",
    "        if x != 'x' or y != 'y':\n",
    "            values[f'{sheet_name}'][0].append(x)\n",
    "            values[f'{sheet_name}'][1].append(y)\n",
    "\n",
    "for key, value in values.items():\n",
    "    print(key, value)"
   ]
  },
  {
   "cell_type": "markdown",
   "metadata": {},
   "source": [
    "### Метод диференціальної еволюції"
   ]
  },
  {
   "cell_type": "code",
   "execution_count": null,
   "metadata": {},
   "outputs": [],
   "source": [
    "bounds = [(0, 100), (0, 1)]\n",
    "\n",
    "de = DifferentialEvolution(Var01, bounds, values['Var01'])\n",
    "best_params, best_fitness = de.optimize()\n",
    "\n",
    "print('Best b1 & b2:', best_params)\n",
    "print('Best fitness:', best_fitness)\n",
    "\n",
    "v = Visualizer('DE', 'Var01', de.param) \n",
    "v.distance()"
   ]
  },
  {
   "cell_type": "markdown",
   "metadata": {},
   "source": [
    "### Алгоритм оптимізації роєм частинок"
   ]
  },
  {
   "cell_type": "code",
   "execution_count": null,
   "metadata": {},
   "outputs": [],
   "source": [
    "bounds = [(0, 100), (0, 1)]\n",
    "\n",
    "pso = ParticleSwarmOptimization(Var01, bounds, values['Var01'])\n",
    "best_params, best_fitness = pso.optimize()\n",
    "\n",
    "print('Best b1 & b2:', best_params)\n",
    "print('Best fitness:', best_fitness)\n",
    "\n",
    "v = Visualizer('PSO', 'Var01', pso.param) \n",
    "v.distance()"
   ]
  },
  {
   "cell_type": "markdown",
   "metadata": {},
   "source": [
    "# Not Main"
   ]
  },
  {
   "cell_type": "code",
   "execution_count": 2,
   "metadata": {},
   "outputs": [
    {
     "name": "stdout",
     "output_type": "stream",
     "text": [
      "Найкращі параметри b1 та b2: [1.00000000e+02 1.70090065e-03]\n",
      "Значення фітнес функції: 16.060409281730834\n"
     ]
    }
   ],
   "source": [
    "import numpy as np\n",
    "\n",
    "class DifferentialEvolution:\n",
    "    def __init__(self, bounds, x, y, pop_size=50, mutation=0.8, crossover=0.7, max_iter=1000, tol=1e-6):\n",
    "        self.bounds = bounds\n",
    "        self.x = x\n",
    "        self.y = y\n",
    "        self.pop_size = pop_size\n",
    "        self.mutation = mutation\n",
    "        self.crossover = crossover\n",
    "        self.max_iter = max_iter\n",
    "        self.tol = tol\n",
    "        self.param = {'fit': []}\n",
    "\n",
    "    def func(self, x, b1, b2):\n",
    "        return b1 * (1 - np.exp(-b2 * x))\n",
    "\n",
    "    def optimize(self):\n",
    "        num_params = len(self.bounds)\n",
    "        pop = np.random.rand(self.pop_size, num_params)\n",
    "        min_b, max_b = np.asarray(self.bounds).T\n",
    "        diff = np.fabs(min_b - max_b)\n",
    "        pop_denorm = min_b + pop * diff\n",
    "\n",
    "        fitness = np.asarray([np.mean((self.func(self.x, *ind) - self.y) ** 2) for ind in pop_denorm])\n",
    "        best_idx = np.argmin(fitness)\n",
    "        best_params = pop_denorm[best_idx]\n",
    "        for _ in range(self.max_iter):\n",
    "            for j in range(self.pop_size):\n",
    "                idxs = [idx for idx in range(self.pop_size) if idx != j]\n",
    "                a, b, c = pop[np.random.choice(idxs, 3, replace=False)]\n",
    "                mutant = np.clip(a + self.mutation * (b - c), 0, 1)\n",
    "                cross_points = np.random.rand(num_params) < self.crossover\n",
    "                if not np.any(cross_points):\n",
    "                    cross_points[np.random.randint(0, num_params)] = True\n",
    "                trial = np.where(cross_points, mutant, pop[j])\n",
    "                trial_denorm = min_b + trial * diff\n",
    "                f = np.mean((self.func(self.x, *trial_denorm) - self.y) ** 2)\n",
    "                if f < fitness[j]:\n",
    "                    fitness[j] = f\n",
    "                    pop[j] = trial\n",
    "                    if f < fitness[best_idx]:\n",
    "                        best_idx = j\n",
    "                        best_params = trial_denorm\n",
    "            self.param['fit'].append(fitness.copy())\n",
    "            if np.std(fitness) < self.tol:\n",
    "                break\n",
    "        best_fitness = np.mean((self.func(self.x, *best_params) - self.y) ** 2)\n",
    "        return best_params, best_fitness\n",
    "\n",
    "bounds = [(0, 100), (0, 1),]\n",
    "x = np.array([77.6, 114.9, 141.1, 190.8, 239.9, 289, 332.8, 378.4, 434.8, 477.3, 536.8, 593.1, 689.1, 760])\n",
    "y = np.array([10.07, 14.73, 17.94, 23.93, 29.61, 35.18, 40.02, 44.82, 50.76, 55.05, 61.01, 66.4, 75.47, 81.78])\n",
    "\n",
    "de = DifferentialEvolution(bounds, x, y)\n",
    "best_params, best_fitness = de.optimize()\n",
    "print(\"Найкращі параметри b1 та b2:\", best_params)\n",
    "print(\"Значення фітнес функції:\", best_fitness)"
   ]
  },
  {
   "cell_type": "code",
   "execution_count": 59,
   "metadata": {},
   "outputs": [
    {
     "name": "stdout",
     "output_type": "stream",
     "text": [
      "Найкращі параметри b1 та b2: [1.00000000e+02 1.69659931e-03]\n",
      "Значення функції в найкращій точці: 16.066564634168735\n"
     ]
    }
   ],
   "source": [
    "import numpy as np\n",
    "\n",
    "class ParticleSwarmOptimization:\n",
    "    def __init__(self, func, bounds, x, y, num_particles=50, max_iter=1000, tol=1e-6):\n",
    "        self.func = func\n",
    "        self.bounds = bounds\n",
    "        self.x = x\n",
    "        self.y = y\n",
    "        self.num_particles = num_particles\n",
    "        self.max_iter = max_iter\n",
    "        self.tol = tol\n",
    "        self.param = {'fit': []}\n",
    "\n",
    "    def optimize(self):\n",
    "        num_params = len(self.bounds)\n",
    "        min_bound, max_bound = np.asarray(self.bounds).T\n",
    "        bounds_diff = np.fabs(min_bound - max_bound)\n",
    "\n",
    "        # Ініціалізація рою частинок\n",
    "        particles = np.random.rand(self.num_particles, num_params) * bounds_diff + min_bound\n",
    "        velocities = np.zeros((self.num_particles, num_params))\n",
    "        best_particle_pos = particles.copy()\n",
    "        best_swarm_pos = None\n",
    "        best_swarm_val = np.inf\n",
    "\n",
    "        for _ in range(self.max_iter):\n",
    "            for j in range(self.num_particles):\n",
    "                val = self.func(self.x, *particles[j])\n",
    "                if val < best_swarm_val:\n",
    "                    best_swarm_val = val\n",
    "                    best_swarm_pos = particles[j].copy()\n",
    "            # Оновлення швидкостей та позицій частинок\n",
    "            r1, r2 = np.random.rand(2, num_params)\n",
    "            velocities = velocities + (r1 * (best_particle_pos - particles) +\n",
    "                                       r2 * (best_swarm_pos - particles))\n",
    "            particles = particles + velocities\n",
    "\n",
    "            # Обмеження позицій частинок в межах\n",
    "            particles = np.clip(particles, min_bound, max_bound)\n",
    "            \n",
    "            self.param['fit'].append([best_swarm_val])\n",
    "\n",
    "            # Критерій зупинки\n",
    "            if np.std(best_particle_pos) < self.tol:\n",
    "                break\n",
    "\n",
    "        return best_swarm_pos, best_swarm_val\n",
    "\n",
    "    @staticmethod\n",
    "    def regression_func(x, b1, b2):\n",
    "        return np.mean((b1 * (1 - np.exp(-b2 * x)) - y) ** 2)\n",
    "\n",
    "bounds = [(0, 100), (0, 1)]\n",
    "x = np.array([77.6, 114.9, 141.1, 190.8, 239.9, 289, 332.8, 378.4, 434.8, 477.3, 536.8, 593.1, 689.1, 760])\n",
    "y = np.array([10.07, 14.73, 17.94, 23.93, 29.61, 35.18, 40.02, 44.82, 50.76, 55.05, 61.01, 66.4, 75.47, 81.78])\n",
    "\n",
    "pso = ParticleSwarmOptimization(ParticleSwarmOptimization.regression_func, bounds, x, y)\n",
    "best_params, best_fitness = pso.optimize()\n",
    "print(\"Найкращі параметри b1 та b2:\", best_params)\n",
    "print(\"Значення функції в найкращій точці:\", best_fitness)"
   ]
  }
 ],
 "metadata": {
  "kernelspec": {
   "display_name": "Python 3",
   "language": "python",
   "name": "python3"
  },
  "language_info": {
   "codemirror_mode": {
    "name": "ipython",
    "version": 3
   },
   "file_extension": ".py",
   "mimetype": "text/x-python",
   "name": "python",
   "nbconvert_exporter": "python",
   "pygments_lexer": "ipython3",
   "version": "3.12.2"
  }
 },
 "nbformat": 4,
 "nbformat_minor": 2
}
