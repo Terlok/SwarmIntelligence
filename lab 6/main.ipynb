{
 "cells": [
  {
   "cell_type": "code",
   "execution_count": 1,
   "metadata": {},
   "outputs": [],
   "source": [
    "import openpyxl\n",
    "import numpy as np\n",
    "from functions import *\n",
    "from DE import DifferentialEvolution\n",
    "from PSO import ParticleSwarmOptimization\n",
    "from visualizer import create_folders, Visualizer\n",
    "\n",
    "create_folders()"
   ]
  },
  {
   "cell_type": "code",
   "execution_count": 2,
   "metadata": {},
   "outputs": [
    {
     "name": "stdout",
     "output_type": "stream",
     "text": [
      "Var01 [[77.6, 114.9, 141.1, 190.8, 239.9, 289, 332.8, 378.4, 434.8, 477.3, 536.8, 593.1, 689.1, 760], [10.07, 14.73, 17.94, 23.93, 29.61, 35.18, 40.02, 44.82, 50.76, 55.05, 61.01, 66.4, 75.47, 81.78]]\n",
      "Var11 [[77.6, 114.9, 141.1, 190.8, 239.9, 289, 332.8, 378.4, 434.8, 477.3, 536.8, 593.1, 689.1, 760], [10.07, 14.73, 17.94, 23.93, 29.61, 35.18, 40.02, 44.82, 50.76, 55.05, 61.01, 66.4, 75.47, 81.78]]\n",
      "Var16 [[400, 405, 410, 415, 420, 425, 430, 435, 436.5, 438, 439.5, 441, 442.5, 444, 445.5, 447, 448.5, 450, 451.5, 453, 454.5, 456, 457.5, 459, 460.5, 462, 463.5, 465, 470, 475, 480, 485, 490, 495, 500], [0.0001575, 0.0001699, 0.000235, 0.0003102, 0.0004917, 0.000871, 0.0017418, 0.00464, 0.0065895, 0.0097302, 0.0149002, 0.023731, 0.0401683, 0.0712559, 0.1264458, 0.2073413, 0.2902366, 0.3445623, 0.3698049, 0.3668534, 0.3106727, 0.2078154, 0.1164354, 0.0616764, 0.03372, 0.0194023, 0.0117831, 0.0074357, 0.0022732, 0.00088, 0.0004579, 0.0002345, 0.0001586, 0.0001143, 7.1e-05]]\n"
     ]
    }
   ],
   "source": [
    "workbook = openpyxl.load_workbook('DataRegression.xlsx')\n",
    "values = {'Var01': [[], []], 'Var11': [[], []], 'Var16': [[], []]}\n",
    "\n",
    "for sheet_name in values.keys():\n",
    "    sheet = workbook[sheet_name]\n",
    "\n",
    "    for row in sheet.iter_rows(values_only=True):\n",
    "        y, x = row\n",
    "        if x != 'x' or y != 'y':\n",
    "            values[f'{sheet_name}'][0].append(x)\n",
    "            values[f'{sheet_name}'][1].append(y)\n",
    "\n",
    "for key, value in values.items():\n",
    "    print(key, value)"
   ]
  },
  {
   "cell_type": "markdown",
   "metadata": {},
   "source": [
    "### Метод диференціальної еволюції"
   ]
  },
  {
   "cell_type": "code",
   "execution_count": 3,
   "metadata": {},
   "outputs": [
    {
     "name": "stdout",
     "output_type": "stream",
     "text": [
      "Best b1 & b2: [1.00000000e+02 1.70090001e-03]\n",
      "Best fitness: 16.06040928171482\n"
     ]
    }
   ],
   "source": [
    "bounds = [(0, 100), (0, 1)]\n",
    "\n",
    "de = DifferentialEvolution(Var01, bounds, values['Var01'])\n",
    "best_params, best_fitness = de.optimize()\n",
    "\n",
    "print('Best b1 & b2:', best_params)\n",
    "print('Best fitness:', best_fitness)\n",
    "\n",
    "v = Visualizer(algorithm='DE', file_name='Var01', data=de.param) \n",
    "v.distance()"
   ]
  },
  {
   "cell_type": "code",
   "execution_count": 5,
   "metadata": {},
   "outputs": [
    {
     "name": "stdout",
     "output_type": "stream",
     "text": [
      "Best b1 & b2: [1000.    1.]\n",
      "Best fitness: 2150.949293262208\n"
     ]
    }
   ],
   "source": [
    "bounds = [(100, 1000), (0, 1)]\n",
    "\n",
    "de = DifferentialEvolution(Var11, bounds, values['Var11'])\n",
    "best_params, best_fitness = de.optimize()\n",
    "\n",
    "print('Best b1 & b2:', best_params)\n",
    "print('Best fitness:', best_fitness)\n",
    "\n",
    "v = Visualizer(algorithm='DE', file_name='Var11', data=de.param) \n",
    "v.distance()"
   ]
  },
  {
   "cell_type": "code",
   "execution_count": 10,
   "metadata": {},
   "outputs": [
    {
     "name": "stdout",
     "output_type": "stream",
     "text": [
      "Best b1 & b2: [  1.55425104   4.08836279 451.541855  ]\n",
      "Best fitness: 4.1817191119171354e-05\n"
     ]
    }
   ],
   "source": [
    "bounds = [(1, 10), (1, 10), (100, 1000)]\n",
    "\n",
    "de = DifferentialEvolution(Var16, bounds, values['Var16'], tol=1e-8)\n",
    "best_params, best_fitness = de.optimize()\n",
    "\n",
    "print('Best b1 & b2:', best_params)\n",
    "print('Best fitness:', best_fitness)\n",
    "\n",
    "v = Visualizer(algorithm='DE', file_name='Var16', data=de.param) \n",
    "v.distance()"
   ]
  },
  {
   "cell_type": "markdown",
   "metadata": {},
   "source": [
    "### Алгоритм оптимізації роєм частинок"
   ]
  },
  {
   "cell_type": "code",
   "execution_count": 4,
   "metadata": {},
   "outputs": [
    {
     "name": "stdout",
     "output_type": "stream",
     "text": [
      "Best b1 & b2: [1.00000000e+02 1.70603812e-03]\n",
      "Best fitness: 16.069155305820818\n"
     ]
    }
   ],
   "source": [
    "bounds = [(0, 100), (0, 1)]\n",
    "\n",
    "pso = ParticleSwarmOptimization(Var01, bounds, values['Var01'])\n",
    "best_params, best_fitness = pso.optimize()\n",
    "\n",
    "print('Best b1 & b2:', best_params)\n",
    "print('Best fitness:', best_fitness)\n",
    "\n",
    "v = Visualizer(algorithm='PSO', file_name='Var01', data=pso.param) \n",
    "v.distance()"
   ]
  },
  {
   "cell_type": "code",
   "execution_count": 7,
   "metadata": {},
   "outputs": [
    {
     "name": "stdout",
     "output_type": "stream",
     "text": [
      "Best b1 & b2: [1000.    1.]\n",
      "Best fitness: 2150.949293262208\n"
     ]
    }
   ],
   "source": [
    "bounds = [(100, 1000), (0, 1)]\n",
    "\n",
    "pso = ParticleSwarmOptimization(Var11, bounds, values['Var11'])\n",
    "best_params, best_fitness = pso.optimize()\n",
    "\n",
    "print('Best b1 & b2:', best_params)\n",
    "print('Best fitness:', best_fitness)\n",
    "\n",
    "v = Visualizer(algorithm='PSO', file_name='Var11', data=pso.param) \n",
    "v.distance()"
   ]
  },
  {
   "cell_type": "code",
   "execution_count": 8,
   "metadata": {},
   "outputs": [
    {
     "name": "stdout",
     "output_type": "stream",
     "text": [
      "Best b1 & b2: [  1.62209744   4.18243361 451.79493998]\n",
      "Best fitness: 0.0001070284582034349\n"
     ]
    }
   ],
   "source": [
    "bounds = [(1, 10), (1, 10), (100, 1000)]\n",
    "\n",
    "pso = ParticleSwarmOptimization(Var16, bounds, values['Var16'])\n",
    "best_params, best_fitness = pso.optimize()\n",
    "\n",
    "print('Best b1 & b2:', best_params)\n",
    "print('Best fitness:', best_fitness)\n",
    "\n",
    "v = Visualizer(algorithm='PSO', file_name='Var16', data=pso.param) \n",
    "v.distance()"
   ]
  }
 ],
 "metadata": {
  "kernelspec": {
   "display_name": "Python 3",
   "language": "python",
   "name": "python3"
  },
  "language_info": {
   "codemirror_mode": {
    "name": "ipython",
    "version": 3
   },
   "file_extension": ".py",
   "mimetype": "text/x-python",
   "name": "python",
   "nbconvert_exporter": "python",
   "pygments_lexer": "ipython3",
   "version": "3.12.2"
  }
 },
 "nbformat": 4,
 "nbformat_minor": 2
}
