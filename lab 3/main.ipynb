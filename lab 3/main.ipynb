{
 "cells": [
  {
   "cell_type": "code",
   "execution_count": 79,
   "metadata": {},
   "outputs": [],
   "source": [
    "import random \n",
    "import numpy as np\n",
    "\n",
    "class BatAlgorithm():\n",
    "    def __init__(self, D, NP, N_Gen, A, r, Qmin, Qmax, Lower, Upper, function):\n",
    "        self.D = D  #dimension\n",
    "        self.NP = NP  #population size \n",
    "        self.N_Gen = N_Gen  #generations\n",
    "        self.A = A  #loudness\n",
    "        self.r = r  #pulse rate\n",
    "        self.Qmin = Qmin  #frequency min\n",
    "        self.Qmax = Qmax  #frequency max\n",
    "        self.Lower = Lower  #lower bound\n",
    "        self.Upper = Upper  #upper bound\n",
    "\n",
    "        self.f_min = 0.0  #minimum fitness\n",
    "        \n",
    "        self.Lb = [0] * self.D  #lower bound\n",
    "        self.Ub = [0] * self.D  #upper bound\n",
    "        self.Q = [0] * self.NP  #frequency\n",
    "\n",
    "        self.v = [[0 for i in range(self.D)] for j in range(self.NP)]  #velocity\n",
    "        self.Sol = [[0 for i in range(self.D)] for j in range(self.NP)]  #population of solutions\n",
    "        self.Fitness = [0] * self.NP  #fitness\n",
    "        self.best = [0] * self.D  #best solution\n",
    "        self.Fun = function\n",
    "\n",
    "\n",
    "    def best_bat(self):\n",
    "        i = 0\n",
    "        j = 0\n",
    "        for i in range(self.NP):\n",
    "            if self.Fitness[i] < self.Fitness[j]:\n",
    "                j = i\n",
    "        for i in range(self.D):\n",
    "            self.best[i] = self.Sol[j][i]\n",
    "        self.f_min = self.Fitness[j]\n",
    "\n",
    "    def init_bat(self):\n",
    "        for i in range(self.D):\n",
    "            self.Lb[i] = self.Lower\n",
    "            self.Ub[i] = self.Upper\n",
    "\n",
    "        for i in range(self.NP):\n",
    "            self.Q[i] = 0\n",
    "            for j in range(self.D):\n",
    "                rnd = np.random.uniform(0, 1)\n",
    "                self.v[i][j] = 0.0\n",
    "                self.Sol[i][j] = self.Lb[j] + (self.Ub[j] - self.Lb[j]) * rnd\n",
    "            self.Fitness[i] = self.Fun(self.Sol[i])\n",
    "        self.best_bat()\n",
    "\n",
    "    def simplebounds(self, val, lower, upper):\n",
    "        if val < lower:\n",
    "            val = lower\n",
    "        if val > upper:\n",
    "            val = upper\n",
    "        return val\n",
    "\n",
    "    def move_bat(self):\n",
    "        S = [[0.0 for i in range(self.D)] for j in range(self.NP)]\n",
    "\n",
    "        self.init_bat()\n",
    "\n",
    "        for _ in range(self.N_Gen):\n",
    "            for i in range(self.NP):\n",
    "                rnd = np.random.uniform(0, 1)\n",
    "                self.Q[i] = self.Qmin + (self.Qmax - self.Qmin) * rnd\n",
    "                for j in range(self.D):\n",
    "                    self.v[i][j] = self.v[i][j] + (self.Sol[i][j] -  self.best[j]) * self.Q[i]\n",
    "                    S[i][j] = self.Sol[i][j] + self.v[i][j]\n",
    "\n",
    "                    S[i][j] = self.simplebounds(S[i][j], self.Lb[j],\n",
    "                                                self.Ub[j])\n",
    "\n",
    "                rnd = np.random.random_sample()\n",
    "\n",
    "                if rnd > self.r:\n",
    "                    for j in range(self.D):\n",
    "                        S[i][j] = self.best[j] + 0.001 * random.gauss(0, 1)\n",
    "                        S[i][j] = self.simplebounds(S[i][j], self.Lb[j],\n",
    "                                                self.Ub[j])\n",
    "                        \n",
    "                Fnew = self.Fun(S[i])\n",
    "\n",
    "                rnd = np.random.random_sample()\n",
    "\n",
    "                if (Fnew <= self.Fitness[i]) and (rnd < self.A):\n",
    "                    for j in range(self.D):\n",
    "                        self.Sol[i][j] = S[i][j]\n",
    "                    self.Fitness[i] = Fnew\n",
    "\n",
    "                if Fnew <= self.f_min:\n",
    "                    for j in range(self.D):\n",
    "                        self.best[j] = S[i][j]\n",
    "                    self.f_min = Fnew\n",
    "\n",
    "        print(self.f_min)"
   ]
  },
  {
   "cell_type": "code",
   "execution_count": 94,
   "metadata": {},
   "outputs": [
    {
     "name": "stdout",
     "output_type": "stream",
     "text": [
      "0.9949591860847846\n"
     ]
    }
   ],
   "source": [
    "import random\n",
    "\n",
    "def rastrigin(X):\n",
    "    n = len(X)\n",
    "    result = 0\n",
    "    for xi in X:\n",
    "        xi = np.array(xi)\n",
    "        result += xi**2 - 10 * np.cos(2 * np.pi * xi)\n",
    "    return 10 * n + result\n",
    "\n",
    "for i in range(1):\n",
    "    Algorithm = BatAlgorithm(2, 50, 200, 0.5, 0.5, 0, 2, -5.12, 5.12, rastrigin)\n",
    "    Algorithm.move_bat()"
   ]
  },
  {
   "cell_type": "code",
   "execution_count": 70,
   "metadata": {},
   "outputs": [
    {
     "name": "stdout",
     "output_type": "stream",
     "text": [
      "[(-1.2120297800065112, -2.5682419028828702), (3.1737532147752523, -0.09883482224721796), (0.0, 3.0), (0.3963637862327314, 3.761410855610708), (-3.962361514136271, -4.552362191090972)]\n"
     ]
    }
   ],
   "source": [
    "pop_size=5\n",
    "bounds=[[-5.12, 5.12]]*2\n",
    "\n",
    "def initPopulation(bounds, pop_size):\n",
    "    points = []\n",
    "    for i in range(len(bounds)):\n",
    "        points.append([np.random.uniform(bounds[i][0], bounds[i][1]) if j != 2 else int(np.random.uniform(bounds[i][0], bounds[i][1])) for j in range(pop_size)])\n",
    "    return np.array(points)\n",
    "\n",
    "a = initPopulation(bounds, pop_size)\n",
    "print(list(zip(*a)))"
   ]
  },
  {
   "cell_type": "code",
   "execution_count": 77,
   "metadata": {},
   "outputs": [
    {
     "name": "stdout",
     "output_type": "stream",
     "text": [
      "[1 1]\n"
     ]
    }
   ],
   "source": [
    "b = (-1.2120297800065112, -2.5682419028828702)\n",
    "b = (1, 2)\n",
    "\n",
    "print(np.array((1, 2)) - np.array((0, 1)))"
   ]
  }
 ],
 "metadata": {
  "kernelspec": {
   "display_name": "Python 3",
   "language": "python",
   "name": "python3"
  },
  "language_info": {
   "codemirror_mode": {
    "name": "ipython",
    "version": 3
   },
   "file_extension": ".py",
   "mimetype": "text/x-python",
   "name": "python",
   "nbconvert_exporter": "python",
   "pygments_lexer": "ipython3",
   "version": "3.10.8"
  }
 },
 "nbformat": 4,
 "nbformat_minor": 2
}
