{
 "cells": [
  {
   "cell_type": "code",
   "execution_count": 3,
   "metadata": {},
   "outputs": [],
   "source": [
    "from BAO import *\n",
    "from CSO import *\n",
    "from functions import *\n",
    "from graphics import *"
   ]
  },
  {
   "cell_type": "markdown",
   "metadata": {},
   "source": [
    "### Метод оптимізації зграєю зозуль\n",
    "Функція Растринга"
   ]
  },
  {
   "cell_type": "code",
   "execution_count": null,
   "metadata": {},
   "outputs": [],
   "source": [
    "for i in range(3):\n",
    "    cso1 = cso(rastrigin, pop_size=100, bounds=[[-5.12, 5.12]]*20, nests_count=150, pa=0.75, max_iter=500, stepSize=0.5)\n",
    "    cso1.execute()\n",
    "    print(min(cso1.values['fitness'][-1]))\n",
    "\n",
    "fitness_trend('CSO_Rastrigin', cso1.values['fitness'])\n",
    "best_iteration_values = [min(i) for i in cso1.values['fitness']]\n",
    "distances('CSO_Rastrigin', best_iteration_values)"
   ]
  },
  {
   "cell_type": "markdown",
   "metadata": {},
   "source": [
    "Функція Мішри-Берда (з функціональними обмеженнями)"
   ]
  },
  {
   "cell_type": "code",
   "execution_count": null,
   "metadata": {},
   "outputs": [],
   "source": [
    "for i in range(3):\n",
    "    cso2 = cso(mishras_bird, pop_size=150, max_iter=500, bounds=[[-10, 0], [-6.5, 0]], nests_count=200, pa=0.75, stepSize=0.01)\n",
    "    cso2.execute()\n",
    "    print(min(cso2.values['fitness'][-1]))\n",
    "\n",
    "fitness_trend('CSO_Mishras_bird', cso2.values['fitness'])\n",
    "best_iteration_values = [min(i) for i in cso2.values['fitness']]\n",
    "distances('CSO_Mishras_bird', best_iteration_values)\n",
    "\n",
    "anim = Animation(\"Mishra's Bird function CSO\", cso2.bounds, mishras_bird, cso2.values)\n",
    "anim.animate()"
   ]
  },
  {
   "cell_type": "markdown",
   "metadata": {},
   "source": [
    "### Оптимізація методом зграї кажанів\n",
    "Функція Растринга"
   ]
  },
  {
   "cell_type": "code",
   "execution_count": null,
   "metadata": {},
   "outputs": [],
   "source": [
    "for i in range(3):\n",
    "    bao1 = bao(rastrigin, pop_size=200, bounds=[[-5.12, 5.12]]*20, A=0.7, r=0.7, Qmin=-2, Qmax=2, max_iter=500)\n",
    "    bao1.execute()\n",
    "    print(min(bao1.values['fitness'][-1]))\n",
    "\n",
    "fitness_trend('BAO_Rastrigin', bao1.values['fitness'])\n",
    "best_iteration_values = [min(i) for i in bao1.values['fitness']]\n",
    "distances('BAO_Rastrigin', best_iteration_values)"
   ]
  },
  {
   "cell_type": "markdown",
   "metadata": {},
   "source": [
    "Функція Мішри-Берда (з функціональними обмеженнями)"
   ]
  },
  {
   "cell_type": "code",
   "execution_count": null,
   "metadata": {},
   "outputs": [],
   "source": [
    "for i in range(3):\n",
    "    bao2 = bao(mishras_bird, pop_size=100, bounds=[[-10, 0], [-6.5, 0]], A=0.7, r=0.1, Qmin=-0.6, Qmax=0.6, max_iter=300)\n",
    "    bao2.execute()\n",
    "    print(min(bao2.values['fitness'][-1]))\n",
    "\n",
    "fitness_trend('BAO_Mishras_bird', bao2.values['fitness'])\n",
    "best_iteration_values = [min(i) for i in bao2.values['fitness']]\n",
    "distances('BAO_Mishras_bird', best_iteration_values)\n",
    "\n",
    "anim = Animation(\"Mishra's Bird function BAO\", bao2.bounds, mishras_bird, bao2.values)\n",
    "anim.animate()"
   ]
  },
  {
   "cell_type": "markdown",
   "metadata": {},
   "source": [
    "### Метод стрільби"
   ]
  },
  {
   "cell_type": "code",
   "execution_count": null,
   "metadata": {},
   "outputs": [],
   "source": []
  }
 ],
 "metadata": {
  "kernelspec": {
   "display_name": "Python 3",
   "language": "python",
   "name": "python3"
  },
  "language_info": {
   "codemirror_mode": {
    "name": "ipython",
    "version": 3
   },
   "file_extension": ".py",
   "mimetype": "text/x-python",
   "name": "python",
   "nbconvert_exporter": "python",
   "pygments_lexer": "ipython3",
   "version": "3.10.8"
  }
 },
 "nbformat": 4,
 "nbformat_minor": 2
}
