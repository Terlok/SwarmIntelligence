{
 "cells": [
  {
   "cell_type": "code",
   "execution_count": 6,
   "metadata": {},
   "outputs": [],
   "source": [
    "from GO import GO\n",
    "from Visualizer import *\n",
    "from ACO import ACO\n",
    "from create_data import *\n",
    "\n",
    "create_folders()"
   ]
  },
  {
   "cell_type": "markdown",
   "metadata": {},
   "source": [
    "### Мурашиний алгоритм\n",
    "#### 30 точок"
   ]
  },
  {
   "cell_type": "code",
   "execution_count": 3,
   "metadata": {},
   "outputs": [
    {
     "name": "stdout",
     "output_type": "stream",
     "text": [
      "Best Route: [10, 11, 12, 13, 14, 15, 16, 17, 18, 19, 20, 21, 22, 23, 24, 25, 26, 27, 28, 29, 0, 1, 2, 3, 4, 5, 6, 7, 8, 9]\n",
      "Distance: 6.271707796059204\n"
     ]
    }
   ],
   "source": [
    "data = circle_point(1, 30)\n",
    "aco1 = ACO(colony_size=10, data=data, max_iter=50)\n",
    "aco1.max_min_method()\n",
    "aco_plot = Visualizer('ACO', data, aco1.values, aco1.labels, 'Circle_30_points')\n",
    "aco_plot.best_route(-1)\n",
    "aco_plot.animation()\n",
    "aco_plot.distance()\n",
    "print('Best Route:', aco1.values['best_path'][-1])\n",
    "print('Distance:', aco1.values['distance'][-1])"
   ]
  },
  {
   "cell_type": "code",
   "execution_count": 4,
   "metadata": {},
   "outputs": [
    {
     "name": "stdout",
     "output_type": "stream",
     "text": [
      "Best Route: [15, 6, 3, 5, 27, 13, 19, 8, 7, 1, 16, 25, 14, 21, 11, 28, 18, 23, 22, 2, 20, 29, 17, 24, 0, 10, 26, 12, 9, 4]\n",
      "Distance: 386.1437507176059\n"
     ]
    }
   ],
   "source": [
    "data = random_points(1, 60, 1, 120, 30)\n",
    "aco2 = ACO(colony_size=10, data=data, max_iter=50)\n",
    "aco2.max_min_method()\n",
    "aco_plot = Visualizer('ACO', data, aco2.values, aco2.labels, 'Random_30_points')\n",
    "aco_plot.best_route(-1)\n",
    "aco_plot.animation()\n",
    "aco_plot.distance()\n",
    "print('Best Route:', aco2.values['best_path'][-1])\n",
    "print('Distance:', aco2.values['distance'][-1])"
   ]
  },
  {
   "cell_type": "markdown",
   "metadata": {},
   "source": [
    "#### 50 точок"
   ]
  },
  {
   "cell_type": "code",
   "execution_count": 5,
   "metadata": {},
   "outputs": [
    {
     "name": "stdout",
     "output_type": "stream",
     "text": [
      "Best Route: [41, 42, 43, 44, 45, 46, 47, 48, 49, 0, 1, 2, 3, 4, 5, 6, 7, 8, 9, 10, 11, 12, 13, 14, 15, 16, 17, 18, 19, 20, 21, 22, 23, 24, 25, 26, 27, 28, 29, 30, 31, 32, 33, 34, 35, 36, 37, 38, 39, 40]\n",
      "Distance: 6.279051952931336\n"
     ]
    }
   ],
   "source": [
    "data = circle_point(1, 50)\n",
    "aco3 = ACO(colony_size=10, data=data, max_iter=50)\n",
    "aco3.max_min_method()\n",
    "aco_plot = Visualizer('ACO', data, aco3.values, aco3.labels, 'Circle_50_points')\n",
    "aco_plot.best_route(-1)\n",
    "aco_plot.animation()\n",
    "aco_plot.distance()\n",
    "print('Best Route:', aco3.values['best_path'][-1])\n",
    "print('Distance:', aco3.values['distance'][-1])"
   ]
  },
  {
   "cell_type": "code",
   "execution_count": 6,
   "metadata": {},
   "outputs": [
    {
     "name": "stdout",
     "output_type": "stream",
     "text": [
      "Best Route: [34, 17, 21, 26, 7, 2, 8, 13, 12, 44, 38, 35, 28, 19, 6, 15, 25, 49, 5, 41, 10, 18, 14, 11, 16, 22, 24, 42, 4, 43, 9, 47, 33, 23, 32, 31, 48, 1, 0, 36, 27, 3, 20, 45, 46, 40, 37, 39, 29, 30]\n",
      "Distance: 786.5938295043501\n"
     ]
    }
   ],
   "source": [
    "data = random_points(1, 60, 1, 120, 50)\n",
    "aco4 = ACO(colony_size=10, data=data, max_iter=50)\n",
    "aco4.max_min_method()\n",
    "aco_plot = Visualizer('ACO', data, aco4.values, aco4.labels, 'Random_50_points')\n",
    "aco_plot.best_route(-1)\n",
    "aco_plot.animation()\n",
    "aco_plot.distance()\n",
    "print('Best Route:', aco4.values['best_path'][-1])\n",
    "print('Distance:', aco4.values['distance'][-1])"
   ]
  },
  {
   "cell_type": "markdown",
   "metadata": {},
   "source": [
    "#### 100 точок"
   ]
  },
  {
   "cell_type": "code",
   "execution_count": 7,
   "metadata": {},
   "outputs": [
    {
     "name": "stdout",
     "output_type": "stream",
     "text": [
      "Best Route: [1, 2, 3, 4, 5, 6, 7, 8, 9, 10, 11, 12, 13, 14, 15, 16, 17, 18, 19, 20, 21, 22, 23, 24, 25, 26, 27, 28, 29, 30, 31, 32, 33, 34, 35, 36, 37, 38, 39, 40, 41, 42, 43, 44, 45, 46, 47, 48, 49, 50, 51, 52, 53, 54, 55, 56, 57, 58, 59, 60, 61, 62, 63, 64, 65, 66, 67, 68, 69, 70, 71, 72, 73, 74, 75, 76, 77, 78, 79, 80, 81, 82, 83, 84, 85, 86, 87, 88, 89, 90, 91, 92, 93, 94, 95, 96, 97, 98, 99, 0]\n",
      "Distance: 6.282151815625651\n"
     ]
    }
   ],
   "source": [
    "data = circle_point(1, 100)\n",
    "aco5 = ACO(colony_size=10, data=data, max_iter=50)\n",
    "aco5.max_min_method()\n",
    "aco_plot = Visualizer('ACO', data, aco5.values, aco5.labels, 'Circle_100_points')\n",
    "aco_plot.best_route(-1)\n",
    "aco_plot.animation()\n",
    "aco_plot.distance()\n",
    "print('Best Route:', aco5.values['best_path'][-1])\n",
    "print('Distance:', aco5.values['distance'][-1])"
   ]
  },
  {
   "cell_type": "code",
   "execution_count": 8,
   "metadata": {},
   "outputs": [
    {
     "name": "stdout",
     "output_type": "stream",
     "text": [
      "Best Route: [45, 17, 31, 4, 20, 11, 63, 28, 50, 12, 54, 3, 25, 56, 26, 0, 32, 86, 47, 49, 92, 2, 13, 1, 21, 6, 71, 65, 52, 38, 58, 64, 89, 43, 74, 87, 24, 8, 30, 62, 39, 70, 98, 67, 29, 69, 15, 57, 77, 96, 53, 84, 46, 41, 33, 59, 9, 75, 34, 18, 42, 23, 10, 76, 60, 72, 73, 5, 37, 51, 48, 82, 78, 94, 7, 61, 55, 16, 66, 80, 19, 22, 35, 40, 44, 36, 79, 88, 93, 68, 27, 90, 99, 97, 95, 81, 83, 85, 14, 91]\n",
      "Distance: 1647.2434007145746\n"
     ]
    }
   ],
   "source": [
    "data = random_points(1, 60, 1, 120, 100)\n",
    "aco6 = ACO(colony_size=10, data=data, max_iter=50)\n",
    "aco6.max_min_method()\n",
    "aco_plot = Visualizer('ACO', data, aco6.values, aco6.labels, 'Random_100_points')\n",
    "aco_plot.best_route(-1)\n",
    "aco_plot.animation()\n",
    "aco_plot.distance()\n",
    "print('Best Route:', aco6.values['best_path'][-1])\n",
    "print('Distance:', aco6.values['distance'][-1])"
   ]
  },
  {
   "cell_type": "markdown",
   "metadata": {},
   "source": [
    "#### 200 точок"
   ]
  },
  {
   "cell_type": "code",
   "execution_count": 9,
   "metadata": {},
   "outputs": [
    {
     "name": "stdout",
     "output_type": "stream",
     "text": [
      "Best Route: [59, 58, 57, 56, 55, 54, 53, 52, 51, 50, 49, 48, 47, 46, 45, 44, 43, 42, 41, 40, 39, 38, 37, 36, 35, 34, 33, 32, 31, 30, 29, 28, 27, 26, 25, 24, 23, 22, 21, 20, 19, 18, 17, 16, 15, 14, 13, 12, 11, 10, 9, 8, 7, 6, 5, 4, 3, 2, 1, 0, 199, 198, 197, 196, 195, 194, 193, 192, 191, 190, 189, 188, 187, 186, 185, 184, 183, 182, 181, 180, 179, 178, 177, 176, 175, 174, 173, 172, 171, 170, 169, 168, 167, 166, 165, 164, 163, 162, 161, 160, 159, 158, 157, 156, 155, 154, 153, 152, 151, 150, 149, 148, 147, 146, 145, 144, 143, 142, 141, 140, 139, 138, 137, 136, 135, 134, 133, 132, 131, 130, 129, 128, 127, 126, 125, 124, 123, 122, 121, 120, 119, 118, 117, 116, 115, 114, 113, 112, 111, 110, 109, 108, 107, 106, 105, 104, 103, 102, 101, 100, 99, 98, 97, 96, 95, 94, 93, 92, 91, 90, 89, 88, 87, 86, 85, 84, 83, 82, 81, 80, 79, 78, 77, 76, 75, 74, 73, 72, 71, 70, 69, 68, 67, 66, 65, 64, 63, 62, 61, 60]\n",
      "Distance: 6.28292692472827\n"
     ]
    }
   ],
   "source": [
    "data = circle_point(1, 200)\n",
    "aco7 = ACO(colony_size=10, data=data, max_iter=50)\n",
    "aco7.max_min_method()\n",
    "aco_plot = Visualizer('ACO', data, aco7.values, aco7.labels, 'Circle_200_points')\n",
    "aco_plot.best_route(-1)\n",
    "aco_plot.animation()\n",
    "aco_plot.distance()\n",
    "print('Best Route:', aco7.values['best_path'][-1])\n",
    "print('Distance:', aco7.values['distance'][-1])"
   ]
  },
  {
   "cell_type": "code",
   "execution_count": 10,
   "metadata": {},
   "outputs": [
    {
     "name": "stdout",
     "output_type": "stream",
     "text": [
      "Best Route: [12, 92, 41, 34, 24, 73, 31, 83, 6, 13, 28, 78, 46, 58, 105, 38, 67, 40, 112, 9, 69, 48, 8, 23, 106, 164, 32, 1, 57, 11, 37, 21, 26, 22, 27, 59, 47, 33, 87, 66, 18, 118, 62, 100, 61, 75, 102, 96, 84, 60, 138, 35, 15, 10, 74, 82, 88, 114, 123, 147, 68, 64, 19, 93, 65, 51, 97, 30, 39, 42, 79, 45, 72, 143, 29, 95, 44, 43, 101, 153, 109, 117, 50, 167, 16, 4, 146, 124, 70, 55, 76, 17, 14, 25, 161, 107, 3, 178, 135, 127, 104, 137, 77, 56, 80, 49, 91, 181, 0, 113, 103, 125, 121, 115, 90, 94, 81, 98, 71, 169, 182, 199, 63, 86, 89, 126, 119, 2, 110, 54, 150, 128, 165, 141, 151, 163, 172, 155, 173, 152, 139, 129, 131, 136, 176, 148, 157, 122, 36, 144, 166, 183, 179, 108, 140, 20, 116, 142, 99, 133, 154, 187, 159, 174, 160, 188, 52, 7, 130, 189, 158, 132, 85, 185, 162, 145, 149, 171, 175, 184, 192, 198, 156, 180, 53, 194, 196, 170, 111, 134, 195, 186, 193, 191, 177, 168, 120, 190, 5, 197]\n",
      "Distance: 4100.673194343718\n"
     ]
    }
   ],
   "source": [
    "data = random_points(1, 60, 1, 120, 200)\n",
    "aco8 = ACO(colony_size=10, data=data, max_iter=50)\n",
    "aco8.max_min_method()\n",
    "aco_plot = Visualizer('ACO', data, aco8.values, aco8.labels, 'Random_200_points')\n",
    "aco_plot.best_route(-1)\n",
    "aco_plot.animation()\n",
    "aco_plot.distance()\n",
    "print('Best Route:', aco8.values['best_path'][-1])\n",
    "print('Distance:', aco8.values['distance'][-1])"
   ]
  },
  {
   "cell_type": "markdown",
   "metadata": {},
   "source": [
    "#### Додаткове завдання\n",
    "#### 131 points"
   ]
  },
  {
   "cell_type": "code",
   "execution_count": 9,
   "metadata": {},
   "outputs": [
    {
     "name": "stdout",
     "output_type": "stream",
     "text": [
      "Best Route: [115, 119, 116, 121, 128, 127, 125, 124, 123, 113, 117, 120, 122, 129, 109, 110, 103, 102, 96, 95, 94, 89, 90, 86, 87, 81, 80, 77, 76, 74, 63, 67, 54, 53, 45, 30, 29, 28, 27, 26, 25, 15, 14, 13, 16, 17, 12, 4, 11, 0, 5, 6, 7, 2, 1, 8, 9, 3, 10, 23, 43, 42, 41, 40, 37, 38, 39, 22, 36, 21, 33, 34, 20, 32, 31, 35, 47, 46, 48, 49, 50, 51, 55, 56, 57, 58, 59, 60, 72, 71, 79, 78, 82, 83, 85, 84, 64, 61, 68, 69, 65, 75, 70, 66, 62, 19, 18, 24, 44, 52, 73, 88, 92, 97, 112, 107, 106, 93, 91, 98, 101, 105, 104, 99, 100, 111, 118, 114, 108, 130, 126]\n",
      "Distance: 735.0972079166494\n"
     ]
    }
   ],
   "source": [
    "data = read_tsp_file('xqf131.tsp')\n",
    "aco9 = ACO(colony_size=50, data=data, max_iter=100)\n",
    "aco9.max_min_method()\n",
    "aco_plot = Visualizer('ACO', data, aco9.values, aco9.labels, 'TSP_131_points', 60)\n",
    "aco_plot.best_route(-1)\n",
    "aco_plot.animation()\n",
    "aco_plot.distance()\n",
    "print('Best Route:', aco9.values['best_path'][-1])\n",
    "print('Distance:', aco9.values['distance'][-1])"
   ]
  },
  {
   "cell_type": "markdown",
   "metadata": {},
   "source": [
    "#### 237 points"
   ]
  },
  {
   "cell_type": "code",
   "execution_count": 10,
   "metadata": {},
   "outputs": [
    {
     "ename": "KeyboardInterrupt",
     "evalue": "",
     "output_type": "error",
     "traceback": [
      "\u001b[1;31m---------------------------------------------------------------------------\u001b[0m",
      "\u001b[1;31mKeyboardInterrupt\u001b[0m                         Traceback (most recent call last)",
      "Cell \u001b[1;32mIn[10], line 3\u001b[0m\n\u001b[0;32m      1\u001b[0m data \u001b[38;5;241m=\u001b[39m read_tsp_file(\u001b[38;5;124m'\u001b[39m\u001b[38;5;124mxqg237.tsp\u001b[39m\u001b[38;5;124m'\u001b[39m)\n\u001b[0;32m      2\u001b[0m aco10 \u001b[38;5;241m=\u001b[39m ACO(colony_size\u001b[38;5;241m=\u001b[39m\u001b[38;5;241m200\u001b[39m, data\u001b[38;5;241m=\u001b[39mdata, max_iter\u001b[38;5;241m=\u001b[39m\u001b[38;5;241m300\u001b[39m)\n\u001b[1;32m----> 3\u001b[0m \u001b[43maco10\u001b[49m\u001b[38;5;241;43m.\u001b[39;49m\u001b[43mmax_min_method\u001b[49m\u001b[43m(\u001b[49m\u001b[43m)\u001b[49m\n\u001b[0;32m      4\u001b[0m aco_plot \u001b[38;5;241m=\u001b[39m Visualizer(\u001b[38;5;124m'\u001b[39m\u001b[38;5;124mACO\u001b[39m\u001b[38;5;124m'\u001b[39m, data, aco10\u001b[38;5;241m.\u001b[39mvalues, aco10\u001b[38;5;241m.\u001b[39mlabels, \u001b[38;5;124m'\u001b[39m\u001b[38;5;124mTSP_237_points\u001b[39m\u001b[38;5;124m'\u001b[39m, \u001b[38;5;241m60\u001b[39m)\n\u001b[0;32m      5\u001b[0m aco_plot\u001b[38;5;241m.\u001b[39mbest_route(\u001b[38;5;241m-\u001b[39m\u001b[38;5;241m1\u001b[39m)\n",
      "File \u001b[1;32md:\\Projects\\SwarmIntelligence\\lab 4\\ACO.py:68\u001b[0m, in \u001b[0;36mACO.max_min_method\u001b[1;34m(self)\u001b[0m\n\u001b[0;32m     66\u001b[0m best_distance \u001b[38;5;241m=\u001b[39m \u001b[38;5;28mfloat\u001b[39m(\u001b[38;5;124m'\u001b[39m\u001b[38;5;124minf\u001b[39m\u001b[38;5;124m'\u001b[39m)\n\u001b[0;32m     67\u001b[0m \u001b[38;5;28;01mfor\u001b[39;00m ant \u001b[38;5;129;01min\u001b[39;00m \u001b[38;5;28mself\u001b[39m\u001b[38;5;241m.\u001b[39mants:\n\u001b[1;32m---> 68\u001b[0m     \u001b[38;5;28;01mif\u001b[39;00m \u001b[43mant\u001b[49m\u001b[38;5;241;43m.\u001b[39;49m\u001b[43mget_distance\u001b[49m\u001b[43m(\u001b[49m\u001b[43m)\u001b[49m \u001b[38;5;241m<\u001b[39m best_distance:\n\u001b[0;32m     69\u001b[0m         best_path \u001b[38;5;241m=\u001b[39m ant\u001b[38;5;241m.\u001b[39mpath\n\u001b[0;32m     70\u001b[0m         best_distance \u001b[38;5;241m=\u001b[39m ant\u001b[38;5;241m.\u001b[39mdistance\n",
      "File \u001b[1;32md:\\Projects\\SwarmIntelligence\\lab 4\\ACO.py:34\u001b[0m, in \u001b[0;36mAnt.get_distance\u001b[1;34m(self)\u001b[0m\n\u001b[0;32m     32\u001b[0m \u001b[38;5;28mself\u001b[39m\u001b[38;5;241m.\u001b[39mpath \u001b[38;5;241m=\u001b[39m [random\u001b[38;5;241m.\u001b[39mrandint(\u001b[38;5;241m0\u001b[39m, \u001b[38;5;28mself\u001b[39m\u001b[38;5;241m.\u001b[39mlen_data \u001b[38;5;241m-\u001b[39m \u001b[38;5;241m1\u001b[39m)]\n\u001b[0;32m     33\u001b[0m \u001b[38;5;28;01mwhile\u001b[39;00m \u001b[38;5;28mlen\u001b[39m(\u001b[38;5;28mself\u001b[39m\u001b[38;5;241m.\u001b[39mpath) \u001b[38;5;241m<\u001b[39m \u001b[38;5;28mself\u001b[39m\u001b[38;5;241m.\u001b[39mlen_data:\n\u001b[1;32m---> 34\u001b[0m     \u001b[38;5;28mself\u001b[39m\u001b[38;5;241m.\u001b[39mpath\u001b[38;5;241m.\u001b[39mappend(\u001b[38;5;28;43mself\u001b[39;49m\u001b[38;5;241;43m.\u001b[39;49m\u001b[43m_select_node\u001b[49m\u001b[43m(\u001b[49m\u001b[43m)\u001b[49m)\n\u001b[0;32m     35\u001b[0m \u001b[38;5;28;01mfor\u001b[39;00m i \u001b[38;5;129;01min\u001b[39;00m \u001b[38;5;28mrange\u001b[39m(\u001b[38;5;28mself\u001b[39m\u001b[38;5;241m.\u001b[39mlen_data):\n\u001b[0;32m     36\u001b[0m     \u001b[38;5;28mself\u001b[39m\u001b[38;5;241m.\u001b[39mdistance \u001b[38;5;241m+\u001b[39m\u001b[38;5;241m=\u001b[39m \u001b[38;5;28mself\u001b[39m\u001b[38;5;241m.\u001b[39medges[\u001b[38;5;28mself\u001b[39m\u001b[38;5;241m.\u001b[39mpath[i]][\u001b[38;5;28mself\u001b[39m\u001b[38;5;241m.\u001b[39mpath[(i \u001b[38;5;241m+\u001b[39m \u001b[38;5;241m1\u001b[39m) \u001b[38;5;241m%\u001b[39m \u001b[38;5;28mself\u001b[39m\u001b[38;5;241m.\u001b[39mlen_data]]\u001b[38;5;241m.\u001b[39mweight\n",
      "File \u001b[1;32md:\\Projects\\SwarmIntelligence\\lab 4\\ACO.py:21\u001b[0m, in \u001b[0;36mAnt._select_node\u001b[1;34m(self)\u001b[0m\n\u001b[0;32m     20\u001b[0m \u001b[38;5;28;01mdef\u001b[39;00m \u001b[38;5;21m_select_node\u001b[39m(\u001b[38;5;28mself\u001b[39m):\n\u001b[1;32m---> 21\u001b[0m     unvisited_nodes \u001b[38;5;241m=\u001b[39m [node \u001b[38;5;28;01mfor\u001b[39;00m node \u001b[38;5;129;01min\u001b[39;00m \u001b[38;5;28mrange\u001b[39m(\u001b[38;5;28mself\u001b[39m\u001b[38;5;241m.\u001b[39mlen_data) \u001b[38;5;28;01mif\u001b[39;00m node \u001b[38;5;129;01mnot\u001b[39;00m \u001b[38;5;129;01min\u001b[39;00m \u001b[38;5;28mself\u001b[39m\u001b[38;5;241m.\u001b[39mpath]\n\u001b[0;32m     22\u001b[0m     heuristic \u001b[38;5;241m=\u001b[39m \u001b[38;5;28msum\u001b[39m([\u001b[38;5;28mself\u001b[39m\u001b[38;5;241m.\u001b[39medges[\u001b[38;5;28mself\u001b[39m\u001b[38;5;241m.\u001b[39mpath[\u001b[38;5;241m-\u001b[39m\u001b[38;5;241m1\u001b[39m]][node]\u001b[38;5;241m.\u001b[39mweight \u001b[38;5;28;01mfor\u001b[39;00m node \u001b[38;5;129;01min\u001b[39;00m unvisited_nodes])\n\u001b[0;32m     23\u001b[0m     roulette \u001b[38;5;241m=\u001b[39m \u001b[38;5;28msum\u001b[39m([\u001b[38;5;28mpow\u001b[39m(\u001b[38;5;28mself\u001b[39m\u001b[38;5;241m.\u001b[39medges[\u001b[38;5;28mself\u001b[39m\u001b[38;5;241m.\u001b[39mpath[\u001b[38;5;241m-\u001b[39m\u001b[38;5;241m1\u001b[39m]][node]\u001b[38;5;241m.\u001b[39mpheromone, \u001b[38;5;28mself\u001b[39m\u001b[38;5;241m.\u001b[39malpha) \u001b[38;5;241m*\u001b[39m \u001b[38;5;28mpow\u001b[39m((heuristic \u001b[38;5;241m/\u001b[39m \u001b[38;5;28mself\u001b[39m\u001b[38;5;241m.\u001b[39medges[\u001b[38;5;28mself\u001b[39m\u001b[38;5;241m.\u001b[39mpath[\u001b[38;5;241m-\u001b[39m\u001b[38;5;241m1\u001b[39m]][node]\u001b[38;5;241m.\u001b[39mweight), \u001b[38;5;28mself\u001b[39m\u001b[38;5;241m.\u001b[39mbeta) \u001b[38;5;28;01mfor\u001b[39;00m node \u001b[38;5;129;01min\u001b[39;00m unvisited_nodes])\n",
      "\u001b[1;31mKeyboardInterrupt\u001b[0m: "
     ]
    }
   ],
   "source": [
    "data = read_tsp_file('xqg237.tsp')\n",
    "aco10 = ACO(colony_size=200, data=data, max_iter=300)\n",
    "aco10.max_min_method()\n",
    "aco_plot = Visualizer('ACO', data, aco10.values, aco10.labels, 'TSP_237_points', 60)\n",
    "aco_plot.best_route(-1)\n",
    "aco_plot.animation()\n",
    "aco_plot.distance()\n",
    "print('Best Route:', aco10.values['best_path'][-1])\n",
    "print('Distance:', aco10.values['distance'][-1])"
   ]
  },
  {
   "cell_type": "markdown",
   "metadata": {},
   "source": [
    "### Генетичний алгоритм\n",
    "#### 30 точок"
   ]
  },
  {
   "cell_type": "code",
   "execution_count": 12,
   "metadata": {},
   "outputs": [
    {
     "name": "stdout",
     "output_type": "stream",
     "text": [
      "Best Route: [9, 10, 11, 12, 13, 14, 15, 16, 17, 18, 19, 20, 21, 22, 23, 24, 25, 26, 27, 28, 29, 0, 2, 1, 3, 4, 5, 6, 7, 8]\n",
      "Distance: 6.685240706259627\n"
     ]
    }
   ],
   "source": [
    "data = circle_point(1, 30)\n",
    "go = GO(data, population_size=150, elite_size=30, generations=500)\n",
    "go.optimize()\n",
    "go_plot = Visualizer('GO', data, go.values, go.labels, 'Circle_30_points', 60)\n",
    "go_plot.best_route(-1)\n",
    "go_plot.animation()\n",
    "go_plot.distance()\n",
    "print('Best Route:', go.values['best_path'][-1])\n",
    "print('Distance:', go.values['distance'][-1])"
   ]
  },
  {
   "cell_type": "code",
   "execution_count": 13,
   "metadata": {},
   "outputs": [
    {
     "name": "stdout",
     "output_type": "stream",
     "text": [
      "Best Route: [9, 29, 12, 15, 23, 0, 13, 18, 6, 16, 11, 24, 3, 22, 20, 2, 10, 28, 14, 19, 21, 1, 26, 7, 27, 8, 4, 25, 17, 5]\n",
      "Distance: 349.56700316794837\n"
     ]
    }
   ],
   "source": [
    "data = random_points(1, 60, 1, 120, 30)\n",
    "go = GO(data, population_size=150, elite_size=30, generations=500)\n",
    "go.optimize()\n",
    "go_plot = Visualizer('GO', data, go.values, go.labels, 'Random_30_points', 60)\n",
    "go_plot.best_route(-1)\n",
    "go_plot.animation()\n",
    "go_plot.distance()\n",
    "print('Best Route:', go.values['best_path'][-1])\n",
    "print('Distance:', go.values['distance'][-1])"
   ]
  },
  {
   "cell_type": "markdown",
   "metadata": {},
   "source": [
    "#### 50 точок"
   ]
  },
  {
   "cell_type": "code",
   "execution_count": 14,
   "metadata": {},
   "outputs": [
    {
     "name": "stdout",
     "output_type": "stream",
     "text": [
      "Best Route: [39, 40, 41, 42, 43, 44, 45, 46, 47, 48, 49, 0, 1, 2, 3, 4, 5, 7, 6, 8, 9, 10, 12, 11, 13, 14, 15, 16, 17, 19, 18, 21, 20, 22, 23, 24, 25, 26, 27, 28, 29, 30, 31, 32, 33, 34, 35, 36, 37, 38]\n",
      "Distance: 7.278746111464049\n"
     ]
    }
   ],
   "source": [
    "data = circle_point(1, 50)\n",
    "go = GO(data, population_size=200, elite_size=60, generations=650)\n",
    "go.optimize()\n",
    "go_plot = Visualizer('GO', data, go.values, go.labels, 'Circle_50_points', 60)\n",
    "go_plot.best_route(-1)\n",
    "go_plot.animation()\n",
    "go_plot.distance()\n",
    "print('Best Route:', go.values['best_path'][-1])\n",
    "print('Distance:', go.values['distance'][-1])"
   ]
  },
  {
   "cell_type": "code",
   "execution_count": 20,
   "metadata": {},
   "outputs": [
    {
     "name": "stdout",
     "output_type": "stream",
     "text": [
      "Best Route: [0, 28, 3, 33, 44, 18, 39, 5, 45, 49, 27, 7, 12, 43, 22, 17, 11, 35, 15, 6, 40, 20, 46, 41, 16, 25, 23, 38, 42, 9, 26, 47, 31, 32, 36, 37, 8, 34, 1, 24, 30, 4, 21, 14, 2, 19, 29, 10, 13, 48]\n",
      "Distance: 577.2258227471042\n"
     ]
    }
   ],
   "source": [
    "data = random_points(1, 60, 1, 120, 50)\n",
    "go = GO(data, population_size=200, elite_size=60, generations=650)\n",
    "go.optimize()\n",
    "go_plot = Visualizer('GO', data, go.values, go.labels, 'Random_50_points', 60)\n",
    "go_plot.best_route(-1)\n",
    "go_plot.animation()\n",
    "go_plot.distance()\n",
    "print('Best Route:', go.values['best_path'][-1])\n",
    "print('Distance:', go.values['distance'][-1])"
   ]
  },
  {
   "cell_type": "markdown",
   "metadata": {},
   "source": [
    "#### 100 точок"
   ]
  },
  {
   "cell_type": "code",
   "execution_count": 16,
   "metadata": {},
   "outputs": [
    {
     "name": "stdout",
     "output_type": "stream",
     "text": [
      "Best Route: [18, 15, 19, 20, 16, 14, 10, 9, 8, 13, 17, 21, 25, 24, 23, 22, 26, 28, 30, 29, 27, 31, 33, 32, 34, 35, 36, 39, 40, 38, 37, 41, 44, 42, 45, 43, 47, 46, 48, 55, 54, 50, 49, 52, 51, 53, 58, 59, 57, 56, 60, 61, 62, 63, 65, 66, 64, 67, 68, 70, 69, 72, 71, 73, 74, 75, 76, 78, 77, 79, 83, 80, 81, 82, 84, 86, 85, 89, 1, 4, 6, 5, 3, 2, 99, 0, 97, 96, 92, 94, 88, 87, 90, 91, 93, 95, 98, 7, 11, 12]\n",
      "Distance: 15.15282572364352\n"
     ]
    }
   ],
   "source": [
    "data = circle_point(1, 100)\n",
    "go = GO(data, population_size=250, elite_size=90, generations=700)\n",
    "go.optimize()\n",
    "go_plot = Visualizer('GO', data, go.values, go.labels, 'Circle_100_points', 60)\n",
    "go_plot.best_route(-1)\n",
    "go_plot.animation()\n",
    "go_plot.distance()\n",
    "print('Best Route:', go.values['best_path'][-1])\n",
    "print('Distance:', go.values['distance'][-1])"
   ]
  },
  {
   "cell_type": "code",
   "execution_count": 19,
   "metadata": {},
   "outputs": [
    {
     "name": "stdout",
     "output_type": "stream",
     "text": [
      "Best Route: [24, 5, 37, 17, 49, 62, 6, 32, 66, 51, 44, 45, 97, 88, 55, 96, 64, 95, 79, 78, 33, 8, 50, 82, 40, 0, 98, 54, 93, 90, 71, 26, 10, 2, 21, 59, 72, 27, 4, 58, 13, 47, 89, 30, 87, 43, 83, 70, 22, 35, 7, 56, 28, 31, 76, 65, 15, 18, 77, 74, 14, 69, 91, 60, 38, 39, 41, 12, 1, 25, 29, 42, 92, 16, 80, 84, 19, 52, 20, 99, 86, 61, 85, 48, 53, 36, 23, 34, 57, 46, 94, 73, 63, 68, 67, 9, 81, 75, 3, 11]\n",
      "Distance: 941.046389505025\n"
     ]
    }
   ],
   "source": [
    "data = random_points(1, 60, 1, 120, 100)\n",
    "go = GO(data, population_size=250, elite_size=90, generations=700)\n",
    "go.optimize()\n",
    "go_plot = Visualizer('GO', data, go.values, go.labels, 'Random_100_points', 60)\n",
    "go_plot.best_route(-1)\n",
    "go_plot.animation()\n",
    "go_plot.distance()\n",
    "print('Best Route:', go.values['best_path'][-1])\n",
    "print('Distance:', go.values['distance'][-1])"
   ]
  },
  {
   "cell_type": "markdown",
   "metadata": {},
   "source": [
    "#### 200 точок"
   ]
  },
  {
   "cell_type": "code",
   "execution_count": 17,
   "metadata": {},
   "outputs": [
    {
     "name": "stdout",
     "output_type": "stream",
     "text": [
      "Best Route: [146, 149, 151, 156, 187, 179, 186, 10, 5, 6, 7, 189, 192, 31, 26, 27, 25, 190, 188, 191, 157, 147, 148, 163, 177, 0, 195, 196, 199, 197, 171, 176, 172, 170, 178, 184, 1, 15, 14, 73, 74, 76, 89, 83, 78, 91, 99, 95, 92, 94, 110, 113, 126, 122, 118, 106, 117, 119, 112, 101, 103, 105, 97, 87, 86, 93, 96, 84, 80, 75, 81, 71, 79, 55, 59, 68, 61, 70, 69, 72, 102, 98, 90, 88, 85, 82, 65, 67, 62, 53, 49, 18, 29, 38, 42, 45, 51, 56, 52, 63, 58, 57, 77, 64, 50, 54, 66, 41, 43, 48, 46, 28, 9, 11, 12, 8, 37, 20, 33, 47, 44, 34, 36, 32, 23, 16, 19, 21, 183, 166, 167, 168, 136, 175, 173, 174, 182, 185, 193, 13, 24, 35, 30, 2, 194, 3, 198, 22, 17, 40, 60, 104, 128, 109, 114, 116, 120, 127, 130, 121, 123, 107, 100, 111, 124, 108, 115, 125, 131, 135, 153, 161, 158, 160, 145, 134, 133, 137, 132, 138, 140, 129, 139, 141, 142, 144, 180, 150, 143, 165, 169, 154, 159, 162, 164, 155, 152, 181, 4, 39]\n",
      "Distance: 63.451463040645216\n"
     ]
    }
   ],
   "source": [
    "data = circle_point(1, 200)\n",
    "go = GO(data, population_size=350, elite_size=130, generations=850)\n",
    "go.optimize()\n",
    "go_plot = Visualizer('GO', data, go.values, go.labels, 'Circle_200_points', 60)\n",
    "go_plot.best_route(-1)\n",
    "go_plot.animation()\n",
    "go_plot.distance()\n",
    "print('Best Route:', go.values['best_path'][-1])\n",
    "print('Distance:', go.values['distance'][-1])"
   ]
  },
  {
   "cell_type": "markdown",
   "metadata": {},
   "source": [
    "#### Додаткове завдання\n",
    "#### 131 points"
   ]
  },
  {
   "cell_type": "code",
   "execution_count": null,
   "metadata": {},
   "outputs": [],
   "source": [
    "data = read_tsp_file('xqf131.tsp')\n",
    "go = GO(data, population_size=400, elite_size=180, generations=950)\n",
    "go.optimize()\n",
    "go_plot = Visualizer('GO', data, go.values, go.labels, 'TSP_131_points', 50)\n",
    "go_plot.best_route(-1)\n",
    "go_plot.animation()\n",
    "go_plot.distance()\n",
    "print('Best Route:', go.values['best_path'][-1])\n",
    "print('Distance:', go.values['distance'][-1])"
   ]
  },
  {
   "cell_type": "markdown",
   "metadata": {},
   "source": [
    "#### 237 points"
   ]
  },
  {
   "cell_type": "code",
   "execution_count": null,
   "metadata": {},
   "outputs": [],
   "source": [
    "data = read_tsp_file('xqg237.tsp')\n",
    "go = GO(data, population_size=400, elite_size=180, generations=950)\n",
    "go.optimize()\n",
    "go_plot = Visualizer('GO', data, go.values, go.labels, 'TSP_237_points', 50)\n",
    "go_plot.best_route(-1)\n",
    "go_plot.animation()\n",
    "go_plot.distance()\n",
    "print('Best Route:', go.values['best_path'][-1])\n",
    "print('Distance:', go.values['distance'][-1])"
   ]
  }
 ],
 "metadata": {
  "kernelspec": {
   "display_name": "Python 3",
   "language": "python",
   "name": "python3"
  },
  "language_info": {
   "codemirror_mode": {
    "name": "ipython",
    "version": 3
   },
   "file_extension": ".py",
   "mimetype": "text/x-python",
   "name": "python",
   "nbconvert_exporter": "python",
   "pygments_lexer": "ipython3",
   "version": "3.12.2"
  }
 },
 "nbformat": 4,
 "nbformat_minor": 2
}
