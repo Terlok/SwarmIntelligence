{
 "cells": [
  {
   "cell_type": "code",
   "execution_count": 1,
   "metadata": {},
   "outputs": [
    {
     "name": "stderr",
     "output_type": "stream",
     "text": [
      "d:\\Projects\\SwarmIntelligence\\lab 4\\plot.py:12: SyntaxWarning: invalid escape sequence '\\G'\n",
      "  Path(f'{path}\\\\aco\\Graph').mkdir(parents=True, exist_ok=True)\n",
      "d:\\Projects\\SwarmIntelligence\\lab 4\\plot.py:13: SyntaxWarning: invalid escape sequence '\\A'\n",
      "  Path(f'{path}\\\\aco\\Animation').mkdir(parents=True, exist_ok=True)\n",
      "d:\\Projects\\SwarmIntelligence\\lab 4\\plot.py:38: SyntaxWarning: invalid escape sequence '\\{'\n",
      "  plt.savefig(f'{path}\\\\aco\\Graph\\{self.filename}.png')\n",
      "d:\\Projects\\SwarmIntelligence\\lab 4\\plot.py:38: SyntaxWarning: invalid escape sequence '\\G'\n",
      "  plt.savefig(f'{path}\\\\aco\\Graph\\{self.filename}.png')\n",
      "d:\\Projects\\SwarmIntelligence\\lab 4\\plot.py:78: SyntaxWarning: invalid escape sequence '\\{'\n",
      "  anim.save(f'{path}\\\\aco\\Animation\\{self.filename}.gif', dpi=120, writer='pillow')\n",
      "d:\\Projects\\SwarmIntelligence\\lab 4\\plot.py:78: SyntaxWarning: invalid escape sequence '\\A'\n",
      "  anim.save(f'{path}\\\\aco\\Animation\\{self.filename}.gif', dpi=120, writer='pillow')\n"
     ]
    }
   ],
   "source": [
    "from GO import GO\n",
    "from Visualizer import *\n",
    "from ACO import ACO\n",
    "from create_data import *\n",
    "\n",
    "create_folders()"
   ]
  },
  {
   "cell_type": "markdown",
   "metadata": {},
   "source": [
    "### Мурашиний алгоритм\n",
    "#### 30 точок"
   ]
  },
  {
   "cell_type": "code",
   "execution_count": 2,
   "metadata": {},
   "outputs": [],
   "source": [
    "data = circle_point(1, 30)\n",
    "aco1 = ACO(colony_size=10, data=data, max_iter=50)\n",
    "aco1.max_min_method()\n",
    "aco_plot = Visualizer('ACO', data, aco1.values, aco1.labels, 'Circle_30_points')\n",
    "aco_plot.graph(-1)\n",
    "aco_plot.animation()\n",
    "aco_plot.distance()\n",
    "print('Best Route:', aco1.values['best_path'][-1])\n",
    "print('Distance:', aco1.values['distance'][-1])"
   ]
  },
  {
   "cell_type": "code",
   "execution_count": 3,
   "metadata": {},
   "outputs": [],
   "source": [
    "data = random_points(1, 60, 1, 120, 30)\n",
    "aco2 = ACO(colony_size=10, data=data, max_iter=50)\n",
    "aco2.max_min_method()\n",
    "aco_plot = Visualizer('ACO', data, aco2.values, aco2.labels, 'Random_30_points')\n",
    "aco_plot.graph(-1)\n",
    "aco_plot.animation()\n",
    "aco_plot.distance()\n",
    "print('Best Route:', aco2.values['best_path'][-1])\n",
    "print('Distance:', aco2.values['distance'][-1])"
   ]
  },
  {
   "cell_type": "markdown",
   "metadata": {},
   "source": [
    "#### 50 точок"
   ]
  },
  {
   "cell_type": "code",
   "execution_count": 4,
   "metadata": {},
   "outputs": [],
   "source": [
    "data = circle_point(1, 50)\n",
    "aco3 = ACO(colony_size=10, data=data, max_iter=50)\n",
    "aco3.max_min_method()\n",
    "aco_plot = Visualizer('ACO', data, aco3.values, aco3.labels, 'Circle_50_points')\n",
    "aco_plot.graph(-1)\n",
    "aco_plot.animation()\n",
    "aco_plot.distance()\n",
    "print('Best Route:', aco3.values['best_path'][-1])\n",
    "print('Distance:', aco3.values['distance'][-1])"
   ]
  },
  {
   "cell_type": "code",
   "execution_count": 5,
   "metadata": {},
   "outputs": [],
   "source": [
    "data = random_points(1, 60, 1, 120, 50)\n",
    "aco4 = ACO(colony_size=10, data=data, max_iter=50)\n",
    "aco4.max_min_method()\n",
    "aco_plot = Visualizer('ACO', data, aco4.values, aco4.labels, 'Random_50_points')\n",
    "aco_plot.graph(-1)\n",
    "aco_plot.animation()\n",
    "aco_plot.distance()\n",
    "print('Best Route:', aco4.values['best_path'][-1])\n",
    "print('Distance:', aco4.values['distance'][-1])"
   ]
  },
  {
   "cell_type": "markdown",
   "metadata": {},
   "source": [
    "#### 100 точок"
   ]
  },
  {
   "cell_type": "code",
   "execution_count": 6,
   "metadata": {},
   "outputs": [],
   "source": [
    "data = circle_point(1, 100)\n",
    "aco5 = ACO(colony_size=10, data=data, max_iter=50)\n",
    "aco5.max_min_method()\n",
    "aco_plot = Visualizer('ACO', data, aco5.values, aco5.labels, 'Circle_100_points')\n",
    "aco_plot.graph(-1)\n",
    "aco_plot.animation()\n",
    "aco_plot.distance()\n",
    "print('Best Route:', aco5.values['best_path'][-1])\n",
    "print('Distance:', aco5.values['distance'][-1])"
   ]
  },
  {
   "cell_type": "code",
   "execution_count": 7,
   "metadata": {},
   "outputs": [],
   "source": [
    "data = random_points(1, 60, 1, 120, 100)\n",
    "aco6 = ACO(colony_size=10, data=data, max_iter=50)\n",
    "aco6.max_min_method()\n",
    "aco_plot = Visualizer('ACO', data, aco6.values, aco6.labels, 'Random_100_points')\n",
    "aco_plot.graph(-1)\n",
    "aco_plot.animation()\n",
    "aco_plot.distance()\n",
    "print('Best Route:', aco6.values['best_path'][-1])\n",
    "print('Distance:', aco6.values['distance'][-1])"
   ]
  },
  {
   "cell_type": "markdown",
   "metadata": {},
   "source": [
    "#### 200 точок"
   ]
  },
  {
   "cell_type": "code",
   "execution_count": 8,
   "metadata": {},
   "outputs": [],
   "source": [
    "data = circle_point(1, 200)\n",
    "aco7 = ACO(colony_size=10, data=data, max_iter=50)\n",
    "aco7.max_min_method()\n",
    "aco_plot = Visualizer('ACO', data, aco7.values, aco7.labels, 'Circle_200_points')\n",
    "aco_plot.graph(-1)\n",
    "aco_plot.animation()\n",
    "aco_plot.distance()\n",
    "print('Best Route:', aco7.values['best_path'][-1])\n",
    "print('Distance:', aco7.values['distance'][-1])"
   ]
  },
  {
   "cell_type": "code",
   "execution_count": 9,
   "metadata": {},
   "outputs": [],
   "source": [
    "data = random_points(1, 60, 1, 120, 200)\n",
    "aco8 = ACO(colony_size=10, data=data, max_iter=50)\n",
    "aco8.max_min_method()\n",
    "aco_plot = Visualizer('ACO', data, aco8.values, aco8.labels, 'Random_200_points')\n",
    "aco_plot.graph(-1)\n",
    "aco_plot.animation()\n",
    "aco_plot.distance()\n",
    "print('Best Route:', aco8.values['best_path'][-1])\n",
    "print('Distance:', aco8.values['distance'][-1])"
   ]
  },
  {
   "cell_type": "markdown",
   "metadata": {},
   "source": [
    "### Генетичний алгоритм\n",
    "#### 30 точок"
   ]
  },
  {
   "cell_type": "code",
   "execution_count": null,
   "metadata": {},
   "outputs": [],
   "source": [
    "data = circle_point(1, 30)\n",
    "go = GO(data, population_size=150, elite_size=30, generations=500)\n",
    "go.optimize()\n",
    "go_plot = Visualizer('GO', data, go.values, go.labels, 'Circle_30_points', 60)\n",
    "aco_plot.graph(-1)\n",
    "aco_plot.animation()\n",
    "aco_plot.distance()\n",
    "print('Best Route:', go.values['best_path'][-1])\n",
    "print('Distance:', go.values['distance'][-1])"
   ]
  },
  {
   "cell_type": "code",
   "execution_count": null,
   "metadata": {},
   "outputs": [],
   "source": [
    "data = random_points(1, 60, 1, 120, 30)\n",
    "go = GO(data, population_size=150, elite_size=30, generations=500)\n",
    "go.optimize()\n",
    "go_plot = Visualizer('GO', data, go.values, go.labels, 'Random_30_points', 60)\n",
    "aco_plot.graph(-1)\n",
    "aco_plot.animation()\n",
    "aco_plot.distance()\n",
    "print('Best Route:', go.values['best_path'][-1])\n",
    "print('Distance:', go.values['distance'][-1])"
   ]
  },
  {
   "cell_type": "markdown",
   "metadata": {},
   "source": [
    "#### 50 точок"
   ]
  },
  {
   "cell_type": "code",
   "execution_count": null,
   "metadata": {},
   "outputs": [],
   "source": [
    "data = circle_point(1, 50)\n",
    "go = GO(data, population_size=200, elite_size=60, generations=650)\n",
    "go.optimize()\n",
    "go_plot = Visualizer('GO', data, go.values, go.labels, 'Circle_50_points', 60)\n",
    "aco_plot.graph(-1)\n",
    "aco_plot.animation()\n",
    "aco_plot.distance()\n",
    "print('Best Route:', go.values['best_path'][-1])\n",
    "print('Distance:', go.values['distance'][-1])"
   ]
  },
  {
   "cell_type": "code",
   "execution_count": null,
   "metadata": {},
   "outputs": [],
   "source": [
    "data = random_points(1, 60, 1, 120, 50)\n",
    "go = GO(data, population_size=200, elite_size=60, generations=650)\n",
    "go.optimize()\n",
    "go_plot = Visualizer('GO', data, go.values, go.labels, 'Random_50_points', 60)\n",
    "aco_plot.graph(-1)\n",
    "aco_plot.animation()\n",
    "aco_plot.distance()\n",
    "print('Best Route:', go.values['best_path'][-1])\n",
    "print('Distance:', go.values['distance'][-1])"
   ]
  },
  {
   "cell_type": "markdown",
   "metadata": {},
   "source": [
    "#### 100 точок"
   ]
  },
  {
   "cell_type": "code",
   "execution_count": null,
   "metadata": {},
   "outputs": [],
   "source": [
    "data = circle_point(1, 100)\n",
    "go = GO(data, population_size=250, elite_size=90, generations=700)\n",
    "go.optimize()\n",
    "go_plot = Visualizer('GO', data, go.values, go.labels, 'Circle_100_points', 60)\n",
    "aco_plot.graph(-1)\n",
    "aco_plot.animation()\n",
    "aco_plot.distance()\n",
    "print('Best Route:', go.values['best_path'][-1])\n",
    "print('Distance:', go.values['distance'][-1])"
   ]
  },
  {
   "cell_type": "code",
   "execution_count": null,
   "metadata": {},
   "outputs": [],
   "source": [
    "data = random_points(1, 60, 1, 120, 100)\n",
    "go = GO(data, population_size=250, elite_size=90, generations=700)\n",
    "go.optimize()\n",
    "go_plot = Visualizer('GO', data, go.values, go.labels, 'Random_100_points', 60)\n",
    "aco_plot.graph(-1)\n",
    "aco_plot.animation()\n",
    "aco_plot.distance()\n",
    "print('Best Route:', go.values['best_path'][-1])\n",
    "print('Distance:', go.values['distance'][-1])"
   ]
  },
  {
   "cell_type": "markdown",
   "metadata": {},
   "source": [
    "#### 200 точок"
   ]
  },
  {
   "cell_type": "code",
   "execution_count": null,
   "metadata": {},
   "outputs": [],
   "source": [
    "data = circle_point(1, 200)\n",
    "go = GO(data, population_size=350, elite_size=130, generations=850)\n",
    "go.optimize()\n",
    "go_plot = Visualizer('GO', data, go.values, go.labels, 'Circle_200_points', 60)\n",
    "aco_plot.graph(-1)\n",
    "aco_plot.animation()\n",
    "aco_plot.distance()\n",
    "print('Best Route:', go.values['best_path'][-1])\n",
    "print('Distance:', go.values['distance'][-1])"
   ]
  },
  {
   "cell_type": "code",
   "execution_count": null,
   "metadata": {},
   "outputs": [],
   "source": [
    "data = random_points(1, 60, 1, 120, 200)\n",
    "go = GO(data, population_size=350, elite_size=130, generations=850)\n",
    "go.optimize()\n",
    "go_plot = Visualizer('GO', data, go.values, go.labels, 'Random_200_points', 60)\n",
    "aco_plot.graph(-1)\n",
    "aco_plot.animation()\n",
    "aco_plot.distance()\n",
    "print('Best Route:', go.values['best_path'][-1])\n",
    "print('Distance:', go.values['distance'][-1])"
   ]
  }
 ],
 "metadata": {
  "kernelspec": {
   "display_name": "Python 3",
   "language": "python",
   "name": "python3"
  },
  "language_info": {
   "codemirror_mode": {
    "name": "ipython",
    "version": 3
   },
   "file_extension": ".py",
   "mimetype": "text/x-python",
   "name": "python",
   "nbconvert_exporter": "python",
   "pygments_lexer": "ipython3",
   "version": "3.12.2"
  }
 },
 "nbformat": 4,
 "nbformat_minor": 2
}
