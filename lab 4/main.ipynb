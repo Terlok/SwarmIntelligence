{
 "cells": [
  {
   "cell_type": "code",
   "execution_count": 1,
   "metadata": {},
   "outputs": [
    {
     "name": "stderr",
     "output_type": "stream",
     "text": [
      "d:\\Projects\\SwarmIntelligence\\lab 4\\plot.py:12: SyntaxWarning: invalid escape sequence '\\G'\n",
      "  Path(f'{path}\\\\aco\\Graph').mkdir(parents=True, exist_ok=True)\n",
      "d:\\Projects\\SwarmIntelligence\\lab 4\\plot.py:13: SyntaxWarning: invalid escape sequence '\\A'\n",
      "  Path(f'{path}\\\\aco\\Animation').mkdir(parents=True, exist_ok=True)\n",
      "d:\\Projects\\SwarmIntelligence\\lab 4\\plot.py:38: SyntaxWarning: invalid escape sequence '\\{'\n",
      "  plt.savefig(f'{path}\\\\aco\\Graph\\{self.filename}.png')\n",
      "d:\\Projects\\SwarmIntelligence\\lab 4\\plot.py:38: SyntaxWarning: invalid escape sequence '\\G'\n",
      "  plt.savefig(f'{path}\\\\aco\\Graph\\{self.filename}.png')\n",
      "d:\\Projects\\SwarmIntelligence\\lab 4\\plot.py:78: SyntaxWarning: invalid escape sequence '\\{'\n",
      "  anim.save(f'{path}\\\\aco\\Animation\\{self.filename}.gif', dpi=120, writer='pillow')\n",
      "d:\\Projects\\SwarmIntelligence\\lab 4\\plot.py:78: SyntaxWarning: invalid escape sequence '\\A'\n",
      "  anim.save(f'{path}\\\\aco\\Animation\\{self.filename}.gif', dpi=120, writer='pillow')\n"
     ]
    }
   ],
   "source": [
    "from ACO import ACO\n",
    "from plot import *\n",
    "from create_data import *\n",
    "\n",
    "create_folders()"
   ]
  },
  {
   "cell_type": "markdown",
   "metadata": {},
   "source": [
    "### Мурашиний алгоритм\n",
    "#### 30 точок"
   ]
  },
  {
   "cell_type": "code",
   "execution_count": 2,
   "metadata": {},
   "outputs": [],
   "source": [
    "data = circle_point(1, 30)\n",
    "aco1 = ACO(colony_size=10, data=data, max_iter=50)\n",
    "aco1.max_min_method()\n",
    "aco_plot = ACO_plot(data, aco1.values, aco1.labels, 'Circle_30_points', 50)\n",
    "aco_plot.graph(-1)\n",
    "aco_plot.animation()"
   ]
  },
  {
   "cell_type": "code",
   "execution_count": 3,
   "metadata": {},
   "outputs": [],
   "source": [
    "data = random_points(1, 60, 1, 120, 30)\n",
    "aco2 = ACO(colony_size=10, data=data, max_iter=50)\n",
    "aco2.max_min_method()\n",
    "aco_plot = ACO_plot(data, aco2.values, aco2.labels, 'Random_30_points', 50)\n",
    "aco_plot.graph(-1)\n",
    "aco_plot.animation()"
   ]
  },
  {
   "cell_type": "markdown",
   "metadata": {},
   "source": [
    "#### 50 точок"
   ]
  },
  {
   "cell_type": "code",
   "execution_count": 4,
   "metadata": {},
   "outputs": [],
   "source": [
    "data = circle_point(1, 50)\n",
    "aco3 = ACO(colony_size=10, data=data, max_iter=50)\n",
    "aco3.max_min_method()\n",
    "aco_plot = ACO_plot(data, aco3.values, aco3.labels, 'Circle_50_points', 50)\n",
    "aco_plot.graph(-1)\n",
    "aco_plot.animation()"
   ]
  },
  {
   "cell_type": "code",
   "execution_count": 5,
   "metadata": {},
   "outputs": [],
   "source": [
    "data = random_points(1, 60, 1, 120, 50)\n",
    "aco4 = ACO(colony_size=10, data=data, max_iter=50)\n",
    "aco4.max_min_method()\n",
    "aco_plot = ACO_plot(data, aco4.values, aco4.labels, 'Random_50_points', 50)\n",
    "aco_plot.graph(-1)\n",
    "aco_plot.animation()"
   ]
  },
  {
   "cell_type": "markdown",
   "metadata": {},
   "source": [
    "#### 100 точок"
   ]
  },
  {
   "cell_type": "code",
   "execution_count": 6,
   "metadata": {},
   "outputs": [],
   "source": [
    "data = circle_point(1, 100)\n",
    "aco5 = ACO(colony_size=10, data=data, max_iter=50)\n",
    "aco5.max_min_method()\n",
    "aco_plot = ACO_plot(data, aco5.values, aco5.labels, 'Circle_100_points', 50)\n",
    "aco_plot.graph(-1)\n",
    "aco_plot.animation()"
   ]
  },
  {
   "cell_type": "code",
   "execution_count": 7,
   "metadata": {},
   "outputs": [],
   "source": [
    "data = random_points(1, 60, 1, 120, 100)\n",
    "aco6 = ACO(colony_size=10, data=data, max_iter=50)\n",
    "aco6.max_min_method()\n",
    "aco_plot = ACO_plot(data, aco6.values, aco6.labels, 'Random_100_points', 50)\n",
    "aco_plot.graph(-1)\n",
    "aco_plot.animation()"
   ]
  },
  {
   "cell_type": "markdown",
   "metadata": {},
   "source": [
    "#### 200 точок"
   ]
  },
  {
   "cell_type": "code",
   "execution_count": 8,
   "metadata": {},
   "outputs": [],
   "source": [
    "data = circle_point(1, 200)\n",
    "aco7 = ACO(colony_size=10, data=data, max_iter=50)\n",
    "aco7.max_min_method()\n",
    "aco_plot = ACO_plot(data, aco7.values, aco7.labels, 'Circle_200_points', 50)\n",
    "aco_plot.graph(-1)\n",
    "aco_plot.animation()"
   ]
  },
  {
   "cell_type": "code",
   "execution_count": 9,
   "metadata": {},
   "outputs": [],
   "source": [
    "data = random_points(1, 60, 1, 120, 200)\n",
    "aco8 = ACO(colony_size=10, data=data, max_iter=50)\n",
    "aco8.max_min_method()\n",
    "aco_plot = ACO_plot(data, aco8.values, aco8.labels, 'Random_200_points', 50)\n",
    "aco_plot.graph(-1)\n",
    "aco_plot.animation()"
   ]
  },
  {
   "cell_type": "markdown",
   "metadata": {},
   "source": [
    "### Генетичний алгоритм\n",
    "#### 30 точок"
   ]
  },
  {
   "cell_type": "code",
   "execution_count": null,
   "metadata": {},
   "outputs": [],
   "source": []
  }
 ],
 "metadata": {
  "kernelspec": {
   "display_name": "Python 3",
   "language": "python",
   "name": "python3"
  },
  "language_info": {
   "codemirror_mode": {
    "name": "ipython",
    "version": 3
   },
   "file_extension": ".py",
   "mimetype": "text/x-python",
   "name": "python",
   "nbconvert_exporter": "python",
   "pygments_lexer": "ipython3",
   "version": "3.12.2"
  }
 },
 "nbformat": 4,
 "nbformat_minor": 2
}
