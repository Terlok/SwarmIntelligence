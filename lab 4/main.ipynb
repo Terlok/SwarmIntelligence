{
 "cells": [
  {
   "cell_type": "code",
   "execution_count": 1,
   "metadata": {},
   "outputs": [
    {
     "name": "stderr",
     "output_type": "stream",
     "text": [
      "d:\\Projects\\SwarmIntelligence\\lab 4\\plot.py:11: SyntaxWarning: invalid escape sequence '\\A'\n",
      "  Path(f'{path}\\ACO').mkdir(parents=True, exist_ok=True)\n",
      "d:\\Projects\\SwarmIntelligence\\lab 4\\plot.py:12: SyntaxWarning: invalid escape sequence '\\A'\n",
      "  Path(f'{path}\\ACO\\Graph').mkdir(parents=True, exist_ok=True)\n",
      "d:\\Projects\\SwarmIntelligence\\lab 4\\plot.py:13: SyntaxWarning: invalid escape sequence '\\A'\n",
      "  Path(f'{path}\\ACO\\Animation').mkdir(parents=True, exist_ok=True)\n",
      "d:\\Projects\\SwarmIntelligence\\lab 4\\plot.py:35: SyntaxWarning: invalid escape sequence '\\{'\n",
      "  plt.savefig(f'{path}\\ACO\\Graph\\{self.filename}.png')\n",
      "d:\\Projects\\SwarmIntelligence\\lab 4\\plot.py:35: SyntaxWarning: invalid escape sequence '\\A'\n",
      "  plt.savefig(f'{path}\\ACO\\Graph\\{self.filename}.png')\n",
      "d:\\Projects\\SwarmIntelligence\\lab 4\\plot.py:75: SyntaxWarning: invalid escape sequence '\\{'\n",
      "  anim.save(f'{path}\\ACO\\Animation\\{self.filename}.gif', dpi=120, writer='pillow')\n",
      "d:\\Projects\\SwarmIntelligence\\lab 4\\plot.py:75: SyntaxWarning: invalid escape sequence '\\A'\n",
      "  anim.save(f'{path}\\ACO\\Animation\\{self.filename}.gif', dpi=120, writer='pillow')\n"
     ]
    }
   ],
   "source": [
    "from ACO import ACO\n",
    "from plot import *\n",
    "from create_data import *\n",
    "\n",
    "create_folders()"
   ]
  },
  {
   "cell_type": "markdown",
   "metadata": {},
   "source": [
    "### Мурашиний алгоритм\n",
    "#### 30 точок"
   ]
  },
  {
   "cell_type": "code",
   "execution_count": 2,
   "metadata": {},
   "outputs": [
    {
     "name": "stderr",
     "output_type": "stream",
     "text": [
      "d:\\Projects\\SwarmIntelligence\\lab 4\\plot.py:11: SyntaxWarning: invalid escape sequence '\\A'\n",
      "  Path(f'{path}\\ACO').mkdir(parents=True, exist_ok=True)\n",
      "d:\\Projects\\SwarmIntelligence\\lab 4\\plot.py:12: SyntaxWarning: invalid escape sequence '\\A'\n",
      "  Path(f'{path}\\ACO\\Graph').mkdir(parents=True, exist_ok=True)\n",
      "d:\\Projects\\SwarmIntelligence\\lab 4\\plot.py:13: SyntaxWarning: invalid escape sequence '\\A'\n",
      "  Path(f'{path}\\ACO\\Animation').mkdir(parents=True, exist_ok=True)\n",
      "d:\\Projects\\SwarmIntelligence\\lab 4\\plot.py:35: SyntaxWarning: invalid escape sequence '\\{'\n",
      "  plt.savefig(f'{path}\\ACO\\Graph\\{self.filename}.png')\n",
      "d:\\Projects\\SwarmIntelligence\\lab 4\\plot.py:35: SyntaxWarning: invalid escape sequence '\\A'\n",
      "  plt.savefig(f'{path}\\ACO\\Graph\\{self.filename}.png')\n",
      "d:\\Projects\\SwarmIntelligence\\lab 4\\plot.py:75: SyntaxWarning: invalid escape sequence '\\{'\n",
      "  anim.save(f'{path}\\ACO\\Animation\\{self.filename}.gif', dpi=120, writer='pillow')\n",
      "d:\\Projects\\SwarmIntelligence\\lab 4\\plot.py:75: SyntaxWarning: invalid escape sequence '\\A'\n",
      "  anim.save(f'{path}\\ACO\\Animation\\{self.filename}.gif', dpi=120, writer='pillow')\n"
     ]
    },
    {
     "ename": "AttributeError",
     "evalue": "'ACO_plot' object has no attribute 'values'",
     "output_type": "error",
     "traceback": [
      "\u001b[1;31m---------------------------------------------------------------------------\u001b[0m",
      "\u001b[1;31mAttributeError\u001b[0m                            Traceback (most recent call last)",
      "Cell \u001b[1;32mIn[2], line 5\u001b[0m\n\u001b[0;32m      3\u001b[0m aco1\u001b[38;5;241m.\u001b[39mmax_min_method()\n\u001b[0;32m      4\u001b[0m aco_plot \u001b[38;5;241m=\u001b[39m ACO_plot(aco1\u001b[38;5;241m.\u001b[39mvalues, \u001b[38;5;124m'\u001b[39m\u001b[38;5;124mCircle_30_points\u001b[39m\u001b[38;5;124m'\u001b[39m)\n\u001b[1;32m----> 5\u001b[0m \u001b[43maco_plot\u001b[49m\u001b[38;5;241;43m.\u001b[39;49m\u001b[43mgraph\u001b[49m\u001b[43m(\u001b[49m\u001b[38;5;241;43m-\u001b[39;49m\u001b[38;5;241;43m1\u001b[39;49m\u001b[43m)\u001b[49m\n\u001b[0;32m      6\u001b[0m aco_plot\u001b[38;5;241m.\u001b[39manimation()\n",
      "File \u001b[1;32md:\\Projects\\SwarmIntelligence\\lab 4\\plot.py:25\u001b[0m, in \u001b[0;36mACO_plot.graph\u001b[1;34m(self, iter)\u001b[0m\n\u001b[0;32m     24\u001b[0m \u001b[38;5;28;01mdef\u001b[39;00m \u001b[38;5;21mgraph\u001b[39m(\u001b[38;5;28mself\u001b[39m, \u001b[38;5;28miter\u001b[39m):\n\u001b[1;32m---> 25\u001b[0m     x \u001b[38;5;241m=\u001b[39m \u001b[38;5;28;43mself\u001b[39;49m\u001b[38;5;241;43m.\u001b[39;49m\u001b[43mvalues\u001b[49m[\u001b[38;5;124m'\u001b[39m\u001b[38;5;124mpoints\u001b[39m\u001b[38;5;124m'\u001b[39m][\u001b[38;5;28miter\u001b[39m][\u001b[38;5;241m0\u001b[39m]\n\u001b[0;32m     26\u001b[0m     x\u001b[38;5;241m.\u001b[39mappend(\u001b[38;5;28mself\u001b[39m\u001b[38;5;241m.\u001b[39mvalues[\u001b[38;5;124m'\u001b[39m\u001b[38;5;124mpoints\u001b[39m\u001b[38;5;124m'\u001b[39m][\u001b[38;5;28miter\u001b[39m][\u001b[38;5;241m0\u001b[39m][\u001b[38;5;241m0\u001b[39m])\n\u001b[0;32m     27\u001b[0m     y \u001b[38;5;241m=\u001b[39m \u001b[38;5;28mself\u001b[39m\u001b[38;5;241m.\u001b[39mvalues[\u001b[38;5;124m'\u001b[39m\u001b[38;5;124mpoints\u001b[39m\u001b[38;5;124m'\u001b[39m][\u001b[38;5;28miter\u001b[39m][\u001b[38;5;241m1\u001b[39m]\n",
      "\u001b[1;31mAttributeError\u001b[0m: 'ACO_plot' object has no attribute 'values'"
     ]
    }
   ],
   "source": [
    "data = circle_point(1, 30)\n",
    "aco1 = ACO(colony_size=10, data=data, max_iter=50)\n",
    "aco1.max_min_method()\n",
    "aco_plot = ACO_plot(aco1.values, 'Circle_30_points')\n",
    "aco_plot.graph(-1)\n",
    "aco_plot.animation()"
   ]
  },
  {
   "cell_type": "code",
   "execution_count": null,
   "metadata": {},
   "outputs": [],
   "source": [
    "data = random_points(1, 60, 1, 120, 30)\n",
    "aco2 = ACO(colony_size=10, data=data, max_iter=50)\n",
    "aco2.max_min_method()\n",
    "aco_plot = ACO_plot(aco2.values, 'Random_30_points')\n",
    "aco_plot.graph(-1)\n",
    "aco_plot.animation()"
   ]
  }
 ],
 "metadata": {
  "kernelspec": {
   "display_name": "Python 3",
   "language": "python",
   "name": "python3"
  },
  "language_info": {
   "codemirror_mode": {
    "name": "ipython",
    "version": 3
   },
   "file_extension": ".py",
   "mimetype": "text/x-python",
   "name": "python",
   "nbconvert_exporter": "python",
   "pygments_lexer": "ipython3",
   "version": "3.12.2"
  }
 },
 "nbformat": 4,
 "nbformat_minor": 2
}
