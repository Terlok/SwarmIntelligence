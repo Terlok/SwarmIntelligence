{
 "cells": [
  {
   "cell_type": "code",
   "execution_count": 1,
   "metadata": {},
   "outputs": [
    {
     "name": "stdout",
     "output_type": "stream",
     "text": [
      "Best Route: [11, 12, 13, 14, 15, 16, 17, 18, 19, 20, 21, 22, 24, 23, 25, 26, 27, 28, 29, 0, 1, 2, 3, 4, 5, 6, 7, 8, 9, 10]\n",
      "Distance: 6.685240706259628\n"
     ]
    },
    {
     "data": {
      "image/png": "[encoded data removed]",
      "text/plain": [
       "<Figure size 640x480 with 1 Axes>"
      ]
     },
     "metadata": {},
     "output_type": "display_data"
    }
   ],
   "source": [
    "import random\n",
    "import math\n",
    "import numpy as np\n",
    "import matplotlib.pyplot as plt\n",
    "\n",
    "class GeneticAlgorithmTSP:\n",
    "    def __init__(self, data, population_size=150, elite_size=30, mutation_rate=0.00001, generations=500):\n",
    "        self.data = data\n",
    "        self.population_size = population_size\n",
    "        self.elite_size = elite_size\n",
    "        self.mutation_rate = mutation_rate\n",
    "        self.generations = generations\n",
    "        self.labels = range(1, len(data) + 1)\n",
    "        self.values = {'points': [], 'best_path': [], 'distance': []}\n",
    "\n",
    "    def distance(self, route):\n",
    "        total_distance = 0\n",
    "        for i in range(len(route)):\n",
    "            from_point = self.data[route[i]]\n",
    "            to_point = self.data[route[(i + 1) % len(route)]]\n",
    "            total_distance += math.sqrt((to_point[0] - from_point[0]) ** 2 + (to_point[1] - from_point[1]) ** 2)\n",
    "        return total_distance\n",
    "\n",
    "    def initial_population(self):\n",
    "        population = []\n",
    "        for _ in range(self.population_size):\n",
    "            population.append(random.sample(range(len(self.data)), len(self.data)))\n",
    "        return population\n",
    "\n",
    "    def tournament_selection(self, population, k=5):\n",
    "        tournament = random.sample(population, k)\n",
    "        return min(tournament, key=lambda x: self.distance(x))\n",
    "\n",
    "    def breed(self, parent1, parent2):\n",
    "        start, end = sorted(random.sample(range(len(parent1)), 2))\n",
    "        gene1 = parent1[start:end]\n",
    "        gene2 = [item for item in parent2 if item not in gene1]\n",
    "        return gene1 + gene2\n",
    "\n",
    "    def crossover(self, population):\n",
    "        offspring = []\n",
    "        for _ in range(self.population_size):\n",
    "            parent1 = self.tournament_selection(population)\n",
    "            parent2 = self.tournament_selection(population)\n",
    "            child = self.breed(parent1, parent2)\n",
    "            offspring.append(child)\n",
    "        return offspring\n",
    "\n",
    "    def mutate(self, individual):\n",
    "        for swapped in range(len(individual)):\n",
    "            if random.random() < self.mutation_rate:\n",
    "                swap_with = int(random.random() * len(individual))\n",
    "                individual[swapped], individual[swap_with] = individual[swap_with], individual[swapped]\n",
    "        return individual\n",
    "\n",
    "    def mutate_population(self, population):\n",
    "        mutated_population = []\n",
    "        for individual in population:\n",
    "            mutated_population.append(self.mutate(individual))\n",
    "        return mutated_population\n",
    "\n",
    "    def evolve(self, population):\n",
    "        offspring = self.crossover(population)\n",
    "        mutated_offspring = self.mutate_population(offspring)\n",
    "        return mutated_offspring\n",
    "\n",
    "    def optimize(self):\n",
    "        population = self.initial_population()\n",
    "        for _ in range(self.generations):\n",
    "            population = self.evolve(population)\n",
    "            population.sort(key=lambda x: self.distance(x))\n",
    "            best_path = population[0]\n",
    "            self.values['points'].append(([self.data[i][0] for i in best_path], [self.data[i][1] for i in best_path]))\n",
    "            self.values['best_path'].append(population[0])\n",
    "            self.values['distance'].append(self.distance(best_path))\n",
    "\n",
    "def circle_point(radius, num_data):\n",
    "    data = []\n",
    "    theta = 2 * math.pi / num_data\n",
    "    for i in range(num_data):\n",
    "        x = radius * math.cos(i * theta)\n",
    "        y = radius * math.sin(i * theta)\n",
    "        data.append((x, y))\n",
    "    return data\n",
    "\n",
    "def plot_route(data, route):\n",
    "    x = [point[0] for point in data]\n",
    "    y = [point[1] for point in data]\n",
    "\n",
    "    plt.figure(figsize=(8, 6))\n",
    "    plt.plot(x, y, 'bo')\n",
    "\n",
    "    for i in range(len(route)):\n",
    "        from_point = data[route[i]]\n",
    "        to_point = data[route[(i + 1) % len(route)]]\n",
    "        plt.plot([from_point[0], to_point[0]], [from_point[1], to_point[1]], 'k-')\n",
    "\n",
    "    plt.title('Best Route')\n",
    "    plt.xlabel('X')\n",
    "    plt.ylabel('Y')\n",
    "    plt.grid(True)\n",
    "    plt.show()\n",
    "\n",
    "def plot_distance_epochs(distances):\n",
    "    plt.plot(range(len(distances)), distances, linestyle='-')\n",
    "    plt.title('Distance per Epoch')\n",
    "    plt.xlabel('Epochs')\n",
    "    plt.ylabel('Distance')\n",
    "    plt.grid(True)\n",
    "    plt.show()\n",
    "\n",
    "# Приклад використання\n",
    "data = circle_point(1, 30)\n",
    "ga_tsp = GeneticAlgorithmTSP(data, population_size=150, elite_size=30, mutation_rate=0.00001, generations=400)\n",
    "ga_tsp.optimize()\n",
    "print(\"Best Route:\", ga_tsp.values['best_path'][-1])\n",
    "print(\"Distance:\", ga_tsp.values['distance'][-1])\n",
    "#plot_route(data, ga_tsp.values['best_path'][-1])\n",
    "plot_distance_epochs(ga_tsp.values['distance'])\n",
    "\n",
    "# 30 - population_size=150, elite_size=30, mutation_rate=0.00001, generations=400)\n",
    "# 50 - population_size=200, elite_size=60, mutation_rate=0.00001, generations=600)\n",
    "# 100 - population_size=250, elite_size=100, mutation_rate=0.00001, generations=600)"
   ]
  },
  {
   "cell_type": "code",
   "execution_count": 4,
   "metadata": {},
   "outputs": [
    {
     "name": "stderr",
     "output_type": "stream",
     "text": [
      "d:\\Projects\\SwarmIntelligence\\lab 4\\plot.py:12: SyntaxWarning: invalid escape sequence '\\G'\n",
      "  Path(f'{path}\\\\aco\\Graph').mkdir(parents=True, exist_ok=True)\n",
      "d:\\Projects\\SwarmIntelligence\\lab 4\\plot.py:13: SyntaxWarning: invalid escape sequence '\\A'\n",
      "  Path(f'{path}\\\\aco\\Animation').mkdir(parents=True, exist_ok=True)\n",
      "d:\\Projects\\SwarmIntelligence\\lab 4\\plot.py:14: SyntaxWarning: invalid escape sequence '\\D'\n",
      "  Path(f'{path}\\\\aco\\Distance').mkdir(parents=True, exist_ok=True)\n",
      "d:\\Projects\\SwarmIntelligence\\lab 4\\plot.py:39: SyntaxWarning: invalid escape sequence '\\{'\n",
      "  plt.savefig(f'{path}\\\\aco\\Graph\\{self.filename}.png')\n",
      "d:\\Projects\\SwarmIntelligence\\lab 4\\plot.py:39: SyntaxWarning: invalid escape sequence '\\G'\n",
      "  plt.savefig(f'{path}\\\\aco\\Graph\\{self.filename}.png')\n",
      "d:\\Projects\\SwarmIntelligence\\lab 4\\plot.py:82: SyntaxWarning: invalid escape sequence '\\{'\n",
      "  anim.save(f'{path}\\\\aco\\Animation\\{self.filename}.gif', dpi=120, writer='pillow')\n",
      "d:\\Projects\\SwarmIntelligence\\lab 4\\plot.py:82: SyntaxWarning: invalid escape sequence '\\A'\n",
      "  anim.save(f'{path}\\\\aco\\Animation\\{self.filename}.gif', dpi=120, writer='pillow')\n"
     ]
    }
   ],
   "source": [
    "from Visualizer import *\n",
    "\n",
    "# aco_plot = Visualizer(data, ga_tsp.values, ga_tsp.labels, 'TEST', 50)\n",
    "# aco_plot.graph(-1)\n",
    "# aco_plot.animation()"
   ]
  },
  {
   "cell_type": "code",
   "execution_count": 2,
   "metadata": {},
   "outputs": [
    {
     "name": "stdout",
     "output_type": "stream",
     "text": [
      "['NAME : xqf131\\n', 'COMMENT : Bonn VLSI data set with 131 points\\n', 'COMMENT : Uni Bonn, Research Institute for Discrete Math\\n', 'COMMENT : Contributed by Andre Rohe\\n', 'TYPE : TSP\\n', 'DIMENSION : 131\\n', 'EDGE_WEIGHT_TYPE : EUC_2D\\n', 'NODE_COORD_SECTION\\n', '1 0 13\\n', '2 0 26\\n', '3 0 27\\n', '4 0 39\\n', '5 2 0\\n', '6 5 13\\n', '7 5 19\\n', '8 5 25\\n', '9 5 31\\n', '10 5 37\\n', '11 5 43\\n', '12 5 8\\n', '13 8 0\\n', '14 9 10\\n', '15 10 10\\n', '16 11 10\\n', '17 12 10\\n', '18 12 5\\n', '19 15 13\\n', '20 15 19\\n', '21 15 25\\n', '22 15 31\\n', '23 15 37\\n', '24 15 43\\n', '25 15 8\\n', '26 18 11\\n', '27 18 13\\n', '28 18 15\\n', '29 18 17\\n', '30 18 19\\n', '31 18 21\\n', '32 18 23\\n', '33 18 25\\n', '34 18 27\\n', '35 18 29\\n', '36 18 31\\n', '37 18 33\\n', '38 18 35\\n', '39 18 37\\n', '40 18 39\\n', '41 18 41\\n', '42 18 42\\n', '43 18 44\\n', '44 18 45\\n', '45 25 11\\n', '46 25 15\\n', '47 25 22\\n', '48 25 23\\n', '49 25 24\\n', '50 25 26\\n', '51 25 28\\n', '52 25 29\\n', '53 25 9\\n', '54 28 16\\n', '55 28 20\\n', '56 28 28\\n', '57 28 30\\n', '58 28 34\\n', '59 28 40\\n', '60 28 43\\n', '61 28 47\\n', '62 32 26\\n', '63 32 31\\n', '64 33 15\\n', '65 33 26\\n', '66 33 29\\n', '67 33 31\\n', '68 34 15\\n', '69 34 26\\n', '70 34 29\\n', '71 34 31\\n', '72 34 38\\n', '73 34 41\\n', '74 34 5\\n', '75 35 17\\n', '76 35 31\\n', '77 38 16\\n', '78 38 20\\n', '79 38 30\\n', '80 38 34\\n', '81 40 22\\n', '82 41 23\\n', '83 41 32\\n', '84 41 34\\n', '85 41 35\\n', '86 41 36\\n', '87 48 22\\n', '88 48 27\\n', '89 48 6\\n', '90 51 45\\n', '91 51 47\\n', '92 56 25\\n', '93 57 12\\n', '94 57 25\\n', '95 57 44\\n', '96 61 45\\n', '97 61 47\\n', '98 63 6\\n', '99 64 22\\n', '100 71 11\\n', '101 71 13\\n', '102 71 16\\n', '103 71 45\\n', '104 71 47\\n', '105 74 12\\n', '106 74 16\\n', '107 74 20\\n', '108 74 24\\n', '109 74 29\\n', '110 74 35\\n', '111 74 39\\n', '112 74 6\\n', '113 77 21\\n', '114 78 10\\n', '115 78 32\\n', '116 78 35\\n', '117 78 39\\n', '118 79 10\\n', '119 79 33\\n', '120 79 37\\n', '121 80 10\\n', '122 80 41\\n', '123 80 5\\n', '124 81 17\\n', '125 84 20\\n', '126 84 24\\n', '127 84 29\\n', '128 84 34\\n', '129 84 38\\n', '130 84 6\\n', '131 107 27\\n', 'EOF\\n']\n"
     ]
    }
   ],
   "source": [
    "def read_rsp_file(file_name):\n",
    "    with open(file_name, 'r') as file:\n",
    "        return file.readlines()\n",
    "\n",
    "\n",
    "print(read_rsp_file('xqf131.tsp'))"
   ]
  },
  {
   "cell_type": "code",
   "execution_count": 3,
   "metadata": {},
   "outputs": [
    {
     "name": "stdout",
     "output_type": "stream",
     "text": [
      "[(0.0, 13.0), (0.0, 26.0), (0.0, 27.0), (0.0, 39.0), (2.0, 0.0), (5.0, 13.0), (5.0, 19.0), (5.0, 25.0), (5.0, 31.0), (5.0, 37.0), (5.0, 43.0), (5.0, 8.0), (8.0, 0.0), (9.0, 10.0), (10.0, 10.0), (11.0, 10.0), (12.0, 10.0), (12.0, 5.0), (15.0, 13.0), (15.0, 19.0), (15.0, 25.0), (15.0, 31.0), (15.0, 37.0), (15.0, 43.0), (15.0, 8.0), (18.0, 11.0), (18.0, 13.0), (18.0, 15.0), (18.0, 17.0), (18.0, 19.0), (18.0, 21.0), (18.0, 23.0), (18.0, 25.0), (18.0, 27.0), (18.0, 29.0), (18.0, 31.0), (18.0, 33.0), (18.0, 35.0), (18.0, 37.0), (18.0, 39.0), (18.0, 41.0), (18.0, 42.0), (18.0, 44.0), (18.0, 45.0), (25.0, 11.0), (25.0, 15.0), (25.0, 22.0), (25.0, 23.0), (25.0, 24.0), (25.0, 26.0), (25.0, 28.0), (25.0, 29.0), (25.0, 9.0), (28.0, 16.0), (28.0, 20.0), (28.0, 28.0), (28.0, 30.0), (28.0, 34.0), (28.0, 40.0), (28.0, 43.0), (28.0, 47.0), (32.0, 26.0), (32.0, 31.0), (33.0, 15.0), (33.0, 26.0), (33.0, 29.0), (33.0, 31.0), (34.0, 15.0), (34.0, 26.0), (34.0, 29.0), (34.0, 31.0), (34.0, 38.0), (34.0, 41.0), (34.0, 5.0), (35.0, 17.0), (35.0, 31.0), (38.0, 16.0), (38.0, 20.0), (38.0, 30.0), (38.0, 34.0), (40.0, 22.0), (41.0, 23.0), (41.0, 32.0), (41.0, 34.0), (41.0, 35.0), (41.0, 36.0), (48.0, 22.0), (48.0, 27.0), (48.0, 6.0), (51.0, 45.0), (51.0, 47.0), (56.0, 25.0), (57.0, 12.0), (57.0, 25.0), (57.0, 44.0), (61.0, 45.0), (61.0, 47.0), (63.0, 6.0), (64.0, 22.0), (71.0, 11.0), (71.0, 13.0), (71.0, 16.0), (71.0, 45.0), (71.0, 47.0), (74.0, 12.0), (74.0, 16.0), (74.0, 20.0), (74.0, 24.0), (74.0, 29.0), (74.0, 35.0), (74.0, 39.0), (74.0, 6.0), (77.0, 21.0), (78.0, 10.0), (78.0, 32.0), (78.0, 35.0), (78.0, 39.0), (79.0, 10.0), (79.0, 33.0), (79.0, 37.0), (80.0, 10.0), (80.0, 41.0), (80.0, 5.0), (81.0, 17.0), (84.0, 20.0), (84.0, 24.0), (84.0, 29.0), (84.0, 34.0), (84.0, 38.0), (84.0, 6.0), (107.0, 27.0)]\n"
     ]
    }
   ],
   "source": [
    "def read_tsp_file(file_path):\n",
    "    node_coords = []\n",
    "    with open(file_path, 'r') as file:\n",
    "        for line in file:\n",
    "            if line.strip() == \"NODE_COORD_SECTION\":\n",
    "                break\n",
    "        for line in file:\n",
    "            if line.strip() == \"EOF\":\n",
    "                break\n",
    "            parts = line.strip().split()\n",
    "            node_coords.append((float(parts[1]), float(parts[2])))\n",
    "    return node_coords\n",
    "\n",
    "# Приклад використання\n",
    "file_path = 'xqf131.tsp'\n",
    "node_coords = read_tsp_file(file_path)\n",
    "print(node_coords)\n"
   ]
  }
 ],
 "metadata": {
  "kernelspec": {
   "display_name": "Python 3",
   "language": "python",
   "name": "python3"
  },
  "language_info": {
   "codemirror_mode": {
    "name": "ipython",
    "version": 3
   },
   "file_extension": ".py",
   "mimetype": "text/x-python",
   "name": "python",
   "nbconvert_exporter": "python",
   "pygments_lexer": "ipython3",
   "version": "3.12.2"
  }
 },
 "nbformat": 4,
 "nbformat_minor": 2
}
