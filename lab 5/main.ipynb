{
 "cells": [
  {
   "cell_type": "code",
   "execution_count": 1,
   "metadata": {},
   "outputs": [],
   "source": [
    "from GA import GeneticAlgorithm\n",
    "from SA import SimulatedAnnealing\n",
    "from visualizer import create_folders, Visualizer\n",
    "from knapsack import create_dataset_folder, Knapsack\n",
    "\n",
    "create_folders()\n",
    "create_dataset_folder()"
   ]
  },
  {
   "cell_type": "markdown",
   "metadata": {},
   "source": [
    "### Генетичний алгоритм у класичному його поданні"
   ]
  },
  {
   "cell_type": "code",
   "execution_count": 2,
   "metadata": {},
   "outputs": [
    {
     "name": "stdout",
     "output_type": "stream",
     "text": [
      "['0111000111', '0111000111', '0111000111', '0111000111', '0111000111', '0111000111', '0111000111', '0111000111', '0111000111', '0111000111', '0111000111', '0111000111', '0111000111', '0111000111', '0111000111', '0111000111', '0111000111', '0111000111', '0111000111', '0111000111']\n",
      "[295, 295, 295, 295, 295, 295, 295, 295, 295, 295, 295, 295, 295, 295, 295, 295, 295, 295, 295, 295]\n"
     ]
    }
   ],
   "source": [
    "pack = Knapsack(capacity=269, d=None,\n",
    "                weights_bound=[95, 4, 60, 32, 23, 72, 80, 62, 65, 46], \n",
    "                profit_bound=[55, 10, 47, 5, 4, 50, 8, 61, 85, 87], \n",
    "                input_data=1)\n",
    "\n",
    "ga1 = GeneticAlgorithm(pack, number_of_bits=10, population_size=20, num_iterations=1000)\n",
    "ga1.genetic_optimization()\n",
    "\n",
    "t = Visualizer(ga1.results, '10d_input', 100)\n",
    "t.animation()\n",
    "t.distance()"
   ]
  },
  {
   "cell_type": "code",
   "execution_count": 3,
   "metadata": {},
   "outputs": [
    {
     "name": "stdout",
     "output_type": "stream",
     "text": [
      "['11111111111110101011', '11111111111110101011', '11111111111110101011', '11111111111110101011', '11111111111110101011']\n",
      "[1024, 1024, 1024, 1024, 1024]\n"
     ]
    }
   ],
   "source": [
    "pack = Knapsack(capacity=878, d=None,\n",
    "                weights_bound=[92, 4, 43, 83, 84, 68, 92, 82, 6, 44, 32, 18, 56, 83, 25, 96, 70, 48, 14, 58], \n",
    "                profit_bound=[44, 46, 90, 72, 91, 40, 75, 35, 8, 54, 78, 40, 77, 15, 61, 17, 75, 29, 75, 63], \n",
    "                input_data=1)\n",
    "\n",
    "ga2 = GeneticAlgorithm(pack, number_of_bits=20, population_size=5, num_iterations=1000)\n",
    "ga2.genetic_optimization()\n",
    "\n",
    "t = Visualizer(ga2.results, '20d_input', 100)\n",
    "t.animation()\n",
    "t.distance()"
   ]
  },
  {
   "cell_type": "code",
   "execution_count": 27,
   "metadata": {},
   "outputs": [
    {
     "name": "stdout",
     "output_type": "stream",
     "text": [
      "['11111110111101111111', '11111110111101111111', '11111110111101111111', '11111110111101111111', '11111110111101111111']\n",
      "[8196.0, 8196.0, 8196.0, 8196.0, 8196.0]\n"
     ]
    }
   ],
   "source": [
    "pack = Knapsack(capacity=560, d=100,\n",
    "                weights_bound=[1, 100], \n",
    "                profit_bound=[1, 999], \n",
    "                )\n",
    "\n",
    "ga1 = GeneticAlgorithm(pack, number_of_bits=20, population_size=5, num_iterations=1000)\n",
    "ga1.genetic_optimization()\n",
    "\n",
    "t = Visualizer(ga1.results, '100d_custom', 100)\n",
    "t.animation()\n",
    "t.distance()"
   ]
  },
  {
   "cell_type": "code",
   "execution_count": 28,
   "metadata": {},
   "outputs": [
    {
     "name": "stdout",
     "output_type": "stream",
     "text": [
      "['11111011111111110111', '11111011111111110111', '11111011111111110111', '11111011111111110111', '11111011111111110111']\n",
      "[8332.0, 8332.0, 8332.0, 8332.0, 8332.0]\n"
     ]
    }
   ],
   "source": [
    "pack = Knapsack(capacity=270, d=50,\n",
    "                weights_bound=[1, 100], \n",
    "                profit_bound=[1, 999], \n",
    "                )\n",
    "\n",
    "ga1 = GeneticAlgorithm(pack, number_of_bits=20, population_size=5, num_iterations=1000)\n",
    "ga1.genetic_optimization()\n",
    "\n",
    "t = Visualizer(ga1.results, '100d_custom', 100)\n",
    "t.animation()\n",
    "t.distance()"
   ]
  },
  {
   "cell_type": "markdown",
   "metadata": {},
   "source": [
    "### Алгоритм імітації відпалу"
   ]
  },
  {
   "cell_type": "code",
   "execution_count": 6,
   "metadata": {},
   "outputs": [
    {
     "name": "stdout",
     "output_type": "stream",
     "text": [
      "Best solution: [0, 1, 1, 1, 0, 0, 0, 1, 1, 1]\n",
      "Best fitness: 295\n"
     ]
    }
   ],
   "source": [
    "pack = Knapsack(capacity=269, d=None, \n",
    "            weights_bound=[95, 4, 60, 32, 23, 72, 80, 62, 65, 46], \n",
    "            profit_bound=[55, 10, 47, 5, 4, 50, 8, 61, 85, 87], \n",
    "            input_data=1)\n",
    "\n",
    "sa1 = SimulatedAnnealing(pack, \n",
    "                              initial_temperature=1000, \n",
    "                              cooling_rate=0.99, \n",
    "                              num_iterations=1000)\n",
    "\n",
    "sa1.simulated_annealing()\n",
    "\n",
    "print(\"Best solution:\", sa1.results['sol'][-1])\n",
    "print(\"Best fitness:\", sa1.results['fit'][-1])"
   ]
  },
  {
   "cell_type": "code",
   "execution_count": 8,
   "metadata": {},
   "outputs": [
    {
     "name": "stdout",
     "output_type": "stream",
     "text": [
      "Best solution: [1, 1, 1, 1, 1, 1, 1, 1, 1, 1, 1, 1, 1, 0, 1, 0, 1, 0, 1, 1]\n",
      "Best fitness: 1024\n"
     ]
    }
   ],
   "source": [
    "pack = Knapsack(capacity=878, d=None,\n",
    "                weights_bound=[92, 4, 43, 83, 84, 68, 92, 82, 6, 44, 32, 18, 56, 83, 25, 96, 70, 48, 14, 58], \n",
    "                profit_bound=[44, 46, 90, 72, 91, 40, 75, 35, 8, 54, 78, 40, 77, 15, 61, 17, 75, 29, 75, 63], \n",
    "                input_data=1)\n",
    "\n",
    "sa2 = SimulatedAnnealing(pack, \n",
    "                        initial_temperature=1000, \n",
    "                        cooling_rate=0.99, \n",
    "                        num_iterations=1000)\n",
    "\n",
    "sa2.simulated_annealing()\n",
    "\n",
    "print(\"Best solution:\", sa2.results['sol'][-1])\n",
    "print(\"Best fitness:\", sa2.results['fit'][-1])"
   ]
  },
  {
   "cell_type": "code",
   "execution_count": 15,
   "metadata": {},
   "outputs": [
    {
     "name": "stdout",
     "output_type": "stream",
     "text": [
      "Best solution: [0, 1, 1, 1, 0, 0, 1, 1, 1, 1, 0, 1, 1, 1, 1, 1, 1, 1, 1, 0, 1, 0, 1, 1, 1, 1, 0, 0, 1, 1, 0, 1, 0, 0, 1, 1, 1, 1, 0, 0, 0, 1, 1, 0, 0, 0, 0, 0, 1, 0, 1, 0, 1, 0, 1, 1, 1, 0, 0, 0, 1, 1, 1, 0, 0, 0, 0, 0, 1, 0, 1, 1, 0, 1, 1, 0, 0, 1, 0, 0, 1, 1, 0, 0, 1, 1, 0, 1, 1, 0, 1, 1, 1, 1, 1, 1, 0, 1, 1, 0]\n",
      "Best fitness: 0\n"
     ]
    }
   ],
   "source": [
    "pack = Knapsack(capacity=560, d=100,\n",
    "                weights_bound=[1, 100], \n",
    "                profit_bound=[1, 999], \n",
    "                exist=1,\n",
    "                file_name='N_100_w_[1, 100]_p_[1, 999].txt')\n",
    "\n",
    "sa3 = SimulatedAnnealing(pack, \n",
    "                        initial_temperature=1000, \n",
    "                        cooling_rate=0.89, \n",
    "                        num_iterations=1000)\n",
    "\n",
    "sa3.simulated_annealing()\n",
    "\n",
    "print(\"Best solution:\", sa3.results['sol'][-1])\n",
    "print(\"Best fitness:\", sa3.results['fit'][-1])"
   ]
  },
  {
   "cell_type": "code",
   "execution_count": 26,
   "metadata": {},
   "outputs": [
    {
     "name": "stdout",
     "output_type": "stream",
     "text": [
      "Best solution: [1, 1, 1, 0, 1, 1, 0, 1, 0, 1, 1, 0, 1, 0, 0, 0, 0, 0, 0, 0, 1, 1, 0, 0, 0, 1, 0, 1, 0, 1, 1, 1, 0, 0, 1, 0, 1, 0, 1, 0, 0, 1, 1, 1, 0, 0, 0, 1, 1, 0]\n",
      "Best fitness: 0\n"
     ]
    }
   ],
   "source": [
    "pack = Knapsack(capacity=270, d=50,\n",
    "                weights_bound=[1, 100], \n",
    "                profit_bound=[1, 999],\n",
    "                exist=1,\n",
    "                file_name='N_50_w_[1, 100]_p_[1, 999].txt')\n",
    "\n",
    "sa3 = SimulatedAnnealing(pack, \n",
    "                        initial_temperature=1000, \n",
    "                        cooling_rate=0.89, \n",
    "                        num_iterations=1000)\n",
    "\n",
    "sa3.simulated_annealing()\n",
    "\n",
    "print(\"Best solution:\", sa3.results['sol'][-1])\n",
    "print(\"Best fitness:\", sa3.results['fit'][-1])"
   ]
  }
 ],
 "metadata": {
  "kernelspec": {
   "display_name": "Python 3",
   "language": "python",
   "name": "python3"
  },
  "language_info": {
   "codemirror_mode": {
    "name": "ipython",
    "version": 3
   },
   "file_extension": ".py",
   "mimetype": "text/x-python",
   "name": "python",
   "nbconvert_exporter": "python",
   "pygments_lexer": "ipython3",
   "version": "3.12.2"
  }
 },
 "nbformat": 4,
 "nbformat_minor": 2
}
