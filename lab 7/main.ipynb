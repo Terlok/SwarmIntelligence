{
 "cells": [
  {
   "cell_type": "code",
   "execution_count": 45,
   "metadata": {},
   "outputs": [],
   "source": [
    "from sklearn.model_selection import train_test_split\n",
    "import openpyxl\n",
    "import numpy as np\n",
    "from DE import DifferentialEvolution"
   ]
  },
  {
   "cell_type": "code",
   "execution_count": 46,
   "metadata": {},
   "outputs": [
    {
     "name": "stdout",
     "output_type": "stream",
     "text": [
      "Shape of x / y: (745, 10) / (745,)\n"
     ]
    }
   ],
   "source": [
    "wb = openpyxl.load_workbook('TestRegData.xlsx')\n",
    "sheet = wb['Var4']\n",
    "temp = [col[1:] for col in sheet.iter_cols(values_only=True)]\n",
    "x_data = temp[:-1]\n",
    "y_data = temp[-1]\n",
    "wb.close()\n",
    "\n",
    "x = np.array(x_data).T\n",
    "y = np.array(y_data)\n",
    "print(f'Shape of x / y: {x.shape} / {y.shape}')"
   ]
  },
  {
   "cell_type": "code",
   "execution_count": 47,
   "metadata": {},
   "outputs": [
    {
     "name": "stdout",
     "output_type": "stream",
     "text": [
      "Shape of X_train / y_train: (558, 10) / (558,)\n",
      "Shape of X_test / y_test: (187, 10) / (187,)\n"
     ]
    }
   ],
   "source": [
    "X_train, X_test, y_train, y_test = train_test_split(x, y, test_size=0.25, random_state=42)\n",
    "print(f'Shape of X_train / y_train: {X_train.shape} / {y_train.shape}')\n",
    "print(f'Shape of X_test / y_test: {X_test.shape} / {y_test.shape}')"
   ]
  },
  {
   "cell_type": "code",
   "execution_count": 48,
   "metadata": {},
   "outputs": [],
   "source": [
    "def L1(a, x, y, coef=0.0005):\n",
    "    return sum([(y[i] - (a[0]+sum([a[j]*x[i][j] for j in range(1, len(a))])))**2 + coef*sum([abs(a[i]) for i in range(len(a))]) for i in range(1, len(x))])\n",
    "\n",
    "def L2(a, x, y, coef=0.0005):\n",
    "    return sum([(y[i] - (a[0]+sum([a[j]*x[i][j] for j in range(1, len(a))])))**2 + coef*sum([a[i]**2 for i in range(len(a))]) for i in range(1, len(x))])\n",
    "\n",
    "def ElasticnNets(a, x, y, coef):\n",
    "    coef1, coef2 = coef[0], coef[1]\n",
    "    fisrt_term  = coef1 * sum([a[i]**2 for i in range(len(a))])\n",
    "    second_term = coef2 * sum([abs(a[i]) for i in range(len(a))])\n",
    "    return sum([(y[i] - (a[0]+sum([a[j]*x[i][j] for j in range(1, len(a))])))**2 + fisrt_term + second_term for i in range(1, len(x))])"
   ]
  },
  {
   "cell_type": "markdown",
   "metadata": {},
   "source": [
    "### Метод диференціальної еволюції"
   ]
  },
  {
   "cell_type": "code",
   "execution_count": 40,
   "metadata": {},
   "outputs": [
    {
     "name": "stdout",
     "output_type": "stream",
     "text": [
      "Best solution : [-10.           3.12619215   5.68277515  -2.95399255  -2.04757682\n",
      "  -1.29952362  -3.59053317   2.00259702  -0.15494283  -3.68992116]\n",
      "Best fitness: 2141.2334872699703\n"
     ]
    }
   ],
   "source": [
    "bounds = np.array([[-10, 10] for _ in range(10)])\n",
    "de = DifferentialEvolution(func=L1, bounds=bounds, max_iter=20, data=(X_train, y_train))\n",
    "\n",
    "best_solution, best_fitness = de.optimize()\n",
    "print(\"Best solution :\", best_solution)\n",
    "print(\"Best fitness:\", best_fitness)"
   ]
  },
  {
   "cell_type": "markdown",
   "metadata": {},
   "source": [
    "### Алгоритм оптимізації роєм частинок"
   ]
  },
  {
   "cell_type": "code",
   "execution_count": null,
   "metadata": {},
   "outputs": [],
   "source": []
  }
 ],
 "metadata": {
  "kernelspec": {
   "display_name": "Python 3",
   "language": "python",
   "name": "python3"
  },
  "language_info": {
   "codemirror_mode": {
    "name": "ipython",
    "version": 3
   },
   "file_extension": ".py",
   "mimetype": "text/x-python",
   "name": "python",
   "nbconvert_exporter": "python",
   "pygments_lexer": "ipython3",
   "version": "3.12.2"
  }
 },
 "nbformat": 4,
 "nbformat_minor": 2
}
