{
 "cells": [
  {
   "cell_type": "code",
   "execution_count": 74,
   "metadata": {},
   "outputs": [
    {
     "ename": "NameError",
     "evalue": "name '__file__' is not defined",
     "output_type": "error",
     "traceback": [
      "\u001b[1;31m---------------------------------------------------------------------------\u001b[0m",
      "\u001b[1;31mNameError\u001b[0m                                 Traceback (most recent call last)",
      "Cell \u001b[1;32mIn[74], line 9\u001b[0m\n\u001b[0;32m      6\u001b[0m \u001b[38;5;28;01mfrom\u001b[39;00m \u001b[38;5;21;01mPSO\u001b[39;00m \u001b[38;5;28;01mimport\u001b[39;00m ParticleSwarmOptimization\n\u001b[0;32m      7\u001b[0m \u001b[38;5;28;01mfrom\u001b[39;00m \u001b[38;5;21;01msklearn\u001b[39;00m\u001b[38;5;21;01m.\u001b[39;00m\u001b[38;5;21;01mmodel_selection\u001b[39;00m \u001b[38;5;28;01mimport\u001b[39;00m train_test_split\n\u001b[1;32m----> 9\u001b[0m path \u001b[38;5;241m=\u001b[39m Path(\u001b[38;5;18;43m__file__\u001b[39;49m)\u001b[38;5;241m.\u001b[39mparent\u001b[38;5;241m.\u001b[39mresolve()\n",
      "\u001b[1;31mNameError\u001b[0m: name '__file__' is not defined"
     ]
    }
   ],
   "source": [
    "import openpyxl\n",
    "import numpy as np\n",
    "from pathlib import Path\n",
    "import matplotlib.pyplot as plt\n",
    "from DE import DifferentialEvolution\n",
    "from PSO import ParticleSwarmOptimization\n",
    "from sklearn.model_selection import train_test_split\n",
    "\n",
    "path = Path(__file__).parent.resolve()"
   ]
  },
  {
   "cell_type": "code",
   "execution_count": null,
   "metadata": {},
   "outputs": [],
   "source": [
    "def plot_fitness(alg, data, filename):\n",
    "    fitness = data['fit']\n",
    "    best_fitness = [max(iteration) for iteration in fitness]\n",
    "    plt.plot(range(1, len(best_fitness) + 1), best_fitness)\n",
    "    plt.xlabel('Iteration')\n",
    "    plt.ylabel('Best fitness')\n",
    "    plt.title('Evolution best of fitness')\n",
    "    plt.grid(True)\n",
    "    plt.show()"
   ]
  },
  {
   "cell_type": "code",
   "execution_count": 50,
   "metadata": {},
   "outputs": [
    {
     "name": "stdout",
     "output_type": "stream",
     "text": [
      "Shape of x / y: (745, 10) / (745,)\n"
     ]
    }
   ],
   "source": [
    "wb = openpyxl.load_workbook('TestRegData.xlsx')\n",
    "sheet = wb['Var4']\n",
    "temp = [col[1:] for col in sheet.iter_cols(values_only=True)]\n",
    "x_data = temp[:-1]\n",
    "y_data = temp[-1]\n",
    "wb.close()\n",
    "\n",
    "x = np.array(x_data).T\n",
    "y = np.array(y_data)\n",
    "print(f'Shape of x / y: {x.shape} / {y.shape}')"
   ]
  },
  {
   "cell_type": "code",
   "execution_count": 51,
   "metadata": {},
   "outputs": [
    {
     "name": "stdout",
     "output_type": "stream",
     "text": [
      "Shape of X_train / y_train: (558, 10) / (558,)\n",
      "Shape of X_test / y_test: (187, 10) / (187,)\n"
     ]
    }
   ],
   "source": [
    "X_train, X_test, y_train, y_test = train_test_split(x, y, test_size=0.25, random_state=42)\n",
    "data = (X_train, y_train)\n",
    "print(f'Shape of X_train / y_train: {X_train.shape} / {y_train.shape}')\n",
    "print(f'Shape of X_test / y_test: {X_test.shape} / {y_test.shape}')"
   ]
  },
  {
   "cell_type": "code",
   "execution_count": 52,
   "metadata": {},
   "outputs": [],
   "source": [
    "def L1(a, x, y, coef=0.0005):\n",
    "    return sum([(y[i] - (a[0]+sum([a[j]*x[i][j] for j in range(1, len(a))])))**2 + coef*sum([abs(a[i]) for i in range(len(a))]) for i in range(1, len(x))])\n",
    "\n",
    "def L2(a, x, y, coef=0.0005):\n",
    "    return sum([(y[i] - (a[0]+sum([a[j]*x[i][j] for j in range(1, len(a))])))**2 + coef*sum([a[i]**2 for i in range(len(a))]) for i in range(1, len(x))])\n",
    "\n",
    "def ElasticnNets(a, x, y, coef):\n",
    "    coef1, coef2 = coef[0], coef[1]\n",
    "    fisrt_term  = coef1 * sum([a[i]**2 for i in range(len(a))])\n",
    "    second_term = coef2 * sum([abs(a[i]) for i in range(len(a))])\n",
    "    return sum([(y[i] - (a[0]+sum([a[j]*x[i][j] for j in range(1, len(a))])))**2 + fisrt_term + second_term for i in range(1, len(x))])"
   ]
  },
  {
   "cell_type": "markdown",
   "metadata": {},
   "source": [
    "### Метод диференціальної еволюції"
   ]
  },
  {
   "cell_type": "code",
   "execution_count": 62,
   "metadata": {},
   "outputs": [
    {
     "name": "stdout",
     "output_type": "stream",
     "text": [
      "Best solution: [-0.25076645  0.58917345 -1.23664583 -6.88713519 -4.13715126 -2.7902276\n",
      "  2.95323459  0.92269294 -1.7764239  -9.66674834]\n",
      "Best fitness: 5936.3711940054\n"
     ]
    }
   ],
   "source": [
    "bounds = np.array([[-5, 5] for _ in range(10)])\n",
    "de = DifferentialEvolution(L1, bounds, data, max_iter=20)\n",
    "\n",
    "best_solution, best_fitness = de.optimize()\n",
    "print('Best solution:', best_solution)\n",
    "print('Best fitness:', best_fitness)\n",
    "\n",
    "plot_fitness('DE', de.data, 'L1')"
   ]
  },
  {
   "cell_type": "markdown",
   "metadata": {},
   "source": [
    "### Алгоритм оптимізації роєм частинок"
   ]
  },
  {
   "cell_type": "code",
   "execution_count": 63,
   "metadata": {},
   "outputs": [
    {
     "name": "stdout",
     "output_type": "stream",
     "text": [
      "Best solution: [-0.25076645  0.58917345 -1.23664583 -6.88713519 -4.13715126 -2.7902276\n",
      "  2.95323459  0.92269294 -1.7764239  -9.66674834]\n",
      "Best fitness: 5341.919596753799\n"
     ]
    }
   ],
   "source": [
    "bounds = np.array([[-5, 5] for _ in range(10)])\n",
    "pso = ParticleSwarmOptimization(L1, bounds, data, max_iter=20)\n",
    "best_params, best_fitness = pso.optimize()\n",
    "\n",
    "print('Best solution:', best_solution)\n",
    "print('Best fitness:', best_fitness)"
   ]
  },
  {
   "cell_type": "markdown",
   "metadata": {},
   "source": [
    "### Boston_housing"
   ]
  },
  {
   "cell_type": "code",
   "execution_count": 69,
   "metadata": {},
   "outputs": [
    {
     "name": "stdout",
     "output_type": "stream",
     "text": [
      "Shape of x / y: (506, 104) / (506,)\n"
     ]
    }
   ],
   "source": [
    "wb = openpyxl.load_workbook('boston_housing.xlsx')\n",
    "sheet = wb['boston_housing']\n",
    "temp = [col[1:] for col in sheet.iter_cols(values_only=True)]\n",
    "x_data = temp[:-1]\n",
    "y_data = temp[-1]\n",
    "wb.close()\n",
    "\n",
    "x = np.array(x_data).T\n",
    "y = np.array(y_data)\n",
    "print(f'Shape of x / y: {x.shape} / {y.shape}')"
   ]
  },
  {
   "cell_type": "code",
   "execution_count": 70,
   "metadata": {},
   "outputs": [
    {
     "name": "stdout",
     "output_type": "stream",
     "text": [
      "Shape of X_train / y_train: (379, 104) / (379,)\n",
      "Shape of X_test / y_test: (127, 104) / (127,)\n"
     ]
    }
   ],
   "source": [
    "X_train, X_test, y_train, y_test = train_test_split(x, y, test_size=0.25, random_state=42)\n",
    "data = (X_train, y_train)\n",
    "print(f'Shape of X_train / y_train: {X_train.shape} / {y_train.shape}')\n",
    "print(f'Shape of X_test / y_test: {X_test.shape} / {y_test.shape}')"
   ]
  },
  {
   "cell_type": "markdown",
   "metadata": {},
   "source": [
    "#### Метод диференціальної еволюції"
   ]
  },
  {
   "cell_type": "code",
   "execution_count": 71,
   "metadata": {},
   "outputs": [
    {
     "name": "stdout",
     "output_type": "stream",
     "text": [
      "Best solution: [ 10.           1.4380935    6.          -4.82466305   7.16263916\n",
      "   4.98353944   2.18434787  -9.4331093    3.04491379  -5.83822398\n",
      "  -1.68500798  -7.46051557 -10.           6.38491237  10.\n",
      "   2.97486141  10.         -10.          -3.62918187 -10.\n",
      "  -5.72821383 -10.          -5.16441361   5.55603572  10.\n",
      "   9.36025776   2.48110659 -10.          10.          -0.27780614\n",
      "  -9.07254241   7.74913559   4.05499855 -10.           9.01186073\n",
      "  -9.29969891   8.16332893  -8.10693899  10.          -5.1388358\n",
      "  10.          -6.80815843  -7.91748746  -4.56477308   2.87515968\n",
      " -10.           9.10953162 -10.          -5.34281846  -3.21035094\n",
      "  10.           7.50548015 -10.          10.           8.16953859\n",
      "   6.          -1.15314454   6.0021713  -10.          -5.05321317\n",
      "  -6.          -8.41334352  -0.81073942   0.14657211   8.46968604\n",
      " -10.          -5.35558146   9.07610004   2.77483937   6.07703527\n",
      "  10.           7.16952382  10.           8.38108973  10.\n",
      "  10.           0.89965285   4.97906498  -4.98654086  10.\n",
      "   1.6834474    8.2395696   -9.27516327 -10.          -0.90839554\n",
      "   9.74976008  -6.51848197   9.76359959   0.84558568   8.80630109\n",
      " -10.          -1.41699268  10.           1.49324423 -10.\n",
      " -10.          -3.65176495   3.35532067   1.16871032 -10.\n",
      "  10.          10.           4.64156793   7.36422312]\n",
      "Best fitness: 23334.418183085407\n"
     ]
    }
   ],
   "source": [
    "bounds = np.array([[-5, 5] for _ in range(104)])\n",
    "de = DifferentialEvolution(L2, bounds, data, max_iter=20)\n",
    "\n",
    "best_solution, best_fitness = de.optimize()\n",
    "print('Best solution:', best_solution)\n",
    "print('Best fitness:', best_fitness)"
   ]
  },
  {
   "cell_type": "markdown",
   "metadata": {},
   "source": [
    "#### Алгоритм оптимізації роєм частинок"
   ]
  },
  {
   "cell_type": "code",
   "execution_count": 73,
   "metadata": {},
   "outputs": [
    {
     "name": "stdout",
     "output_type": "stream",
     "text": [
      "Best solution: [ 10.           1.4380935    6.          -4.82466305   7.16263916\n",
      "   4.98353944   2.18434787  -9.4331093    3.04491379  -5.83822398\n",
      "  -1.68500798  -7.46051557 -10.           6.38491237  10.\n",
      "   2.97486141  10.         -10.          -3.62918187 -10.\n",
      "  -5.72821383 -10.          -5.16441361   5.55603572  10.\n",
      "   9.36025776   2.48110659 -10.          10.          -0.27780614\n",
      "  -9.07254241   7.74913559   4.05499855 -10.           9.01186073\n",
      "  -9.29969891   8.16332893  -8.10693899  10.          -5.1388358\n",
      "  10.          -6.80815843  -7.91748746  -4.56477308   2.87515968\n",
      " -10.           9.10953162 -10.          -5.34281846  -3.21035094\n",
      "  10.           7.50548015 -10.          10.           8.16953859\n",
      "   6.          -1.15314454   6.0021713  -10.          -5.05321317\n",
      "  -6.          -8.41334352  -0.81073942   0.14657211   8.46968604\n",
      " -10.          -5.35558146   9.07610004   2.77483937   6.07703527\n",
      "  10.           7.16952382  10.           8.38108973  10.\n",
      "  10.           0.89965285   4.97906498  -4.98654086  10.\n",
      "   1.6834474    8.2395696   -9.27516327 -10.          -0.90839554\n",
      "   9.74976008  -6.51848197   9.76359959   0.84558568   8.80630109\n",
      " -10.          -1.41699268  10.           1.49324423 -10.\n",
      " -10.          -3.65176495   3.35532067   1.16871032 -10.\n",
      "  10.          10.           4.64156793   7.36422312]\n",
      "Best fitness: 23461.678299430667\n"
     ]
    }
   ],
   "source": [
    "bounds = np.array([[-5, 5] for _ in range(104)])\n",
    "pso = ParticleSwarmOptimization(L1, bounds, data, max_iter=20)\n",
    "best_params, best_fitness = pso.optimize()\n",
    "\n",
    "print('Best solution:', best_solution)\n",
    "print('Best fitness:', best_fitness)"
   ]
  }
 ],
 "metadata": {
  "kernelspec": {
   "display_name": "Python 3",
   "language": "python",
   "name": "python3"
  },
  "language_info": {
   "codemirror_mode": {
    "name": "ipython",
    "version": 3
   },
   "file_extension": ".py",
   "mimetype": "text/x-python",
   "name": "python",
   "nbconvert_exporter": "python",
   "pygments_lexer": "ipython3",
   "version": "3.12.2"
  }
 },
 "nbformat": 4,
 "nbformat_minor": 2
}
