{
 "cells": [
  {
   "cell_type": "markdown",
   "metadata": {},
   "source": [
    "# GO"
   ]
  },
  {
   "cell_type": "code",
   "execution_count": 1,
   "metadata": {},
   "outputs": [],
   "source": [
    "from functions import *\n",
    "from Graphics import *\n",
    "from GO import GeneticOptimizer\n",
    "from GWO import GreyWolfOptimizer\n",
    "\n",
    "create_folders()"
   ]
  },
  {
   "cell_type": "markdown",
   "metadata": {},
   "source": [
    "Гармонійна функція"
   ]
  },
  {
   "cell_type": "code",
   "execution_count": 2,
   "metadata": {},
   "outputs": [
    {
     "name": "stdout",
     "output_type": "stream",
     "text": [
      "-32.9209612501599\n"
     ]
    }
   ],
   "source": [
    "go1 = GeneticOptimizer(\n",
    "    function=harmonic, \n",
    "    interval=[0, 3],\n",
    "    population_size= 20,\n",
    "    epochs=100,\n",
    "    number_of_bits=16,\n",
    "    dimensions=1)\n",
    "\n",
    "go1.optimize()\n",
    "fitness_trend('GO_harmonic', go1.fit['fitness'])\n",
    "distances('GO_harmonic', go1.best_iteration_values)\n",
    "print(go1.min)"
   ]
  },
  {
   "cell_type": "markdown",
   "metadata": {},
   "source": [
    "Параметрична функція"
   ]
  },
  {
   "cell_type": "code",
   "execution_count": 26,
   "metadata": {},
   "outputs": [
    {
     "name": "stdout",
     "output_type": "stream",
     "text": [
      "-543.4097048996153\n"
     ]
    }
   ],
   "source": [
    "go2 = GeneticOptimizer(\n",
    "    function=parametric, \n",
    "    interval=[0, 3],\n",
    "    population_size= 20,\n",
    "    epochs=100,\n",
    "    number_of_bits=16,\n",
    "    dimensions=1)\n",
    "\n",
    "go2.optimize()\n",
    "fitness_trend('GO_parametric', go2.fit['fitness'])\n",
    "distances('GO_parametric', go2.best_iteration_values)\n",
    "print(go2.min)"
   ]
  },
  {
   "cell_type": "markdown",
   "metadata": {},
   "source": [
    "Функція Ізома"
   ]
  },
  {
   "cell_type": "code",
   "execution_count": 4,
   "metadata": {},
   "outputs": [
    {
     "name": "stdout",
     "output_type": "stream",
     "text": [
      "-4.613535943904113e-07\n"
     ]
    }
   ],
   "source": [
    "go3 = GeneticOptimizer(\n",
    "    function=izum, \n",
    "    interval=[[-100, 100], [-100, 100]],\n",
    "    population_size= 20,\n",
    "    epochs=100,\n",
    "    number_of_bits=16,\n",
    "    dimensions=2)\n",
    "\n",
    "go3.optimize()\n",
    "fitness_trend('GO_izum', go3.fit['fitness'])\n",
    "distances('GO_izum', go3.best_iteration_values)\n",
    "print(go3.min)"
   ]
  },
  {
   "cell_type": "markdown",
   "metadata": {},
   "source": [
    "Функція Ерклі"
   ]
  },
  {
   "cell_type": "code",
   "execution_count": 5,
   "metadata": {},
   "outputs": [
    {
     "name": "stdout",
     "output_type": "stream",
     "text": [
      "0.00030549044236494183\n"
     ]
    }
   ],
   "source": [
    "go4 = GeneticOptimizer(\n",
    "    function=erkli, \n",
    "    interval=[[-5, 5], [-5, 5]],\n",
    "    population_size= 20,\n",
    "    epochs=100,\n",
    "    number_of_bits=16,\n",
    "    dimensions=2)\n",
    "\n",
    "go4.optimize()\n",
    "fitness_trend('GO_erkli', go4.fit['fitness'])\n",
    "distances('GO_erkli', go4.best_iteration_values)\n",
    "print(go4.min)"
   ]
  },
  {
   "cell_type": "markdown",
   "metadata": {},
   "source": [
    "Функція «хрест на підносі»"
   ]
  },
  {
   "cell_type": "code",
   "execution_count": 6,
   "metadata": {},
   "outputs": [
    {
     "name": "stdout",
     "output_type": "stream",
     "text": [
      "-2.0614384913425607\n"
     ]
    }
   ],
   "source": [
    "go5 = GeneticOptimizer(\n",
    "    function=cross_in_tray, \n",
    "    interval=[[-10, 10], [-10, 10]],\n",
    "    population_size= 20,\n",
    "    epochs=100,\n",
    "    number_of_bits=16,\n",
    "    dimensions=2)\n",
    "\n",
    "go5.optimize()\n",
    "fitness_trend('GO_cross_in_tray', go5.fit['fitness'])\n",
    "distances('GO_cross_in_tray', go5.best_iteration_values)\n",
    "print(go5.min)"
   ]
  },
  {
   "cell_type": "markdown",
   "metadata": {},
   "source": [
    "Функція «підставка для яєць»"
   ]
  },
  {
   "cell_type": "code",
   "execution_count": 7,
   "metadata": {},
   "outputs": [
    {
     "name": "stdout",
     "output_type": "stream",
     "text": [
      "-858.1209550196946\n"
     ]
    }
   ],
   "source": [
    "go6 = GeneticOptimizer(\n",
    "    function=egg, \n",
    "    interval=[[-512, 512], [-512, 512]],\n",
    "    population_size= 20,\n",
    "    epochs=100,\n",
    "    number_of_bits=16,\n",
    "    dimensions=2)\n",
    "\n",
    "go6.optimize()\n",
    "fitness_trend('GO_egg', go6.fit['fitness'])\n",
    "distances('GO_egg', go6.best_iteration_values)\n",
    "print(go6.min)"
   ]
  },
  {
   "cell_type": "markdown",
   "metadata": {},
   "source": [
    "Таблична функція Хольдера"
   ]
  },
  {
   "cell_type": "code",
   "execution_count": 8,
   "metadata": {},
   "outputs": [
    {
     "name": "stdout",
     "output_type": "stream",
     "text": [
      "-19.208502527431587\n"
     ]
    }
   ],
   "source": [
    "go7 = GeneticOptimizer(\n",
    "    function=holder, \n",
    "    interval=[[-10, 10], [-10, 10]],\n",
    "    population_size= 20,\n",
    "    epochs=100,\n",
    "    number_of_bits=16,\n",
    "    dimensions=2)\n",
    "\n",
    "go7.optimize()\n",
    "fitness_trend('GO_holder', go7.fit['fitness'])\n",
    "distances('GO_holder', go7.best_iteration_values)\n",
    "print(go7.min)"
   ]
  },
  {
   "cell_type": "markdown",
   "metadata": {},
   "source": [
    "Функція Шаффера 1"
   ]
  },
  {
   "cell_type": "code",
   "execution_count": 9,
   "metadata": {},
   "outputs": [
    {
     "name": "stdout",
     "output_type": "stream",
     "text": [
      "4.656754926113393e-09\n"
     ]
    }
   ],
   "source": [
    "go8 = GeneticOptimizer(\n",
    "    function=schaffer1, \n",
    "    interval=[[-100, 100], [-100, 100]],\n",
    "    population_size= 20,\n",
    "    epochs=100,\n",
    "    number_of_bits=16,\n",
    "    dimensions=2)\n",
    "\n",
    "go8.optimize()\n",
    "fitness_trend('GO_schaffer1', go8.fit['fitness'])\n",
    "distances('GO_schaffer1', go8.best_iteration_values)\n",
    "print(go8.min)"
   ]
  },
  {
   "cell_type": "markdown",
   "metadata": {},
   "source": [
    "Функція Шаффера 2"
   ]
  },
  {
   "cell_type": "code",
   "execution_count": 10,
   "metadata": {},
   "outputs": [
    {
     "name": "stdout",
     "output_type": "stream",
     "text": [
      "0.0015676268355229728\n"
     ]
    }
   ],
   "source": [
    "go9 = GeneticOptimizer(\n",
    "    function=schaffer2, \n",
    "    interval=[[-100, 100], [-100, 100]],\n",
    "    population_size= 30,\n",
    "    epochs=200,\n",
    "    number_of_bits=16,\n",
    "    dimensions=2)\n",
    "\n",
    "go9.optimize()\n",
    "fitness_trend('GO_schaffer2', go9.fit['fitness'])\n",
    "distances('GO_schaffer2', go9.best_iteration_values)\n",
    "print(go9.min)"
   ]
  },
  {
   "cell_type": "markdown",
   "metadata": {},
   "source": [
    "Функція Растринга"
   ]
  },
  {
   "cell_type": "code",
   "execution_count": 11,
   "metadata": {},
   "outputs": [
    {
     "name": "stdout",
     "output_type": "stream",
     "text": [
      "8.15086235483875e-06\n"
     ]
    }
   ],
   "source": [
    "go0 = GeneticOptimizer(\n",
    "    function=rastrigin, \n",
    "    interval=[[-5.12, 5.12], [-5.12, 5.12], [-5.12, 5.12]],\n",
    "    population_size= 30,\n",
    "    epochs=100,\n",
    "    number_of_bits=16,\n",
    "    dimensions=3)\n",
    "\n",
    "go0.optimize()\n",
    "fitness_trend('GO_rastrigin', go0.fit['fitness'])\n",
    "distances('GO_rastrigin', go0.best_iteration_values)\n",
    "print(go0.min)"
   ]
  },
  {
   "cell_type": "code",
   "execution_count": 12,
   "metadata": {},
   "outputs": [
    {
     "name": "stdout",
     "output_type": "stream",
     "text": [
      "54.59815003314423\n"
     ]
    }
   ],
   "source": [
    "go10 = GeneticOptimizer(\n",
    "    function=test, \n",
    "    interval=[-3, 4],\n",
    "    population_size= 30,\n",
    "    epochs=100,\n",
    "    number_of_bits=16,\n",
    "    dimensions=1)\n",
    "\n",
    "go10.optimize()\n",
    "fitness_trend('GO_test', go10.fit['fitness'])\n",
    "distances('GO_test', go10.best_iteration_values)\n",
    "print(go10.min)"
   ]
  },
  {
   "cell_type": "markdown",
   "metadata": {},
   "source": [
    "# GWO"
   ]
  },
  {
   "cell_type": "markdown",
   "metadata": {},
   "source": [
    "Гармонійна функція"
   ]
  },
  {
   "cell_type": "code",
   "execution_count": 13,
   "metadata": {},
   "outputs": [
    {
     "name": "stdout",
     "output_type": "stream",
     "text": [
      "-32.95748780927983\n"
     ]
    }
   ],
   "source": [
    "gwo1 = GreyWolfOptimizer(\n",
    "    function=harmonic, \n",
    "    interval=[0, 3],\n",
    "    epochs=100,\n",
    "    step=0.6,\n",
    "    population_size=20,\n",
    "    dimensions=1)\n",
    "\n",
    "gwo1.optimize()\n",
    "fitness_trend('GWO_harmonic', gwo1.fit['fitness'])\n",
    "distances('GWO_harmonic', gwo1.best_iteration_values)\n",
    "print(gwo1.min)"
   ]
  },
  {
   "cell_type": "markdown",
   "metadata": {},
   "source": [
    "Параметрична функція"
   ]
  },
  {
   "cell_type": "code",
   "execution_count": 14,
   "metadata": {},
   "outputs": [
    {
     "name": "stdout",
     "output_type": "stream",
     "text": [
      "-1882.5871560657667\n"
     ]
    }
   ],
   "source": [
    "gwo2 = GreyWolfOptimizer(\n",
    "    function=parametric, \n",
    "    interval=[0, 3],\n",
    "    epochs=100,\n",
    "    step=0.6,\n",
    "    population_size=20,\n",
    "    dimensions=1)\n",
    "\n",
    "gwo2.optimize()\n",
    "fitness_trend('GWO_parametric', gwo2.fit['fitness'])\n",
    "distances('GWO_parametric', gwo2.best_iteration_values)\n",
    "print(gwo2.min)"
   ]
  },
  {
   "cell_type": "markdown",
   "metadata": {},
   "source": [
    "Функція Ізома"
   ]
  },
  {
   "cell_type": "code",
   "execution_count": 15,
   "metadata": {},
   "outputs": [
    {
     "name": "stdout",
     "output_type": "stream",
     "text": [
      "-0.995691444803091\n"
     ]
    }
   ],
   "source": [
    "gwo3 = GreyWolfOptimizer(\n",
    "    function=izum, \n",
    "    interval=[[-100, 100], [-100, 100]],\n",
    "    epochs=100,\n",
    "    step=0.6,\n",
    "    population_size=20,\n",
    "    dimensions=2)\n",
    "\n",
    "gwo3.optimize()\n",
    "fitness_trend('GWO_izum', gwo3.fit['fitness'])\n",
    "distances('GWO_izum', gwo3.best_iteration_values)\n",
    "print(gwo3.min)"
   ]
  },
  {
   "cell_type": "markdown",
   "metadata": {},
   "source": [
    "Функція Ерклі"
   ]
  },
  {
   "cell_type": "code",
   "execution_count": 16,
   "metadata": {},
   "outputs": [
    {
     "name": "stdout",
     "output_type": "stream",
     "text": [
      "0.03452069272469416\n"
     ]
    }
   ],
   "source": [
    "gwo4 = GreyWolfOptimizer(\n",
    "    function=erkli, \n",
    "    interval=[[-5, 5], [-5, 5]],\n",
    "    epochs=100,\n",
    "    step=0.6,\n",
    "    population_size=20,\n",
    "    dimensions=2)\n",
    "\n",
    "gwo4.optimize()\n",
    "fitness_trend('GWO_erkli', gwo4.fit['fitness'])\n",
    "distances('GWO_erkli', gwo4.best_iteration_values)\n",
    "print(gwo4.min)"
   ]
  },
  {
   "cell_type": "markdown",
   "metadata": {},
   "source": [
    "Функція «хрест на підносі»"
   ]
  },
  {
   "cell_type": "code",
   "execution_count": 17,
   "metadata": {},
   "outputs": [
    {
     "name": "stdout",
     "output_type": "stream",
     "text": [
      "-2.0620808914984914\n"
     ]
    }
   ],
   "source": [
    "gwo5 = GreyWolfOptimizer(\n",
    "    function=cross_in_tray, \n",
    "    interval=[[-10, 10], [-10, 10]],\n",
    "    epochs=100,\n",
    "    step=0.6,\n",
    "    population_size=20,\n",
    "    dimensions=2)\n",
    "\n",
    "gwo5.optimize()\n",
    "fitness_trend('GWO_cross_in_tray', gwo5.fit['fitness'])\n",
    "distances('GWO_cross_in_tray', gwo5.best_iteration_values)\n",
    "print(gwo5.min)"
   ]
  },
  {
   "cell_type": "markdown",
   "metadata": {},
   "source": [
    "Функція «підставка для яєць»"
   ]
  },
  {
   "cell_type": "code",
   "execution_count": 18,
   "metadata": {},
   "outputs": [
    {
     "name": "stdout",
     "output_type": "stream",
     "text": [
      "-533.8155556497568\n"
     ]
    }
   ],
   "source": [
    "gwo6 = GreyWolfOptimizer(\n",
    "    function=egg, \n",
    "    interval=[[-512, 512], [-512, 512]],\n",
    "    epochs=100,\n",
    "    step=0.1,\n",
    "    population_size=20,\n",
    "    dimensions=2)\n",
    "\n",
    "gwo6.optimize()\n",
    "fitness_trend('GWO_egg', gwo6.fit['fitness'])\n",
    "distances('GWO_egg', gwo6.best_iteration_values)\n",
    "print(gwo6.min)"
   ]
  },
  {
   "cell_type": "markdown",
   "metadata": {},
   "source": [
    "Таблична функція Хольдера"
   ]
  },
  {
   "cell_type": "code",
   "execution_count": 19,
   "metadata": {},
   "outputs": [
    {
     "name": "stdout",
     "output_type": "stream",
     "text": [
      "-14.810797853710527\n"
     ]
    }
   ],
   "source": [
    "gwo7 = GreyWolfOptimizer(\n",
    "    function=holder, \n",
    "    interval=[[-10, 10], [-10, 10]],\n",
    "    epochs=100,\n",
    "    step=0.6,\n",
    "    population_size=20,\n",
    "    dimensions=2)\n",
    "\n",
    "gwo7.optimize()\n",
    "fitness_trend('GWO_holder', gwo7.fit['fitness'])\n",
    "distances('GWO_holder', gwo7.best_iteration_values)\n",
    "print(gwo7.min)"
   ]
  },
  {
   "cell_type": "markdown",
   "metadata": {},
   "source": [
    "Функція Шаффера 1"
   ]
  },
  {
   "cell_type": "code",
   "execution_count": 20,
   "metadata": {},
   "outputs": [
    {
     "name": "stdout",
     "output_type": "stream",
     "text": [
      "0.017959475638801514\n"
     ]
    }
   ],
   "source": [
    "gwo8 = GreyWolfOptimizer(\n",
    "    function=schaffer1, \n",
    "    interval=[[-100, 100], [-100, 100]],\n",
    "    epochs=100,\n",
    "    step=0.3,\n",
    "    population_size=20,\n",
    "    dimensions=2)\n",
    "\n",
    "gwo8.optimize()\n",
    "fitness_trend('GWO_schaffer1', gwo8.fit['fitness'])\n",
    "distances('GWO_schaffer1', gwo8.best_iteration_values)\n",
    "print(gwo8.min)"
   ]
  },
  {
   "cell_type": "markdown",
   "metadata": {},
   "source": [
    "Функція Шаффера 2"
   ]
  },
  {
   "cell_type": "code",
   "execution_count": 21,
   "metadata": {},
   "outputs": [
    {
     "name": "stdout",
     "output_type": "stream",
     "text": [
      "0.08318461914387604\n"
     ]
    }
   ],
   "source": [
    "gwo9 = GreyWolfOptimizer(\n",
    "    function=schaffer2, \n",
    "    interval=[[-100, 100], [-100, 100]],\n",
    "    epochs=100,\n",
    "    step=0.1,\n",
    "    population_size=20,\n",
    "    dimensions=2)\n",
    "\n",
    "gwo9.optimize()\n",
    "fitness_trend('GWO_schaffer2', gwo9.fit['fitness'])\n",
    "distances('GWO_schaffer2', gwo9.best_iteration_values)\n",
    "print(gwo9.min)"
   ]
  },
  {
   "cell_type": "markdown",
   "metadata": {},
   "source": [
    "Функція Растринга"
   ]
  },
  {
   "cell_type": "code",
   "execution_count": 22,
   "metadata": {},
   "outputs": [
    {
     "name": "stdout",
     "output_type": "stream",
     "text": [
      "0.011321329237718558\n"
     ]
    }
   ],
   "source": [
    "gwo0 = GreyWolfOptimizer(\n",
    "    function=rastrigin, \n",
    "    interval=[[-5.12, 5.12], [-5.12, 5.12], [-5.12, 5.12]],\n",
    "    epochs=200,\n",
    "    step=0.01,\n",
    "    population_size=30,\n",
    "    dimensions=3)\n",
    "\n",
    "gwo0.optimize()\n",
    "fitness_trend('GWO_rastrigin', gwo0.fit['fitness'])\n",
    "distances('GWO_rastrigin', gwo0.best_iteration_values)\n",
    "print(gwo0.min)"
   ]
  }
 ],
 "metadata": {
  "kernelspec": {
   "display_name": "Python 3",
   "language": "python",
   "name": "python3"
  },
  "language_info": {
   "codemirror_mode": {
    "name": "ipython",
    "version": 3
   },
   "file_extension": ".py",
   "mimetype": "text/x-python",
   "name": "python",
   "nbconvert_exporter": "python",
   "pygments_lexer": "ipython3",
   "version": "3.10.8"
  }
 },
 "nbformat": 4,
 "nbformat_minor": 2
}
