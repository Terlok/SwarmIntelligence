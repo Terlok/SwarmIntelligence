{
 "cells": [
  {
   "cell_type": "markdown",
   "metadata": {},
   "source": [
    "### Particle swarm optimization (PSO)"
   ]
  },
  {
   "cell_type": "code",
   "execution_count": 4,
   "metadata": {},
   "outputs": [],
   "source": [
    "from PSO import *\n",
    "from ABC import *\n",
    "from Firefly import*\n",
    "from functions import *"
   ]
  },
  {
   "cell_type": "code",
   "execution_count": 5,
   "metadata": {},
   "outputs": [
    {
     "ename": "SyntaxError",
     "evalue": "invalid syntax. Perhaps you forgot a comma? (2117384136.py, line 3)",
     "output_type": "error",
     "traceback": [
      "\u001b[1;36m  Cell \u001b[1;32mIn [5], line 3\u001b[1;36m\u001b[0m\n\u001b[1;33m    max_iter=200\u001b[0m\n\u001b[1;37m             ^\u001b[0m\n\u001b[1;31mSyntaxError\u001b[0m\u001b[1;31m:\u001b[0m invalid syntax. Perhaps you forgot a comma?\n"
     ]
    }
   ],
   "source": [
    "pso = ParticleOptimization(\n",
    "                        particles=30,\n",
    "                        max_iter=200\n",
    "                        bounds=[[0, 5], [0, 5]],\n",
    "                        function=test_func,\n",
    "                        )\n",
    "print(pso.process_particles())"
   ]
  },
  {
   "cell_type": "markdown",
   "metadata": {},
   "source": [
    "Функція Растринга"
   ]
  },
  {
   "cell_type": "code",
   "execution_count": null,
   "metadata": {},
   "outputs": [
    {
     "ename": "TypeError",
     "evalue": "ParticleOptimization.__init__() got an unexpected keyword argument 'iterations'",
     "output_type": "error",
     "traceback": [
      "\u001b[1;31m---------------------------------------------------------------------------\u001b[0m",
      "\u001b[1;31mTypeError\u001b[0m                                 Traceback (most recent call last)",
      "Cell \u001b[1;32mIn [3], line 1\u001b[0m\n\u001b[1;32m----> 1\u001b[0m pso1 \u001b[38;5;241m=\u001b[39m \u001b[43mParticleOptimization\u001b[49m\u001b[43m(\u001b[49m\n\u001b[0;32m      2\u001b[0m \u001b[43m                        \u001b[49m\u001b[43mparticles\u001b[49m\u001b[38;5;241;43m=\u001b[39;49m\u001b[38;5;241;43m30\u001b[39;49m\u001b[43m,\u001b[49m\n\u001b[0;32m      3\u001b[0m \u001b[43m                        \u001b[49m\u001b[43miterations\u001b[49m\u001b[38;5;241;43m=\u001b[39;49m\u001b[38;5;241;43m200\u001b[39;49m\u001b[43m,\u001b[49m\n\u001b[0;32m      4\u001b[0m \u001b[43m                        \u001b[49m\u001b[43minterval\u001b[49m\u001b[38;5;241;43m=\u001b[39;49m\u001b[43m[\u001b[49m\u001b[43m[\u001b[49m\u001b[38;5;241;43m-\u001b[39;49m\u001b[38;5;241;43m5.12\u001b[39;49m\u001b[43m,\u001b[49m\u001b[43m \u001b[49m\u001b[38;5;241;43m5.12\u001b[39;49m\u001b[43m]\u001b[49m\u001b[43m]\u001b[49m\u001b[38;5;241;43m*\u001b[39;49m\u001b[38;5;241;43m10\u001b[39;49m\u001b[43m,\u001b[49m\n\u001b[0;32m      5\u001b[0m \u001b[43m                        \u001b[49m\u001b[43mfunction\u001b[49m\u001b[38;5;241;43m=\u001b[39;49m\u001b[43mrastrigin\u001b[49m\u001b[43m,\u001b[49m\n\u001b[0;32m      6\u001b[0m \u001b[43m                        \u001b[49m\u001b[43m)\u001b[49m\n\u001b[0;32m      8\u001b[0m \u001b[38;5;28mprint\u001b[39m(pso1\u001b[38;5;241m.\u001b[39mprocess_particles())\n",
      "\u001b[1;31mTypeError\u001b[0m: ParticleOptimization.__init__() got an unexpected keyword argument 'iterations'"
     ]
    }
   ],
   "source": [
    "pso1 = ParticleOptimization(\n",
    "                        particles=30,\n",
    "                        max_iter=200,\n",
    "                        interval=[[-5.12, 5.12]]*10,\n",
    "                        function=rastrigin,\n",
    "                        )\n",
    "\n",
    "print(pso1.process_particles())"
   ]
  },
  {
   "cell_type": "markdown",
   "metadata": {},
   "source": [
    "Функції Розенброка"
   ]
  },
  {
   "cell_type": "code",
   "execution_count": null,
   "metadata": {},
   "outputs": [],
   "source": [
    "pso2 = ParticleOptimization(\n",
    "                        particles=30,\n",
    "                        max_iter=200,\n",
    "                        interval=[[-1.5, 1.5], [-0.5, 2.5]],\n",
    "                        function=rosenbrock1,\n",
    "                        )\n",
    "print(pso2.process_particles())"
   ]
  },
  {
   "cell_type": "code",
   "execution_count": null,
   "metadata": {},
   "outputs": [],
   "source": [
    "pso3 = ParticleOptimization(\n",
    "                        particles=30,\n",
    "                        bounds=[[-1.5, 1.5], [-1.5, 1.5]],\n",
    "                        function=rosenbrock2,\n",
    "                        )\n",
    "\n",
    "print(pso3.process_particles())"
   ]
  },
  {
   "cell_type": "markdown",
   "metadata": {},
   "source": [
    "Функція Мішри-Берда"
   ]
  },
  {
   "cell_type": "code",
   "execution_count": null,
   "metadata": {},
   "outputs": [],
   "source": []
  },
  {
   "cell_type": "markdown",
   "metadata": {},
   "source": [
    "Функція Симіонеску"
   ]
  },
  {
   "cell_type": "code",
   "execution_count": null,
   "metadata": {},
   "outputs": [],
   "source": []
  },
  {
   "cell_type": "markdown",
   "metadata": {},
   "source": [
    "Задача мінімізації ваги редуктора"
   ]
  },
  {
   "cell_type": "code",
   "execution_count": null,
   "metadata": {},
   "outputs": [],
   "source": []
  },
  {
   "cell_type": "markdown",
   "metadata": {},
   "source": [
    "### Artificial Bee Colony (ABC)"
   ]
  },
  {
   "cell_type": "markdown",
   "metadata": {},
   "source": [
    "Функція Растринга"
   ]
  },
  {
   "cell_type": "code",
   "execution_count": null,
   "metadata": {},
   "outputs": [],
   "source": [
    "abc1 = ABC(rastrigin, np.array([[-5.12, 5.12]]*10), colony_size=30)\n",
    "print(abc1.optimize())"
   ]
  },
  {
   "cell_type": "markdown",
   "metadata": {},
   "source": [
    "Функції Розенброка"
   ]
  },
  {
   "cell_type": "code",
   "execution_count": null,
   "metadata": {},
   "outputs": [],
   "source": [
    "abc2 = ABC(rosenbrock1, np.array([[-1.5, 1.5], [-0.5, 2.5]]), colony_size=30)\n",
    "print(abc2.optimize())"
   ]
  },
  {
   "cell_type": "code",
   "execution_count": null,
   "metadata": {},
   "outputs": [],
   "source": [
    "abc3 = ABC(rosenbrock2, np.array([[-1.5, 1.5], [-1.5, 1.5]]), colony_size=30)\n",
    "print(abc3.optimize())"
   ]
  },
  {
   "cell_type": "markdown",
   "metadata": {},
   "source": [
    "Функція Мішри-Берда"
   ]
  },
  {
   "cell_type": "code",
   "execution_count": null,
   "metadata": {},
   "outputs": [],
   "source": []
  },
  {
   "cell_type": "markdown",
   "metadata": {},
   "source": [
    "Функція Симіонеску"
   ]
  },
  {
   "cell_type": "code",
   "execution_count": null,
   "metadata": {},
   "outputs": [],
   "source": []
  },
  {
   "cell_type": "markdown",
   "metadata": {},
   "source": [
    "Задача мінімізації ваги редуктора"
   ]
  },
  {
   "cell_type": "code",
   "execution_count": null,
   "metadata": {},
   "outputs": [],
   "source": []
  },
  {
   "cell_type": "markdown",
   "metadata": {},
   "source": [
    "### Firefly algorithm"
   ]
  },
  {
   "cell_type": "markdown",
   "metadata": {},
   "source": [
    "Функція Растринга"
   ]
  },
  {
   "cell_type": "code",
   "execution_count": 6,
   "metadata": {},
   "outputs": [
    {
     "ename": "NameError",
     "evalue": "name 'FireflyAlgorithm' is not defined",
     "output_type": "error",
     "traceback": [
      "\u001b[1;31m---------------------------------------------------------------------------\u001b[0m",
      "\u001b[1;31mNameError\u001b[0m                                 Traceback (most recent call last)",
      "Cell \u001b[1;32mIn [6], line 1\u001b[0m\n\u001b[1;32m----> 1\u001b[0m firefly1 \u001b[38;5;241m=\u001b[39m \u001b[43mFireflyAlgorithm\u001b[49m(rastrigin, n\u001b[38;5;241m=\u001b[39m\u001b[38;5;241m20\u001b[39m, bounds\u001b[38;5;241m=\u001b[39m[[\u001b[38;5;241m-\u001b[39m\u001b[38;5;241m1.5\u001b[39m, \u001b[38;5;241m1.5\u001b[39m], [\u001b[38;5;241m-\u001b[39m\u001b[38;5;241m0.5\u001b[39m, \u001b[38;5;241m2.5\u001b[39m]])\n\u001b[0;32m      3\u001b[0m best_solution, best_fitness \u001b[38;5;241m=\u001b[39m firefly1\u001b[38;5;241m.\u001b[39moptimize()\n\u001b[0;32m      4\u001b[0m \u001b[38;5;28mprint\u001b[39m(\u001b[38;5;124mf\u001b[39m\u001b[38;5;124m'\u001b[39m\u001b[38;5;124mBest solution for Rosenbrock: \u001b[39m\u001b[38;5;132;01m{\u001b[39;00mbest_solution\u001b[38;5;132;01m}\u001b[39;00m\u001b[38;5;124m'\u001b[39m)\n",
      "\u001b[1;31mNameError\u001b[0m: name 'FireflyAlgorithm' is not defined"
     ]
    }
   ],
   "source": [
    "firefly1 = FireflyAlgorithm(rastrigin, n=20, bounds=[[-1.5, 1.5], [-0.5, 2.5]])\n",
    "\n",
    "best_solution, best_fitness = firefly1.optimize()\n",
    "print(f'Best solution for Rosenbrock: {best_solution}')\n",
    "print(f'Best fitness for Rosenbrock: {best_fitness}')"
   ]
  },
  {
   "cell_type": "markdown",
   "metadata": {},
   "source": [
    "Функції Розенброка"
   ]
  },
  {
   "cell_type": "code",
   "execution_count": null,
   "metadata": {},
   "outputs": [],
   "source": [
    "firefly1 = FireflyAlgorithm(rosenbrock1, n=20, bounds=[[-1.5, 1.5], [-0.5, 2.5]])\n",
    "\n",
    "best_solution, best_fitness = firefly1.optimize()\n",
    "print(f'Best solution for Rosenbrock: {best_solution}')\n",
    "print(f'Best fitness for Rosenbrock: {best_fitness}')"
   ]
  },
  {
   "cell_type": "code",
   "execution_count": null,
   "metadata": {},
   "outputs": [],
   "source": []
  },
  {
   "cell_type": "markdown",
   "metadata": {},
   "source": [
    "Функція Мішри-Берда"
   ]
  },
  {
   "cell_type": "code",
   "execution_count": null,
   "metadata": {},
   "outputs": [],
   "source": []
  },
  {
   "cell_type": "markdown",
   "metadata": {},
   "source": [
    "Функція Симіонеску"
   ]
  },
  {
   "cell_type": "code",
   "execution_count": null,
   "metadata": {},
   "outputs": [],
   "source": []
  },
  {
   "cell_type": "markdown",
   "metadata": {},
   "source": [
    "Задача мінімізації ваги редуктора"
   ]
  },
  {
   "cell_type": "code",
   "execution_count": null,
   "metadata": {},
   "outputs": [],
   "source": []
  }
 ],
 "metadata": {
  "kernelspec": {
   "display_name": "Python 3",
   "language": "python",
   "name": "python3"
  },
  "language_info": {
   "codemirror_mode": {
    "name": "ipython",
    "version": 3
   },
   "file_extension": ".py",
   "mimetype": "text/x-python",
   "name": "python",
   "nbconvert_exporter": "python",
   "pygments_lexer": "ipython3",
   "version": "3.10.8"
  }
 },
 "nbformat": 4,
 "nbformat_minor": 2
}
