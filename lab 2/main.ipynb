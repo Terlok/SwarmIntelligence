{
 "cells": [
  {
   "cell_type": "markdown",
   "metadata": {},
   "source": [
    "### Particle swarm optimization (PSO)"
   ]
  },
  {
   "cell_type": "code",
   "execution_count": 4,
   "metadata": {},
   "outputs": [],
   "source": [
    "from PSO import *\n",
    "from ABC import *\n",
    "from Firefly import*\n",
    "from graphics import *\n",
    "from functions import *\n",
    "\n",
    "create_folders()"
   ]
  },
  {
   "cell_type": "markdown",
   "metadata": {},
   "source": [
    "Функція Растринга \\\n",
    "$n=2$"
   ]
  },
  {
   "cell_type": "code",
   "execution_count": 5,
   "metadata": {},
   "outputs": [
    {
     "name": "stdout",
     "output_type": "stream",
     "text": [
      "Best solution is: [ 0.03641996  2.07453849  0.96264904 -0.95719979 -0.05805192  1.96628502\n",
      " -1.07187634 -2.05851436 -0.06851195 -1.9022003 ]\n",
      "Best fitness is: 26.29200257353307\n"
     ]
    }
   ],
   "source": [
    "pso_1 = ParticleOptimization(\n",
    "                        particles=30,\n",
    "                        bounds=[[-5.12, 5.12]]*2,\n",
    "                        function=rastrigin,\n",
    "                        )\n",
    "\n",
    "best_solution, best_fitness = pso_1.process_particles()\n",
    "\n",
    "print(f'Best solution is: {best_solution}')\n",
    "print(f'Best fitness is: {best_fitness}')"
   ]
  },
  {
   "cell_type": "markdown",
   "metadata": {},
   "source": [
    "$n=10$"
   ]
  },
  {
   "cell_type": "code",
   "execution_count": null,
   "metadata": {},
   "outputs": [],
   "source": [
    "pso_2 = ParticleOptimization(\n",
    "                        particles=30,\n",
    "                        bounds=[[-5.12, 5.12]]*10,\n",
    "                        function=rastrigin,\n",
    "                        )\n",
    "\n",
    "best_solution, best_fitness = pso_2.process_particles()\n",
    "\n",
    "print(f'Best solution is: {best_solution}')\n",
    "print(f'Best fitness is: {best_fitness}')"
   ]
  },
  {
   "cell_type": "markdown",
   "metadata": {},
   "source": [
    "$n=30$"
   ]
  },
  {
   "cell_type": "code",
   "execution_count": null,
   "metadata": {},
   "outputs": [],
   "source": [
    "pso_3 = ParticleOptimization(\n",
    "                        particles=30,\n",
    "                        bounds=[[-5.12, 5.12]]*30,\n",
    "                        function=rastrigin,\n",
    "                        )\n",
    "\n",
    "best_solution, best_fitness = pso_3.process_particles()\n",
    "\n",
    "#print(f'Best solution is: {best_solution}')\n",
    "print(f'Best fitness is: {best_fitness}')"
   ]
  },
  {
   "cell_type": "markdown",
   "metadata": {},
   "source": [
    "$n=50$"
   ]
  },
  {
   "cell_type": "code",
   "execution_count": null,
   "metadata": {},
   "outputs": [],
   "source": [
    "pso_4 = ParticleOptimization(\n",
    "                        particles=30,\n",
    "                        bounds=[[-5.12, 5.12]]*50,\n",
    "                        function=rastrigin,\n",
    "                        )\n",
    "\n",
    "best_solution, best_fitness = pso_4.process_particles()\n",
    "\n",
    "#print(f'Best solution is: {best_solution}')\n",
    "print(f'Best fitness is: {best_fitness}')"
   ]
  },
  {
   "cell_type": "markdown",
   "metadata": {},
   "source": [
    "Функції Розенброка"
   ]
  },
  {
   "cell_type": "code",
   "execution_count": 6,
   "metadata": {},
   "outputs": [
    {
     "name": "stdout",
     "output_type": "stream",
     "text": [
      "Best solution is: [1.00263322 1.00527819]\n",
      "Best fitness is: 6.9361875022735946e-06\n"
     ]
    },
    {
     "ename": "TypeError",
     "evalue": "scatter_plot() takes 1 positional argument but 2 were given",
     "output_type": "error",
     "traceback": [
      "\u001b[1;31m---------------------------------------------------------------------------\u001b[0m",
      "\u001b[1;31mTypeError\u001b[0m                                 Traceback (most recent call last)",
      "Cell \u001b[1;32mIn [6], line 15\u001b[0m\n\u001b[0;32m     12\u001b[0m \u001b[38;5;28mprint\u001b[39m(\u001b[38;5;124mf\u001b[39m\u001b[38;5;124m'\u001b[39m\u001b[38;5;124mBest solution is: \u001b[39m\u001b[38;5;132;01m{\u001b[39;00mbest_solution\u001b[38;5;132;01m}\u001b[39;00m\u001b[38;5;124m'\u001b[39m)\n\u001b[0;32m     13\u001b[0m \u001b[38;5;28mprint\u001b[39m(\u001b[38;5;124mf\u001b[39m\u001b[38;5;124m'\u001b[39m\u001b[38;5;124mBest fitness is: \u001b[39m\u001b[38;5;132;01m{\u001b[39;00mbest_fitness\u001b[38;5;132;01m}\u001b[39;00m\u001b[38;5;124m'\u001b[39m)\n\u001b[1;32m---> 15\u001b[0m \u001b[43mscatter_plot\u001b[49m\u001b[43m(\u001b[49m\u001b[38;5;124;43m'\u001b[39;49m\u001b[38;5;124;43mRosenbrock #1 function\u001b[39;49m\u001b[38;5;124;43m'\u001b[39;49m\u001b[43m,\u001b[49m\u001b[43m \u001b[49m\u001b[43mpso2\u001b[49m\u001b[38;5;241;43m.\u001b[39;49m\u001b[43mvalues\u001b[49m\u001b[43m)\u001b[49m\n",
      "\u001b[1;31mTypeError\u001b[0m: scatter_plot() takes 1 positional argument but 2 were given"
     ]
    }
   ],
   "source": [
    "pso2 = ParticleOptimization(\n",
    "                        particles=30,\n",
    "                        max_iter=200,\n",
    "                        bounds=[[-1.5, 1.5], [-0.5, 2.5]],\n",
    "                        function=rosenbrock1,\n",
    "                        )\n",
    "\n",
    "best_solution, best_fitness = pso2.process_particles()\n",
    "# anim = Animation('Rosenbrock1', pso2.bounds, Rosenbrock1, pso2.values)\n",
    "# anim.animate()\n",
    "\n",
    "print(f'Best solution is: {best_solution}')\n",
    "print(f'Best fitness is: {best_fitness}')\n",
    "\n",
    "scatter_plot('Rosenbrock #1 function', pso2.values)"
   ]
  },
  {
   "cell_type": "code",
   "execution_count": 39,
   "metadata": {},
   "outputs": [
    {
     "name": "stdout",
     "output_type": "stream",
     "text": [
      "Best solution is: [0.98193569 0.96425681]\n",
      "Best fitness is: 0.0003266688779671372\n"
     ]
    }
   ],
   "source": [
    "pso3 = ParticleOptimization(\n",
    "                        particles=30,\n",
    "                        bounds=[[-1.5, 1.5], [-1.5, 1.5]],\n",
    "                        function=rosenbrock2,\n",
    "                        )\n",
    "\n",
    "best_solution, best_fitness = pso3.process_particles()\n",
    "# anim = Animation('Rosenbrock2', pso3.bounds, Rosenbrock2, pso3.values)\n",
    "# anim.animate()\n",
    "\n",
    "print(f'Best solution is: {best_solution}')\n",
    "print(f'Best fitness is: {best_fitness}')\n",
    "\n",
    "scatter_plot('Rosenbrock #2 function', pso3.values)"
   ]
  },
  {
   "cell_type": "markdown",
   "metadata": {},
   "source": [
    "Функція Мішри-Берда"
   ]
  },
  {
   "cell_type": "code",
   "execution_count": null,
   "metadata": {},
   "outputs": [],
   "source": [
    "pso4 = ParticleOptimization(\n",
    "                        particles=30,\n",
    "                        bounds=[[-10, 0], [-6.5, 0]],\n",
    "                        function=mishras_bird,\n",
    "                        )\n",
    "\n",
    "best_solution, best_fitness = pso4.process_particles()\n",
    "# anim = Animation('Rosenbrock2', pso4.bounds, Rosenbrock2, pso4.values)\n",
    "# anim.animate()\n",
    "\n",
    "print(f'Best solution is: {best_solution}')\n",
    "print(f'Best fitness is: {best_fitness}')\n",
    "\n",
    "scatter_plot(\"Mishra's Bird function\", pso4.values)"
   ]
  },
  {
   "cell_type": "markdown",
   "metadata": {},
   "source": [
    "Функція Симіонеску"
   ]
  },
  {
   "cell_type": "code",
   "execution_count": null,
   "metadata": {},
   "outputs": [],
   "source": [
    "pso5 = ParticleOptimization(\n",
    "                        particles=30,\n",
    "                        bounds=[[-1.25, 1.25], [-1.25, 1.25]],\n",
    "                        function=simionescu,\n",
    "                        )\n",
    "\n",
    "best_solution, best_fitness = pso5.process_particles()\n",
    "# anim = Animation('Rosenbrock2', pso5.bounds, Rosenbrock2, pso5.values)\n",
    "# anim.animate()\n",
    "\n",
    "print(f'Best solution is: {best_solution}')\n",
    "print(f'Best fitness is: {best_fitness}')\n",
    "\n",
    "scatter_plot('Simionescu function', pso5.values)"
   ]
  },
  {
   "cell_type": "markdown",
   "metadata": {},
   "source": [
    "Задача мінімізації ваги редуктора"
   ]
  },
  {
   "cell_type": "code",
   "execution_count": null,
   "metadata": {},
   "outputs": [],
   "source": []
  },
  {
   "cell_type": "markdown",
   "metadata": {},
   "source": [
    "### Artificial Bee Colony (ABC)"
   ]
  },
  {
   "cell_type": "markdown",
   "metadata": {},
   "source": [
    "Функція Растринга \\\n",
    "$n=2$"
   ]
  },
  {
   "cell_type": "code",
   "execution_count": 40,
   "metadata": {},
   "outputs": [
    {
     "name": "stdout",
     "output_type": "stream",
     "text": [
      "Best solution is: [ 0.71326427  0.00926907  1.01512414 -0.99636651 -3.08739805 -0.94586941\n",
      " -3.08328135  0.25612001 -0.8837004  -0.88930769]\n",
      "Best fitness is: 55.09661586164165\n"
     ]
    }
   ],
   "source": [
    "abc_1 = ABC(rastrigin, np.array([[-5.12, 5.12]]*2), colony_size=30)\n",
    "\n",
    "best_solution, best_fitness = abc_1.optimize()\n",
    "print(f'Best solution is: {best_solution}')\n",
    "print(f'Best fitness is: {best_fitness}')"
   ]
  },
  {
   "cell_type": "markdown",
   "metadata": {},
   "source": [
    "$n=10$"
   ]
  },
  {
   "cell_type": "code",
   "execution_count": null,
   "metadata": {},
   "outputs": [],
   "source": [
    "abc_2 = ABC(rastrigin, np.array([[-5.12, 5.12]]*10), colony_size=30)\n",
    "\n",
    "best_solution, best_fitness = abc_2.optimize()\n",
    "print(f'Best solution is: {best_solution}')\n",
    "print(f'Best fitness is: {best_fitness}')"
   ]
  },
  {
   "cell_type": "markdown",
   "metadata": {},
   "source": [
    "$n=30$"
   ]
  },
  {
   "cell_type": "code",
   "execution_count": null,
   "metadata": {},
   "outputs": [],
   "source": [
    "abc_3 = ABC(rastrigin, np.array([[-5.12, 5.12]]*30), colony_size=30)\n",
    "\n",
    "best_solution, best_fitness = abc_3.optimize()\n",
    "#print(f'Best solution is: {best_solution}')\n",
    "print(f'Best fitness is: {best_fitness}')"
   ]
  },
  {
   "cell_type": "markdown",
   "metadata": {},
   "source": [
    "$n=50$"
   ]
  },
  {
   "cell_type": "code",
   "execution_count": null,
   "metadata": {},
   "outputs": [],
   "source": [
    "abc_4 = ABC(rastrigin, np.array([[-5.12, 5.12]]*50), colony_size=30)\n",
    "\n",
    "best_solution, best_fitness = abc_4.optimize()\n",
    "#print(f'Best solution is: {best_solution}')\n",
    "print(f'Best fitness is: {best_fitness}')"
   ]
  },
  {
   "cell_type": "markdown",
   "metadata": {},
   "source": [
    "Функції Розенброка"
   ]
  },
  {
   "cell_type": "code",
   "execution_count": 41,
   "metadata": {},
   "outputs": [
    {
     "name": "stdout",
     "output_type": "stream",
     "text": [
      "Best solution is: [0.98336018 0.96565059]\n",
      "Best fitness is: 0.0004582281727301055\n"
     ]
    }
   ],
   "source": [
    "abc2 = ABC(rosenbrock1, np.array([[-1.5, 1.5], [-0.5, 2.5]]), colony_size=30)\n",
    "\n",
    "best_solution, best_fitness = abc2.optimize()\n",
    "print(f'Best solution is: {best_solution}')\n",
    "print(f'Best fitness is: {best_fitness}')\n",
    "\n",
    "scatter_plot('Rosenbrock #1 function', abc2.values)"
   ]
  },
  {
   "cell_type": "code",
   "execution_count": 42,
   "metadata": {},
   "outputs": [
    {
     "name": "stdout",
     "output_type": "stream",
     "text": [
      "Best solution is: [0.99108601 0.98256254]\n",
      "Best fitness is: 8.913558921788842e-05\n"
     ]
    }
   ],
   "source": [
    "abc3 = ABC(rosenbrock2, np.array([[-1.5, 1.5], [-1.5, 1.5]]), colony_size=30)\n",
    "\n",
    "best_solution, best_fitness = abc3.optimize()\n",
    "print(f'Best solution is: {best_solution}')\n",
    "print(f'Best fitness is: {best_fitness}')\n",
    "\n",
    "scatter_plot('Rosenbrock #2 function', abc3.values)"
   ]
  },
  {
   "cell_type": "markdown",
   "metadata": {},
   "source": [
    "Функція Мішри-Берда"
   ]
  },
  {
   "cell_type": "code",
   "execution_count": null,
   "metadata": {},
   "outputs": [],
   "source": [
    "abc4 = ABC(mishras_bird, np.array([[-10, 0], [-6.5, 0]]), colony_size=30)\n",
    "\n",
    "best_solution, best_fitness = abc4.optimize()\n",
    "print(f'Best solution is: {best_solution}')\n",
    "print(f'Best fitness is: {best_fitness}')\n",
    "\n",
    "scatter_plot(\"Mishra's Bird function\", abc4.values)"
   ]
  },
  {
   "cell_type": "markdown",
   "metadata": {},
   "source": [
    "Функція Симіонеску"
   ]
  },
  {
   "cell_type": "code",
   "execution_count": null,
   "metadata": {},
   "outputs": [],
   "source": [
    "abc5 = ABC(simionescu, np.array([[-1.25, 1.25], [-1.25, 1.25]]), colony_size=30)\n",
    "\n",
    "best_solution, best_fitness = abc5.optimize()\n",
    "print(f'Best solution is: {best_solution}')\n",
    "print(f'Best fitness is: {best_fitness}')\n",
    "\n",
    "scatter_plot('Simionescu function', abc5.values)"
   ]
  },
  {
   "cell_type": "markdown",
   "metadata": {},
   "source": [
    "Задача мінімізації ваги редуктора"
   ]
  },
  {
   "cell_type": "code",
   "execution_count": null,
   "metadata": {},
   "outputs": [],
   "source": []
  },
  {
   "cell_type": "markdown",
   "metadata": {},
   "source": [
    "### Firefly algorithm"
   ]
  },
  {
   "cell_type": "markdown",
   "metadata": {},
   "source": [
    "Функція Растринга \\\n",
    "$n=2$"
   ]
  },
  {
   "cell_type": "code",
   "execution_count": 31,
   "metadata": {},
   "outputs": [
    {
     "name": "stdout",
     "output_type": "stream",
     "text": [
      "Best solution is: [0.00033637 0.00062359]\n",
      "Best fitness is: 9.95958411351694e-05\n"
     ]
    }
   ],
   "source": [
    "firefly_1 = FireflyAlgorithm(rastrigin, n=30, bounds=np.array([[-5.12, 5.12]]*2))\n",
    "\n",
    "best_solution, best_fitness = firefly_1.optimize()\n",
    "print(f'Best solution is: {best_solution}')\n",
    "print(f'Best fitness is: {best_fitness}')"
   ]
  },
  {
   "cell_type": "markdown",
   "metadata": {},
   "source": [
    "$n=10$"
   ]
  },
  {
   "cell_type": "code",
   "execution_count": null,
   "metadata": {},
   "outputs": [],
   "source": [
    "firefly_2 = FireflyAlgorithm(rastrigin, n=30, bounds=np.array([[-5.12, 5.12]]*10))\n",
    "\n",
    "best_solution, best_fitness = firefly_2.optimize()\n",
    "print(f'Best solution is: {best_solution}')\n",
    "print(f'Best fitness is: {best_fitness}')"
   ]
  },
  {
   "cell_type": "markdown",
   "metadata": {},
   "source": [
    "$n=30$"
   ]
  },
  {
   "cell_type": "code",
   "execution_count": null,
   "metadata": {},
   "outputs": [],
   "source": [
    "firefly_3 = FireflyAlgorithm(rastrigin, n=30, bounds=np.array([[-5.12, 5.12]]*30))\n",
    "\n",
    "best_solution, best_fitness = firefly_3.optimize()\n",
    "#print(f'Best solution is: {best_solution}')\n",
    "print(f'Best fitness is: {best_fitness}')"
   ]
  },
  {
   "cell_type": "markdown",
   "metadata": {},
   "source": [
    "$n=50$"
   ]
  },
  {
   "cell_type": "code",
   "execution_count": null,
   "metadata": {},
   "outputs": [],
   "source": [
    "firefly_4 = FireflyAlgorithm(rastrigin, n=30, bounds=np.array([[-5.12, 5.12]]*50))\n",
    "\n",
    "best_solution, best_fitness = firefly_4.optimize()\n",
    "#print(f'Best solution is: {best_solution}')\n",
    "print(f'Best fitness is: {best_fitness}')"
   ]
  },
  {
   "cell_type": "markdown",
   "metadata": {},
   "source": [
    "Функції Розенброка"
   ]
  },
  {
   "cell_type": "code",
   "execution_count": 28,
   "metadata": {},
   "outputs": [
    {
     "name": "stdout",
     "output_type": "stream",
     "text": [
      "Best solution is: [0.99931643 0.9986251 ]\n",
      "Best fitness is: 4.740376483893196e-07\n"
     ]
    }
   ],
   "source": [
    "firefly2 = FireflyAlgorithm(rosenbrock1, n=30, bounds=np.array([[-1.5, 1.5], [-0.5, 2.5]]))\n",
    "\n",
    "best_solution, best_fitness = firefly2.optimize()\n",
    "print(f'Best solution is: {best_solution}')\n",
    "print(f'Best fitness is: {best_fitness}')\n",
    "\n",
    "scatter_plot('Rosenbrock #1 function', firefly2.values)"
   ]
  },
  {
   "cell_type": "code",
   "execution_count": 27,
   "metadata": {},
   "outputs": [
    {
     "name": "stdout",
     "output_type": "stream",
     "text": [
      "Best solution is: [1.00077265 1.0015524 ]\n",
      "Best fitness is: 6.012131455054033e-07\n"
     ]
    }
   ],
   "source": [
    "firefly3 = FireflyAlgorithm(rosenbrock1, n=30, bounds=np.array([[-1.5, 1.5], [-1.5, 1.5]]))\n",
    "\n",
    "best_solution, best_fitness = firefly3.optimize()\n",
    "print(f'Best solution is: {best_solution}')\n",
    "print(f'Best fitness is: {best_fitness}')\n",
    "\n",
    "scatter_plot('Rosenbrock #2 function', firefly3.values)"
   ]
  },
  {
   "cell_type": "markdown",
   "metadata": {},
   "source": [
    "Функція Мішри-Берда"
   ]
  },
  {
   "cell_type": "code",
   "execution_count": null,
   "metadata": {},
   "outputs": [],
   "source": [
    "firefly4 = FireflyAlgorithm(mishras_bird, n=30, bounds=np.array([[-10, 0], [-6.5, 0]]))\n",
    "\n",
    "best_solution, best_fitness = firefly4.optimize()\n",
    "print(f'Best solution is: {best_solution}')\n",
    "print(f'Best fitness is: {best_fitness}')\n",
    "\n",
    "scatter_plot(\"Mishra's Bird function\", firefly4.values)"
   ]
  },
  {
   "cell_type": "markdown",
   "metadata": {},
   "source": [
    "Функція Симіонеску"
   ]
  },
  {
   "cell_type": "code",
   "execution_count": null,
   "metadata": {},
   "outputs": [],
   "source": [
    "firefly5 = FireflyAlgorithm(simionescu, n=30, bounds=np.array([[-1.25, 1.25], [-1.25, 1.25]]))\n",
    "\n",
    "best_solution, best_fitness = firefly5.optimize()\n",
    "print(f'Best solution is: {best_solution}')\n",
    "print(f'Best fitness is: {best_fitness}')\n",
    "\n",
    "scatter_plot('Simionescu function', firefly5.values)"
   ]
  },
  {
   "cell_type": "markdown",
   "metadata": {},
   "source": [
    "Задача мінімізації ваги редуктора"
   ]
  },
  {
   "cell_type": "code",
   "execution_count": null,
   "metadata": {},
   "outputs": [],
   "source": []
  }
 ],
 "metadata": {
  "kernelspec": {
   "display_name": "Python 3",
   "language": "python",
   "name": "python3"
  },
  "language_info": {
   "codemirror_mode": {
    "name": "ipython",
    "version": 3
   },
   "file_extension": ".py",
   "mimetype": "text/x-python",
   "name": "python",
   "nbconvert_exporter": "python",
   "pygments_lexer": "ipython3",
   "version": "3.10.8"
  }
 },
 "nbformat": 4,
 "nbformat_minor": 2
}
