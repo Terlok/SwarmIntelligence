{
 "cells": [
  {
   "cell_type": "markdown",
   "metadata": {},
   "source": [
    "### Particle swarm optimization (PSO)"
   ]
  },
  {
   "cell_type": "code",
   "execution_count": 43,
   "metadata": {},
   "outputs": [],
   "source": [
    "from PSO import *\n",
    "from ABC import *\n",
    "from Firefly import*\n",
    "from functions import *\n",
    "\n",
    "create_folders()"
   ]
  },
  {
   "cell_type": "code",
   "execution_count": 7,
   "metadata": {},
   "outputs": [
    {
     "name": "stdout",
     "output_type": "stream",
     "text": [
      "(array([3.18515538, 3.12980282]), -1.8083520359225966)\n"
     ]
    }
   ],
   "source": [
    "pso = ParticleOptimization(\n",
    "                        particles=30,\n",
    "                        max_iter=200,\n",
    "                        bounds=[[0, 5], [0, 5]],\n",
    "                        function=test_func,\n",
    "                        )\n",
    "print(pso.process_particles())"
   ]
  },
  {
   "cell_type": "markdown",
   "metadata": {},
   "source": [
    "Функція Растринга"
   ]
  },
  {
   "cell_type": "code",
   "execution_count": 32,
   "metadata": {},
   "outputs": [
    {
     "name": "stdout",
     "output_type": "stream",
     "text": [
      "Best solution is: [-0.84902605  0.9018582  -0.03619926  1.88093388 -0.9740701   0.04277842\n",
      " -0.10743941  0.03468664  0.06689499 -0.02861632]\n",
      "Best fitness is: 18.936391351905613\n"
     ]
    }
   ],
   "source": [
    "pso1 = ParticleOptimization(\n",
    "                        particles=30,\n",
    "                        max_iter=200,\n",
    "                        bounds=[[-5.12, 5.12]]*10,\n",
    "                        function=rastrigin,\n",
    "                        )\n",
    "\n",
    "best_solution, best_fitness = pso1.process_particles()\n",
    "# anim = Animation('Rastrigin', pso1.bounds, Rastrigin, pso1.values)\n",
    "# anim.animate()\n",
    "\n",
    "print(f'Best solution is: {best_solution}')\n",
    "print(f'Best fitness is: {best_fitness}')"
   ]
  },
  {
   "cell_type": "markdown",
   "metadata": {},
   "source": [
    "Функції Розенброка"
   ]
  },
  {
   "cell_type": "code",
   "execution_count": 33,
   "metadata": {},
   "outputs": [
    {
     "name": "stdout",
     "output_type": "stream",
     "text": [
      "Best solution is: [1.00326074 1.00655277]\n",
      "Best fitness is: 1.0675083593254994e-05\n"
     ]
    }
   ],
   "source": [
    "pso2 = ParticleOptimization(\n",
    "                        particles=30,\n",
    "                        max_iter=200,\n",
    "                        bounds=[[-1.5, 1.5], [-0.5, 2.5]],\n",
    "                        function=rosenbrock1,\n",
    "                        )\n",
    "\n",
    "best_solution, best_fitness = pso2.process_particles()\n",
    "# anim = Animation('Rosenbrock1', pso2.bounds, Rosenbrock1, pso2.values)\n",
    "# anim.animate()\n",
    "\n",
    "print(f'Best solution is: {best_solution}')\n",
    "print(f'Best fitness is: {best_fitness}')"
   ]
  },
  {
   "cell_type": "code",
   "execution_count": 39,
   "metadata": {},
   "outputs": [
    {
     "name": "stdout",
     "output_type": "stream",
     "text": [
      "Best solution is: [0.98193569 0.96425681]\n",
      "Best fitness is: 0.0003266688779671372\n"
     ]
    }
   ],
   "source": [
    "pso3 = ParticleOptimization(\n",
    "                        particles=30,\n",
    "                        bounds=[[-1.5, 1.5], [-1.5, 1.5]],\n",
    "                        function=rosenbrock2,\n",
    "                        )\n",
    "\n",
    "best_solution, best_fitness = pso3.process_particles()\n",
    "# anim = Animation('Rosenbrock2', pso3.bounds, Rosenbrock2, pso3.values)\n",
    "# anim.animate()\n",
    "\n",
    "print(f'Best solution is: {best_solution}')\n",
    "print(f'Best fitness is: {best_fitness}')"
   ]
  },
  {
   "cell_type": "markdown",
   "metadata": {},
   "source": [
    "Функція Мішри-Берда"
   ]
  },
  {
   "cell_type": "code",
   "execution_count": null,
   "metadata": {},
   "outputs": [],
   "source": []
  },
  {
   "cell_type": "markdown",
   "metadata": {},
   "source": [
    "Функція Симіонеску"
   ]
  },
  {
   "cell_type": "code",
   "execution_count": null,
   "metadata": {},
   "outputs": [],
   "source": []
  },
  {
   "cell_type": "markdown",
   "metadata": {},
   "source": [
    "Задача мінімізації ваги редуктора"
   ]
  },
  {
   "cell_type": "code",
   "execution_count": null,
   "metadata": {},
   "outputs": [],
   "source": []
  },
  {
   "cell_type": "markdown",
   "metadata": {},
   "source": [
    "### Artificial Bee Colony (ABC)"
   ]
  },
  {
   "cell_type": "markdown",
   "metadata": {},
   "source": [
    "Функція Растринга"
   ]
  },
  {
   "cell_type": "code",
   "execution_count": 40,
   "metadata": {},
   "outputs": [
    {
     "name": "stdout",
     "output_type": "stream",
     "text": [
      "Best solution is: [ 0.71326427  0.00926907  1.01512414 -0.99636651 -3.08739805 -0.94586941\n",
      " -3.08328135  0.25612001 -0.8837004  -0.88930769]\n",
      "Best fitness is: 55.09661586164165\n"
     ]
    }
   ],
   "source": [
    "abc1 = ABC(rastrigin, np.array([[-5.12, 5.12]]*10), colony_size=30)\n",
    "\n",
    "best_solution, best_fitness = abc1.optimize()\n",
    "print(f'Best solution is: {best_solution}')\n",
    "print(f'Best fitness is: {best_fitness}')"
   ]
  },
  {
   "cell_type": "markdown",
   "metadata": {},
   "source": [
    "Функції Розенброка"
   ]
  },
  {
   "cell_type": "code",
   "execution_count": 41,
   "metadata": {},
   "outputs": [
    {
     "name": "stdout",
     "output_type": "stream",
     "text": [
      "Best solution is: [0.98336018 0.96565059]\n",
      "Best fitness is: 0.0004582281727301055\n"
     ]
    }
   ],
   "source": [
    "abc2 = ABC(rosenbrock1, np.array([[-1.5, 1.5], [-0.5, 2.5]]), colony_size=30)\n",
    "\n",
    "best_solution, best_fitness = abc2.optimize()\n",
    "print(f'Best solution is: {best_solution}')\n",
    "print(f'Best fitness is: {best_fitness}')"
   ]
  },
  {
   "cell_type": "code",
   "execution_count": 42,
   "metadata": {},
   "outputs": [
    {
     "name": "stdout",
     "output_type": "stream",
     "text": [
      "Best solution is: [0.99108601 0.98256254]\n",
      "Best fitness is: 8.913558921788842e-05\n"
     ]
    }
   ],
   "source": [
    "abc3 = ABC(rosenbrock2, np.array([[-1.5, 1.5], [-1.5, 1.5]]), colony_size=30)\n",
    "\n",
    "best_solution, best_fitness = abc3.optimize()\n",
    "print(f'Best solution is: {best_solution}')\n",
    "print(f'Best fitness is: {best_fitness}')"
   ]
  },
  {
   "cell_type": "markdown",
   "metadata": {},
   "source": [
    "Функція Мішри-Берда"
   ]
  },
  {
   "cell_type": "code",
   "execution_count": null,
   "metadata": {},
   "outputs": [],
   "source": []
  },
  {
   "cell_type": "markdown",
   "metadata": {},
   "source": [
    "Функція Симіонеску"
   ]
  },
  {
   "cell_type": "code",
   "execution_count": null,
   "metadata": {},
   "outputs": [],
   "source": []
  },
  {
   "cell_type": "markdown",
   "metadata": {},
   "source": [
    "Задача мінімізації ваги редуктора"
   ]
  },
  {
   "cell_type": "code",
   "execution_count": null,
   "metadata": {},
   "outputs": [],
   "source": []
  },
  {
   "cell_type": "markdown",
   "metadata": {},
   "source": [
    "### Firefly algorithm"
   ]
  },
  {
   "cell_type": "markdown",
   "metadata": {},
   "source": [
    "Функція Растринга"
   ]
  },
  {
   "cell_type": "code",
   "execution_count": 31,
   "metadata": {},
   "outputs": [
    {
     "name": "stdout",
     "output_type": "stream",
     "text": [
      "Best solution is: [0.00033637 0.00062359]\n",
      "Best fitness is: 9.95958411351694e-05\n"
     ]
    }
   ],
   "source": [
    "firefly1 = FireflyAlgorithm(rastrigin, n=20, bounds=np.array([[-1.5, 1.5], [-0.5, 2.5]]))\n",
    "\n",
    "best_solution, best_fitness = firefly1.optimize()\n",
    "print(f'Best solution is: {best_solution}')\n",
    "print(f'Best fitness is: {best_fitness}')"
   ]
  },
  {
   "cell_type": "markdown",
   "metadata": {},
   "source": [
    "Функції Розенброка"
   ]
  },
  {
   "cell_type": "code",
   "execution_count": 28,
   "metadata": {},
   "outputs": [
    {
     "name": "stdout",
     "output_type": "stream",
     "text": [
      "Best solution is: [0.99931643 0.9986251 ]\n",
      "Best fitness is: 4.740376483893196e-07\n"
     ]
    }
   ],
   "source": [
    "firefly2 = FireflyAlgorithm(rosenbrock1, n=20, bounds=np.array([[-1.5, 1.5], [-0.5, 2.5]]))\n",
    "\n",
    "best_solution, best_fitness = firefly2.optimize()\n",
    "print(f'Best solution is: {best_solution}')\n",
    "print(f'Best fitness is: {best_fitness}')"
   ]
  },
  {
   "cell_type": "code",
   "execution_count": 27,
   "metadata": {},
   "outputs": [
    {
     "name": "stdout",
     "output_type": "stream",
     "text": [
      "Best solution is: [1.00077265 1.0015524 ]\n",
      "Best fitness is: 6.012131455054033e-07\n"
     ]
    }
   ],
   "source": [
    "firefly3 = FireflyAlgorithm(rosenbrock1, n=20, bounds=np.array([[-1.5, 1.5], [-0.5, 2.5]]))\n",
    "\n",
    "best_solution, best_fitness = firefly3.optimize()\n",
    "print(f'Best solution is: {best_solution}')\n",
    "print(f'Best fitness is: {best_fitness}')"
   ]
  },
  {
   "cell_type": "markdown",
   "metadata": {},
   "source": [
    "Функція Мішри-Берда"
   ]
  },
  {
   "cell_type": "code",
   "execution_count": null,
   "metadata": {},
   "outputs": [],
   "source": []
  },
  {
   "cell_type": "markdown",
   "metadata": {},
   "source": [
    "Функція Симіонеску"
   ]
  },
  {
   "cell_type": "code",
   "execution_count": null,
   "metadata": {},
   "outputs": [],
   "source": []
  },
  {
   "cell_type": "markdown",
   "metadata": {},
   "source": [
    "Задача мінімізації ваги редуктора"
   ]
  },
  {
   "cell_type": "code",
   "execution_count": null,
   "metadata": {},
   "outputs": [],
   "source": []
  }
 ],
 "metadata": {
  "kernelspec": {
   "display_name": "Python 3",
   "language": "python",
   "name": "python3"
  },
  "language_info": {
   "codemirror_mode": {
    "name": "ipython",
    "version": 3
   },
   "file_extension": ".py",
   "mimetype": "text/x-python",
   "name": "python",
   "nbconvert_exporter": "python",
   "pygments_lexer": "ipython3",
   "version": "3.10.8"
  }
 },
 "nbformat": 4,
 "nbformat_minor": 2
}
