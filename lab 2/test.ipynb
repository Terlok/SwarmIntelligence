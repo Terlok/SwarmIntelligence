{
 "cells": [
  {
   "cell_type": "code",
   "execution_count": 4,
   "metadata": {},
   "outputs": [],
   "source": [
    "import numpy as np\n",
    "import random as rnd"
   ]
  },
  {
   "cell_type": "code",
   "execution_count": 5,
   "metadata": {},
   "outputs": [],
   "source": [
    "n_particles = 5"
   ]
  },
  {
   "cell_type": "code",
   "execution_count": 6,
   "metadata": {},
   "outputs": [
    {
     "name": "stdout",
     "output_type": "stream",
     "text": [
      "6.549999999999999\n"
     ]
    }
   ],
   "source": [
    "def rastrigin(A, n, x):\n",
    "    return A * n + np.sum(x**2 - A * np.cos(2 * np.pi * x))\n",
    "\n",
    "A = 2\n",
    "x_values = np.array([0.1, 0.2, 0.3, 0.4, 0.5])\n",
    "\n",
    "print(rastrigin(A, 2, x_values))"
   ]
  },
  {
   "cell_type": "code",
   "execution_count": 7,
   "metadata": {},
   "outputs": [
    {
     "name": "stdout",
     "output_type": "stream",
     "text": [
      "[[ 2.53698685  2.58865401 -4.95973661 -1.05136507  1.65904172]\n",
      " [ 7.92634802  6.9725369   7.00636301  6.30469239  6.28200529]\n",
      " [ 9.4920616   9.12417805  9.12093909  9.29151329  9.30128533]]\n"
     ]
    }
   ],
   "source": [
    "def __create_vector__(size, bounds) -> list:\n",
    "        points = []\n",
    "        for i in range(len(bounds)):\n",
    "            points.append([np.random.uniform(bounds[i][0], bounds[i][1]) for _ in range(size)])\n",
    "        return np.array(points)\n",
    "\n",
    "\n",
    "# space = [\n",
    "#     [2.6, 3.6],\n",
    "#     [0.7, 0.8],\n",
    "#     [17, 28],\n",
    "#     [7.3, 8.3],\n",
    "#     [7.8, 8.3],\n",
    "#     [2.9, 3.9],\n",
    "#     [5, 5.5]\n",
    "# ]\n",
    "\n",
    "\n",
    "\n",
    "mas = __create_vector__(5, [[-5, 5], [6, 8], [9, 10]])\n",
    "print((mas))"
   ]
  },
  {
   "cell_type": "code",
   "execution_count": 8,
   "metadata": {},
   "outputs": [
    {
     "name": "stdout",
     "output_type": "stream",
     "text": [
      "[[ 2.53698685  2.58865401 -4.95973661 -1.05136507  1.65904172]\n",
      " [ 7.92634802  6.9725369   7.00636301  6.30469239  6.28200529]\n",
      " [ 9.4920616   9.12417805  9.12093909  9.29151329  9.30128533]]\n"
     ]
    }
   ],
   "source": [
    "print(mas)"
   ]
  },
  {
   "cell_type": "code",
   "execution_count": 9,
   "metadata": {},
   "outputs": [
    {
     "name": "stdout",
     "output_type": "stream",
     "text": [
      "[200.1330697  160.09733435 159.9567598  153.6510916  169.30322752]\n"
     ]
    }
   ],
   "source": [
    "import math\n",
    "\n",
    "def rastrigin(X):\n",
    "    n = len(X)  \n",
    "    return 10*n + sum([xi**2 - 10*np.cos(2*np.pi*xi) for xi in X])\n",
    "\n",
    "print(rastrigin(mas))"
   ]
  },
  {
   "cell_type": "code",
   "execution_count": 10,
   "metadata": {},
   "outputs": [
    {
     "name": "stdout",
     "output_type": "stream",
     "text": [
      "[[ 0.25463462  0.90288669]\n",
      " [ 0.07470689  2.20266899]\n",
      " [ 0.43239899  1.40083676]\n",
      " [-1.09378664  1.67657691]\n",
      " [-0.60839754  1.16525659]]\n"
     ]
    }
   ],
   "source": [
    "bounds = np.array([[-1.5, 1.5], [-0.5, 2.5]])\n",
    "n = 5\n",
    "\n",
    "def initialize_fireflies(bounds, n):\n",
    "    return np.random.uniform(bounds[:, 0], bounds[:, 1], (n, len(bounds)))\n",
    "\n",
    "print(initialize_fireflies(bounds, n))"
   ]
  },
  {
   "cell_type": "code",
   "execution_count": 11,
   "metadata": {},
   "outputs": [
    {
     "name": "stdout",
     "output_type": "stream",
     "text": [
      "Best solution for Rastrigin: [-1.35548363 -1.0516739  -0.94962841  3.23961216 -0.11443297  3.65631013\n",
      " -1.85982575  2.94870011 -3.1685653  -3.95853677]\n",
      "Best fitness for Rastrigin: 119.723737003011\n",
      "Best solution for Rosenbrock: [0.9959115  0.99191156]\n",
      "Best fitness for Rosenbrock: 1.7231888416487392e-05\n"
     ]
    }
   ],
   "source": [
    "import numpy as np\n",
    "\n",
    "class FireflyAlgorithm: \n",
    "    def __init__(self, objective_function, colony_size, bounds, max_iter=100, beta0=1.0, gamma=1.0):\n",
    "        self.objective_function = objective_function\n",
    "        self.colony_size = colony_size\n",
    "        self.bounds = bounds\n",
    "        self.max_iter = max_iter\n",
    "        self.beta0 = beta0\n",
    "        self.gamma = gamma\n",
    "    \n",
    "    def __create_vector__(self):\n",
    "        points = []\n",
    "        for i in range(len(self.bounds)):\n",
    "            points.append([np.random.uniform(self.bounds[i][0], self.bounds[i][1]) for _ in range(self.colony_size)])\n",
    "        return np.array(points)\n",
    "    \n",
    "    def move_fireflies(self, fireflies, intensities):\n",
    "        for i in range(self.colony_size):\n",
    "            for j in range(self.colony_size):\n",
    "                if intensities[i] > intensities[j]:\n",
    "                    r = np.linalg.norm(fireflies[:, i] - fireflies[:, j])\n",
    "                    beta = self.beta0 * np.exp(-self.gamma * r**2)\n",
    "                    fireflies[:, i] += beta * (fireflies[:, j] - fireflies[:, i]) + 0.01 * np.random.randn(len(self.bounds))\n",
    "                    for k in range(len(self.bounds)):\n",
    "                        fireflies[k, i] = np.clip(fireflies[k, i], self.bounds[k][0], self.bounds[k][1])\n",
    "        intensities = [self.objective_function(firefly) for firefly in fireflies.T]\n",
    "        return fireflies, intensities\n",
    "    \n",
    "    def optimize(self):\n",
    "        fireflies = self.__create_vector__()\n",
    "        intensities = [self.objective_function(firefly) for firefly in fireflies.T]\n",
    "        \n",
    "        for _ in range(self.max_iter):\n",
    "            fireflies, intensities = self.move_fireflies(fireflies, intensities)\n",
    "        \n",
    "        best_index = np.argmin(intensities)\n",
    "        best_solution = fireflies[:, best_index]\n",
    "        best_fitness = intensities[best_index]\n",
    "        \n",
    "        return best_solution, best_fitness\n",
    "\n",
    "# Example usage for Rastrigin function\n",
    "def rastrigin(x):\n",
    "    n = len(x)\n",
    "    return 10 * n + sum([(xi ** 2 - 10 * np.cos(2 * np.pi * xi)) for xi in x])\n",
    "\n",
    "bounds_rastrigin = [[-5.12, 5.12]] * 10\n",
    "fa_rastrigin = FireflyAlgorithm(rastrigin, colony_size=20, bounds=bounds_rastrigin)\n",
    "best_solution_rastrigin, best_fitness_rastrigin = fa_rastrigin.optimize()\n",
    "print(\"Best solution for Rastrigin:\", best_solution_rastrigin)\n",
    "print(\"Best fitness for Rastrigin:\", best_fitness_rastrigin)\n",
    "\n",
    "# Example usage for Rosenbrock function\n",
    "def rosenbrock(x):\n",
    "    return sum(100.0*(x[1:]-x[:-1]**2.0)**2.0 + (1-x[:-1])**2.0)\n",
    "\n",
    "bounds_rosenbrock = [[-1.5, 1.5], [-0.5, 2.5]]\n",
    "fa_rosenbrock = FireflyAlgorithm(rosenbrock, colony_size=20, bounds=bounds_rosenbrock)\n",
    "best_solution_rosenbrock, best_fitness_rosenbrock = fa_rosenbrock.optimize()\n",
    "print(\"Best solution for Rosenbrock:\", best_solution_rosenbrock)\n",
    "print(\"Best fitness for Rosenbrock:\", best_fitness_rosenbrock)\n"
   ]
  },
  {
   "cell_type": "markdown",
   "metadata": {},
   "source": [
    "# Code"
   ]
  },
  {
   "cell_type": "code",
   "execution_count": 29,
   "metadata": {},
   "outputs": [
    {
     "name": "stdout",
     "output_type": "stream",
     "text": [
      "PSO found best solution at f([1.59897111 2.55565356])=0.3588776980084074\n",
      "Global optimal at f([1.0101010101010102, 1.0101010101010102])=0.010512233961913071\n"
     ]
    },
    {
     "data": {
      "image/png": "[encoded data removed]",
      "text/plain": [
       "<Figure size 800x600 with 2 Axes>"
      ]
     },
     "metadata": {},
     "output_type": "display_data"
    }
   ],
   "source": [
    "import numpy as np\n",
    "import matplotlib.pyplot as plt\n",
    "from matplotlib.animation import FuncAnimation\n",
    "\n",
    "def f(x,y):\n",
    "    condition_1 = ( (x - 1)**3 - y + 1 >= 0 )\n",
    "    condition_2 = ( x + y - 2 >= 0 )\n",
    "\n",
    "    func_values = np.array((1-x)**2 + 100*(y-x**2)**2)\n",
    "    func_values[np.logical_and(condition_1, condition_2)] = 10000\n",
    "    return func_values\n",
    "    \n",
    "# Compute and plot the function in 3D within [0,5]x[0,5]\n",
    "x, y = np.array(np.meshgrid(np.linspace(0,5,100), np.linspace(0,5,100)))\n",
    "z = f(x, y)\n",
    "\n",
    "# Find the global minimum\n",
    "x_min = x.ravel()[z.argmin()]\n",
    "y_min = y.ravel()[z.argmin()]\n",
    "\n",
    "# Hyper-parameter of the algorithm\n",
    "c1 = c2 = 0.1\n",
    "w = 0.8\n",
    "\n",
    "# Create particles\n",
    "n_particles = 20\n",
    "bounds=[[0,5], [0, 5]]\n",
    "\n",
    "def __create_vector__(size=20, bounds=[[0,5], [0, 5]]) -> list:\n",
    "        points = []\n",
    "        for i in range(len(bounds)):\n",
    "            points.append([np.random.uniform(bounds[i][0], bounds[i][1]) for _ in range(size)])\n",
    "        return np.array(points)\n",
    "\n",
    "\n",
    "X = __create_vector__()\n",
    "V = np.random.randn(len(bounds), n_particles) * 0.1\n",
    "\n",
    "# Initialize data\n",
    "pbest = X\n",
    "pbest_obj = f(X[0], X[1])\n",
    "gbest = pbest[:, pbest_obj.argmin()]\n",
    "gbest_obj = pbest_obj.min()\n",
    "\n",
    "value = {'X': []}\n",
    "\n",
    "def update():\n",
    "    for _ in range(50):\n",
    "        \"Function to do one iteration of particle swarm optimization\"\n",
    "        global V, X, pbest, pbest_obj, gbest, gbest_obj\n",
    "        # Update params\n",
    "        r1, r2 = np.random.rand(2)\n",
    "        V = w * V + c1*r1*(pbest - X) + c2*r2*(gbest.reshape(-1,1)-X)\n",
    "        X = X + V\n",
    "        obj = f(X[0], X[1])\n",
    "        pbest[:, (pbest_obj >= obj)] = X[:, (pbest_obj >= obj)]\n",
    "        pbest_obj = np.array([pbest_obj, obj]).min(axis=0)\n",
    "        gbest = pbest[:, pbest_obj.argmin()]\n",
    "        gbest_obj = pbest_obj.min()\n",
    "        value[\"X\"].append(X)\n",
    "\n",
    "# Set up base figure: The contour map\n",
    "fig, ax = plt.subplots(figsize=(8,6))\n",
    "fig.set_tight_layout(True)\n",
    "img = ax.imshow(z, extent=[0, 5, 0, 5], origin='lower', cmap='viridis', alpha=0.5)\n",
    "fig.colorbar(img, ax=ax)\n",
    "ax.plot([x_min], [y_min], marker='x', markersize=5, color=\"white\")\n",
    "#contours = ax.contour(x, y, z, 10, colors='black', alpha=0.4)\n",
    "#ax.clabel(contours, inline=True, fontsize=8, fmt=\"%.0f\")\n",
    "p_plot = ax.scatter(X[0], X[1], marker='o', color='blue', alpha=0.5)\n",
    "#gbest_plot = plt.scatter([gbest[0]], [gbest[1]], marker='*', s=100, color='black', alpha=0.4)\n",
    "ax.set_xlim([0,5])\n",
    "ax.set_ylim([0,5])\n",
    "\n",
    "def animate(i):\n",
    "    \"Steps of PSO: algorithm update and show in plot\"\n",
    "    title = 'Iteration {:02d}'.format(i)\n",
    "    # Update params\n",
    "    #update()\n",
    "    # Set picture\n",
    "    ax.set_title(title)\n",
    "    p_plot.set_offsets(value[\"X\"][i].T)\n",
    "    return ax, p_plot\n",
    "\n",
    "\n",
    "update()\n",
    "anim = FuncAnimation(fig, animate, frames=len(value[\"X\"]), interval=200, blit=False, repeat=True)\n",
    "anim.save(\"PSO.gif\", dpi=120, writer=\"pillow\")\n",
    "\n",
    "# print('X', X)\n",
    "# print('pbest', pbest)\n",
    "print(\"PSO found best solution at f({})={}\".format(gbest, gbest_obj))\n",
    "print(\"Global optimal at f({})={}\".format([x_min,y_min], f(x_min,y_min)))"
   ]
  }
 ],
 "metadata": {
  "kernelspec": {
   "display_name": "Python 3",
   "language": "python",
   "name": "python3"
  },
  "language_info": {
   "codemirror_mode": {
    "name": "ipython",
    "version": 3
   },
   "file_extension": ".py",
   "mimetype": "text/x-python",
   "name": "python",
   "nbconvert_exporter": "python",
   "pygments_lexer": "ipython3",
   "version": "3.10.8"
  }
 },
 "nbformat": 4,
 "nbformat_minor": 2
}
